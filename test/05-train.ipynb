{
 "cells": [
  {
   "cell_type": "markdown",
   "metadata": {},
   "source": [
    "# Train Notebook\n",
    "This notebook is used to perform various network training experiments. You can varing the hyperparameters related to your network in this notebook.\n",
    "\n",
    "In addition to all previous test notebooks, we also need to complete all the functions given below, from **model.py**, before running this notebook.\n",
    "\n",
    "Functions TO DO :\n",
    "\n",
    "- [ ] Step 6a: Class Model  ➜ setup_model\n",
    "- [ ] Step 6b: Class Model  ➜ train_step\n",
    "- [ ] Step 6c: Class Model  ➜ validation_step\n",
    "- [ ] Step 6d: Class Model  ➜ predict\n",
    "- [ ] Step 6e: Class Model  ➜ get_best_model\n",
    "\n",
    "\n"
   ]
  },
  {
   "cell_type": "code",
   "execution_count": 1,
   "metadata": {},
   "outputs": [],
   "source": [
    "%load_ext autoreload\n",
    "%autoreload 2"
   ]
  },
  {
   "cell_type": "code",
   "execution_count": 2,
   "metadata": {},
   "outputs": [],
   "source": [
    "import torch\n",
    "from torch.utils.data import Dataset, ConcatDataset\n",
    "from torchvision.transforms import Compose\n",
    "\n",
    "from data.image_dataset import ImageDataset\n",
    "from model import Model, get_device\n",
    "from network.unet import UNet\n",
    "from utils.experiment import Experiment\n",
    "from utils.augmentation import VerticalFlip, Rotate, ColRec, GaussianBlur, GaussianNoise, ZoomIn, ZoomOut\n",
    "from tqdm.autonotebook import tqdm\n"
   ]
  },
  {
   "cell_type": "markdown",
   "metadata": {},
   "source": [
    "### 1. Create Experiment\n",
    "Create a new experiment everytime you are training a new model.<br />\n",
    "For __training__, set the argument __train =True__ <br />\n",
    "For __predicting__ using a trained model, set the argument __new = False__ (See Predict notebook)\n",
    "\n",
    "Give a meaningful name for the experiment, such that you can understand what parameters were used for training.\n",
    "For example in the cell below, the experiment was named as 'Adam_w500' because we will be using the Adam optimiser and 1:500 weight ratio in the loss function.\n",
    "\n",
    "When you create an experiment, the following experiment folders will be created:\n",
    "1. data/network_data/Adam_w500 -> Stores the trained weights from each epoch as well as the experiment config file.\n",
    "2. data/output_data/Adam_w500 -> Stores the video output containing predictions for each frame.\n",
    "3. data/tensor_board_logs/Adam_w500 -> Stores the Tensorboard data generated during training\n",
    "\n"
   ]
  },
  {
   "cell_type": "code",
   "execution_count": 15,
   "metadata": {},
   "outputs": [],
   "source": [
    "# Creating an experiment for training.\n",
    "exp = Experiment(name='test23', train=True, overwrite=True)\n",
    "cfg_path=exp.params['cfg_path']"
   ]
  },
  {
   "cell_type": "markdown",
   "metadata": {},
   "source": [
    "### 2. Data Setup"
   ]
  },
  {
   "cell_type": "code",
   "execution_count": 16,
   "metadata": {},
   "outputs": [],
   "source": [
    "# Train Set\n",
    "augmentation_list_1 = Compose([\n",
    "                                  VerticalFlip(probability=0.5),\n",
    "                                  Rotate(probability=0.5),\n",
    "                                  ColRec(probability=0.5),\n",
    "                                  GaussianNoise(probability=0.5),\n",
    "                                  GaussianBlur(probability=0.5),\n",
    "                                  ZoomOut(probability=0.5),\n",
    "                                  ZoomIn(probability=0.5),\n",
    "                                 ])\n",
    "\n",
    "augmentation_list_2 = Compose([\n",
    "                                  VerticalFlip(probability=0.2),\n",
    "                                  Rotate(probability=0.1),\n",
    "                                  ColRec(probability=0.1),\n",
    "                                  GaussianNoise(probability=0.1),\n",
    "                                  GaussianBlur(probability=0.1),\n",
    "                                  ZoomOut(probability=0.1),\n",
    "                                  ZoomIn(probability=0.1),\n",
    "                                 ])\n",
    "\n",
    "augmentation_list_3 = Compose([\n",
    "                                  VerticalFlip(probability=0.4),\n",
    "                                  Rotate(probability=0.3),\n",
    "                                  ColRec(probability=0.3),\n",
    "                                  GaussianNoise(probability=0.3),\n",
    "                                  GaussianBlur(probability=0.5),\n",
    "                                  ZoomOut(probability=0.3),\n",
    "                                  ZoomIn(probability=0.3),\n",
    "                                 ])\n",
    "\n",
    "\n",
    "train_dataset = ConcatDataset(\n",
    "    [\n",
    "        ImageDataset(dataset_name='train1',cfg_path=cfg_path,\n",
    "                     is_train=True,augmentation=None),\n",
    "        \n",
    "        ImageDataset(dataset_name='train2',cfg_path=cfg_path,\n",
    "                     is_train=True,augmentation=None),\n",
    "        \n",
    "        ImageDataset(dataset_name='train3',cfg_path=cfg_path,\n",
    "                     is_train=True,augmentation=None),\n",
    "        \n",
    "        ImageDataset(dataset_name='CARLA_Train',cfg_path=cfg_path,\n",
    "                     is_train=True,augmentation=None),\n",
    "    \n",
    "        ImageDataset(dataset_name='Real_No_Lane_Train',cfg_path=cfg_path, \n",
    "                     is_train=True,augmentation=None),\n",
    "\n",
    "    ])\n",
    "\n",
    "train_loader = torch.utils.data.DataLoader(dataset=train_dataset,\n",
    "                                               batch_size=6,\n",
    "                                               shuffle=True, num_workers=0)\n",
    "\n",
    "# Test Set\n",
    "test_dataset =  ConcatDataset([ImageDataset(dataset_name='Sim_Lane_Test',size=20,cfg_path=cfg_path,is_train=False, seed=5), \n",
    "                              ImageDataset(dataset_name='CARLA_Test', cfg_path=cfg_path,is_train=False, seed=5)])\n",
    "\n",
    "test_loader = torch.utils.data.DataLoader(dataset=test_dataset,\n",
    "                                              batch_size=1,\n",
    "                                              shuffle=False, num_workers=4)\n",
    "\n",
    "exp.update_configs()"
   ]
  },
  {
   "cell_type": "markdown",
   "metadata": {},
   "source": [
    "### 3. Model Setup"
   ]
  },
  {
   "cell_type": "code",
   "execution_count": 17,
   "metadata": {},
   "outputs": [],
   "source": [
    "# Initialize the model\n",
    "model = Model(exp,net=UNet)"
   ]
  },
  {
   "cell_type": "code",
   "execution_count": 18,
   "metadata": {},
   "outputs": [],
   "source": [
    "#Defime optimiser parameters\n",
    "optimiser= torch.optim.Adam\n",
    "optimiser_params = {'lr': 0.0002}\n"
   ]
  },
  {
   "cell_type": "code",
   "execution_count": 19,
   "metadata": {},
   "outputs": [],
   "source": [
    "# Weighted Loss function\n",
    "no_lane_weight = 1\n",
    "lane_weight = 500\n",
    "\n",
    "device = get_device()\n",
    "\n",
    "# Non-lane is class 0 and lane is class 1\n",
    "# loss function weight array -> [class_0_wt, class_1_wt]\n",
    "\n",
    "weight = torch.FloatTensor([no_lane_weight, lane_weight]).to(device)\n",
    "loss_func_params ={'weight' : weight}"
   ]
  },
  {
   "cell_type": "code",
   "execution_count": 20,
   "metadata": {},
   "outputs": [],
   "source": [
    "model.setup_model(optimiser=optimiser,\n",
    "                  optimiser_params=optimiser_params,\n",
    "                  loss_function=torch.nn.CrossEntropyLoss,\n",
    "                  loss_func_params=loss_func_params)"
   ]
  },
  {
   "cell_type": "markdown",
   "metadata": {},
   "source": [
    "### 4. Training "
   ]
  },
  {
   "cell_type": "code",
   "execution_count": 21,
   "metadata": {},
   "outputs": [
    {
     "name": "stdout",
     "output_type": "stream",
     "text": [
      "\t\t Avg.Loss \t Accuracy \t Lane F1 Score\n",
      "Epoch [1/500]\n"
     ]
    },
    {
     "data": {
      "application/vnd.jupyter.widget-view+json": {
       "model_id": "295ac809668d49d7a4bd7e4ed2253a4c",
       "version_major": 2,
       "version_minor": 0
      },
      "text/plain": [
       "HBox(children=(FloatProgress(value=0.0, max=275.0), HTML(value='')))"
      ]
     },
     "metadata": {},
     "output_type": "display_data"
    },
    {
     "name": "stdout",
     "output_type": "stream",
     "text": [
      "\n",
      "Train \t\t  0.0768\t   81.72%\t   19.63%\n",
      "Test \t\t  0.1293\t   78.17%\t   15.09%\n",
      "Epoch [2/500]\n"
     ]
    },
    {
     "data": {
      "application/vnd.jupyter.widget-view+json": {
       "model_id": "93690e3163ce44d2b537082296405563",
       "version_major": 2,
       "version_minor": 0
      },
      "text/plain": [
       "HBox(children=(FloatProgress(value=0.0, max=275.0), HTML(value='')))"
      ]
     },
     "metadata": {},
     "output_type": "display_data"
    },
    {
     "name": "stdout",
     "output_type": "stream",
     "text": [
      "\n",
      "Train \t\t  0.0479\t   90.83%\t   32.79%\n",
      "Test \t\t  0.1017\t   88.67%\t   25.34%\n",
      "Epoch [3/500]\n"
     ]
    },
    {
     "data": {
      "application/vnd.jupyter.widget-view+json": {
       "model_id": "6d5fd06ec0104dc081bc9964a0405d86",
       "version_major": 2,
       "version_minor": 0
      },
      "text/plain": [
       "HBox(children=(FloatProgress(value=0.0, max=275.0), HTML(value='')))"
      ]
     },
     "metadata": {},
     "output_type": "display_data"
    },
    {
     "name": "stdout",
     "output_type": "stream",
     "text": [
      "\n",
      "Train \t\t  0.0321\t   93.49%\t   40.81%\n",
      "Test \t\t  0.0773\t   91.60%\t   31.49%\n",
      "Epoch [4/500]\n"
     ]
    },
    {
     "data": {
      "application/vnd.jupyter.widget-view+json": {
       "model_id": "4cc389be5c4b4a7997d8f309baf571e5",
       "version_major": 2,
       "version_minor": 0
      },
      "text/plain": [
       "HBox(children=(FloatProgress(value=0.0, max=275.0), HTML(value='')))"
      ]
     },
     "metadata": {},
     "output_type": "display_data"
    },
    {
     "name": "stdout",
     "output_type": "stream",
     "text": [
      "\n",
      "Train \t\t  0.0297\t   94.14%\t   43.37%\n",
      "Test \t\t  0.0789\t   89.79%\t   27.51%\n",
      "Epoch [5/500]\n"
     ]
    },
    {
     "data": {
      "application/vnd.jupyter.widget-view+json": {
       "model_id": "f8db80844b004d5ab876b368de2da1ac",
       "version_major": 2,
       "version_minor": 0
      },
      "text/plain": [
       "HBox(children=(FloatProgress(value=0.0, max=275.0), HTML(value='')))"
      ]
     },
     "metadata": {},
     "output_type": "display_data"
    },
    {
     "name": "stdout",
     "output_type": "stream",
     "text": [
      "\n",
      "Train \t\t  0.0248\t   95.38%\t   49.25%\n",
      "Test \t\t  0.1368\t   73.36%\t   12.65%\n",
      "Epoch [6/500]\n"
     ]
    },
    {
     "data": {
      "application/vnd.jupyter.widget-view+json": {
       "model_id": "1f48c8379c484087bf973a74b8fd0d89",
       "version_major": 2,
       "version_minor": 0
      },
      "text/plain": [
       "HBox(children=(FloatProgress(value=0.0, max=275.0), HTML(value='')))"
      ]
     },
     "metadata": {},
     "output_type": "display_data"
    },
    {
     "name": "stdout",
     "output_type": "stream",
     "text": [
      "\n",
      "Train \t\t  0.0284\t   94.06%\t   43.03%\n",
      "Test \t\t  0.0883\t   88.17%\t   24.67%\n",
      "Epoch [7/500]\n"
     ]
    },
    {
     "data": {
      "application/vnd.jupyter.widget-view+json": {
       "model_id": "059b51e13a5a453b875a25a84c31e3ee",
       "version_major": 2,
       "version_minor": 0
      },
      "text/plain": [
       "HBox(children=(FloatProgress(value=0.0, max=275.0), HTML(value='')))"
      ]
     },
     "metadata": {},
     "output_type": "display_data"
    },
    {
     "name": "stdout",
     "output_type": "stream",
     "text": [
      "\n",
      "Train \t\t  0.0242\t   94.50%\t   44.96%\n",
      "Test \t\t  0.0692\t   89.99%\t   27.89%\n",
      "Epoch [8/500]\n"
     ]
    },
    {
     "data": {
      "application/vnd.jupyter.widget-view+json": {
       "model_id": "f4d7104a42ac4553a7e0970ab732fc2e",
       "version_major": 2,
       "version_minor": 0
      },
      "text/plain": [
       "HBox(children=(FloatProgress(value=0.0, max=275.0), HTML(value='')))"
      ]
     },
     "metadata": {},
     "output_type": "display_data"
    },
    {
     "name": "stdout",
     "output_type": "stream",
     "text": [
      "\n",
      "Train \t\t  0.0195\t   95.78%\t   51.55%\n",
      "Test \t\t  0.0621\t   90.50%\t   29.07%\n",
      "Epoch [9/500]\n"
     ]
    },
    {
     "data": {
      "application/vnd.jupyter.widget-view+json": {
       "model_id": "3630be55e2ca45c28e01e22298ac616e",
       "version_major": 2,
       "version_minor": 0
      },
      "text/plain": [
       "HBox(children=(FloatProgress(value=0.0, max=275.0), HTML(value='')))"
      ]
     },
     "metadata": {},
     "output_type": "display_data"
    },
    {
     "name": "stdout",
     "output_type": "stream",
     "text": [
      "\n",
      "Train \t\t  0.0166\t   96.20%\t   54.21%\n",
      "Test \t\t  0.0633\t   90.55%\t   29.09%\n",
      "Epoch [10/500]\n"
     ]
    },
    {
     "data": {
      "application/vnd.jupyter.widget-view+json": {
       "model_id": "9e919cf49a0246f9b44184aec96e7c0f",
       "version_major": 2,
       "version_minor": 0
      },
      "text/plain": [
       "HBox(children=(FloatProgress(value=0.0, max=275.0), HTML(value='')))"
      ]
     },
     "metadata": {},
     "output_type": "display_data"
    },
    {
     "name": "stdout",
     "output_type": "stream",
     "text": [
      "\n",
      "Train \t\t  0.0164\t   96.41%\t   55.62%\n",
      "Test \t\t  0.0586\t   92.70%\t   34.65%\n",
      "Epoch [11/500]\n"
     ]
    },
    {
     "data": {
      "application/vnd.jupyter.widget-view+json": {
       "model_id": "3bd8aae7412f4352a5e1ea4d5a977964",
       "version_major": 2,
       "version_minor": 0
      },
      "text/plain": [
       "HBox(children=(FloatProgress(value=0.0, max=275.0), HTML(value='')))"
      ]
     },
     "metadata": {},
     "output_type": "display_data"
    },
    {
     "name": "stdout",
     "output_type": "stream",
     "text": [
      "\n",
      "Train \t\t  0.0151\t   96.64%\t   57.20%\n",
      "Test \t\t  0.0714\t   91.51%\t   31.20%\n",
      "Epoch [12/500]\n"
     ]
    },
    {
     "data": {
      "application/vnd.jupyter.widget-view+json": {
       "model_id": "2db0c808f849419aba2c6b4858f825d7",
       "version_major": 2,
       "version_minor": 0
      },
      "text/plain": [
       "HBox(children=(FloatProgress(value=0.0, max=275.0), HTML(value='')))"
      ]
     },
     "metadata": {},
     "output_type": "display_data"
    },
    {
     "name": "stdout",
     "output_type": "stream",
     "text": [
      "\n",
      "Train \t\t  0.0167\t   96.40%\t   55.54%\n",
      "Test \t\t  0.0729\t   93.11%\t   35.85%\n",
      "Epoch [13/500]\n"
     ]
    },
    {
     "data": {
      "application/vnd.jupyter.widget-view+json": {
       "model_id": "5310cc56762040de9fa2572b808e07d1",
       "version_major": 2,
       "version_minor": 0
      },
      "text/plain": [
       "HBox(children=(FloatProgress(value=0.0, max=275.0), HTML(value='')))"
      ]
     },
     "metadata": {},
     "output_type": "display_data"
    },
    {
     "name": "stdout",
     "output_type": "stream",
     "text": [
      "\n",
      "Train \t\t  0.0158\t   96.56%\t   56.66%\n",
      "Test \t\t  0.0580\t   93.14%\t   36.01%\n",
      "Epoch [14/500]\n"
     ]
    },
    {
     "data": {
      "application/vnd.jupyter.widget-view+json": {
       "model_id": "e19de63e26864aeaa537b3c8cccc91bb",
       "version_major": 2,
       "version_minor": 0
      },
      "text/plain": [
       "HBox(children=(FloatProgress(value=0.0, max=275.0), HTML(value='')))"
      ]
     },
     "metadata": {},
     "output_type": "display_data"
    },
    {
     "name": "stdout",
     "output_type": "stream",
     "text": [
      "\n",
      "Train \t\t  0.0202\t   94.94%\t   47.01%\n",
      "Test \t\t  0.0694\t   90.25%\t   28.38%\n",
      "Epoch [15/500]\n"
     ]
    },
    {
     "data": {
      "application/vnd.jupyter.widget-view+json": {
       "model_id": "3e16965a931f49b6a28dc27d12c5c3d5",
       "version_major": 2,
       "version_minor": 0
      },
      "text/plain": [
       "HBox(children=(FloatProgress(value=0.0, max=275.0), HTML(value='')))"
      ]
     },
     "metadata": {},
     "output_type": "display_data"
    },
    {
     "name": "stdout",
     "output_type": "stream",
     "text": [
      "\n",
      "Train \t\t  0.0171\t   96.32%\t   55.00%\n",
      "Test \t\t  0.0524\t   92.03%\t   32.76%\n",
      "Epoch [16/500]\n"
     ]
    },
    {
     "data": {
      "application/vnd.jupyter.widget-view+json": {
       "model_id": "d3c4a9fdae624a74a3a8710d8ddd52f9",
       "version_major": 2,
       "version_minor": 0
      },
      "text/plain": [
       "HBox(children=(FloatProgress(value=0.0, max=275.0), HTML(value='')))"
      ]
     },
     "metadata": {},
     "output_type": "display_data"
    },
    {
     "name": "stdout",
     "output_type": "stream",
     "text": [
      "\n",
      "Train \t\t  0.0136\t   96.94%\t   59.52%\n",
      "Test \t\t  0.0674\t   94.31%\t   40.21%\n",
      "Epoch [17/500]\n"
     ]
    },
    {
     "data": {
      "application/vnd.jupyter.widget-view+json": {
       "model_id": "2e272f5b244f4c80b332609b3bd85b0b",
       "version_major": 2,
       "version_minor": 0
      },
      "text/plain": [
       "HBox(children=(FloatProgress(value=0.0, max=275.0), HTML(value='')))"
      ]
     },
     "metadata": {},
     "output_type": "display_data"
    },
    {
     "name": "stdout",
     "output_type": "stream",
     "text": [
      "\n",
      "Train \t\t  0.0139\t   96.80%\t   58.37%\n",
      "Test \t\t  0.0744\t   91.30%\t   30.72%\n",
      "Epoch [18/500]\n"
     ]
    },
    {
     "data": {
      "application/vnd.jupyter.widget-view+json": {
       "model_id": "84b2b6563ba248f5a67dc23a76851146",
       "version_major": 2,
       "version_minor": 0
      },
      "text/plain": [
       "HBox(children=(FloatProgress(value=0.0, max=275.0), HTML(value='')))"
      ]
     },
     "metadata": {},
     "output_type": "display_data"
    },
    {
     "name": "stdout",
     "output_type": "stream",
     "text": [
      "\n",
      "Train \t\t  0.0123\t   97.19%\t   61.56%\n",
      "Test \t\t  0.0767\t   90.61%\t   29.17%\n",
      "Epoch [19/500]\n"
     ]
    },
    {
     "data": {
      "application/vnd.jupyter.widget-view+json": {
       "model_id": "2221c5bfec314525b37d52fa7458fa14",
       "version_major": 2,
       "version_minor": 0
      },
      "text/plain": [
       "HBox(children=(FloatProgress(value=0.0, max=275.0), HTML(value='')))"
      ]
     },
     "metadata": {},
     "output_type": "display_data"
    },
    {
     "name": "stdout",
     "output_type": "stream",
     "text": [
      "\n",
      "Train \t\t  0.0195\t   97.15%\t   61.19%\n",
      "Test \t\t  0.0982\t   92.89%\t   34.83%\n",
      "Epoch [20/500]\n"
     ]
    },
    {
     "data": {
      "application/vnd.jupyter.widget-view+json": {
       "model_id": "7b550d8cd11e41d5b0a3fd07831911eb",
       "version_major": 2,
       "version_minor": 0
      },
      "text/plain": [
       "HBox(children=(FloatProgress(value=0.0, max=275.0), HTML(value='')))"
      ]
     },
     "metadata": {},
     "output_type": "display_data"
    },
    {
     "name": "stdout",
     "output_type": "stream",
     "text": [
      "\n",
      "Train \t\t  0.0192\t   95.35%\t   49.13%\n",
      "Test \t\t  0.0569\t   90.07%\t   28.13%\n",
      "Epoch [21/500]\n"
     ]
    },
    {
     "data": {
      "application/vnd.jupyter.widget-view+json": {
       "model_id": "24aaa0447f8f48d194f9e3179ae1bb9b",
       "version_major": 2,
       "version_minor": 0
      },
      "text/plain": [
       "HBox(children=(FloatProgress(value=0.0, max=275.0), HTML(value='')))"
      ]
     },
     "metadata": {},
     "output_type": "display_data"
    },
    {
     "name": "stdout",
     "output_type": "stream",
     "text": [
      "\n",
      "Train \t\t  0.0172\t   96.63%\t   57.14%\n",
      "Test \t\t  0.1011\t   79.69%\t   16.06%\n",
      "Epoch [22/500]\n"
     ]
    },
    {
     "data": {
      "application/vnd.jupyter.widget-view+json": {
       "model_id": "bb087975e4be409bab828afc0b60f72f",
       "version_major": 2,
       "version_minor": 0
      },
      "text/plain": [
       "HBox(children=(FloatProgress(value=0.0, max=275.0), HTML(value='')))"
      ]
     },
     "metadata": {},
     "output_type": "display_data"
    },
    {
     "name": "stdout",
     "output_type": "stream",
     "text": [
      "\n",
      "Train \t\t  0.0504\t   90.29%\t   31.50%\n",
      "Test \t\t  0.0884\t   82.76%\t   18.38%\n",
      "Epoch [23/500]\n"
     ]
    },
    {
     "data": {
      "application/vnd.jupyter.widget-view+json": {
       "model_id": "00ad2ed7d87340a1a7e8a3e4fff3e20f",
       "version_major": 2,
       "version_minor": 0
      },
      "text/plain": [
       "HBox(children=(FloatProgress(value=0.0, max=275.0), HTML(value='')))"
      ]
     },
     "metadata": {},
     "output_type": "display_data"
    },
    {
     "name": "stdout",
     "output_type": "stream",
     "text": [
      "\n",
      "Train \t\t  0.0227\t   94.48%\t   44.82%\n",
      "Test \t\t  0.0675\t   92.19%\t   33.11%\n",
      "Epoch [24/500]\n"
     ]
    },
    {
     "data": {
      "application/vnd.jupyter.widget-view+json": {
       "model_id": "260e01f3a62141b0807a88673f926bf5",
       "version_major": 2,
       "version_minor": 0
      },
      "text/plain": [
       "HBox(children=(FloatProgress(value=0.0, max=275.0), HTML(value='')))"
      ]
     },
     "metadata": {},
     "output_type": "display_data"
    },
    {
     "name": "stdout",
     "output_type": "stream",
     "text": [
      "\n",
      "Train \t\t  0.0208\t   95.69%\t   51.02%\n",
      "Test \t\t  0.0716\t   91.90%\t   32.23%\n",
      "Epoch [25/500]\n"
     ]
    },
    {
     "data": {
      "application/vnd.jupyter.widget-view+json": {
       "model_id": "a21975af048e400a9f1494de541ba065",
       "version_major": 2,
       "version_minor": 0
      },
      "text/plain": [
       "HBox(children=(FloatProgress(value=0.0, max=275.0), HTML(value='')))"
      ]
     },
     "metadata": {},
     "output_type": "display_data"
    },
    {
     "name": "stdout",
     "output_type": "stream",
     "text": [
      "\n",
      "Train \t\t  0.0179\t   95.53%\t   50.15%\n",
      "Test \t\t  0.0644\t   93.85%\t   38.51%\n",
      "Epoch [26/500]\n"
     ]
    },
    {
     "data": {
      "application/vnd.jupyter.widget-view+json": {
       "model_id": "098922a1bb7e47d49382dddb367bdb3a",
       "version_major": 2,
       "version_minor": 0
      },
      "text/plain": [
       "HBox(children=(FloatProgress(value=0.0, max=275.0), HTML(value='')))"
      ]
     },
     "metadata": {},
     "output_type": "display_data"
    },
    {
     "name": "stdout",
     "output_type": "stream",
     "text": [
      "\n",
      "Train \t\t  0.0138\t   96.72%\t   57.80%\n",
      "Test \t\t  0.0586\t   93.29%\t   36.48%\n",
      "Epoch [27/500]\n"
     ]
    },
    {
     "data": {
      "application/vnd.jupyter.widget-view+json": {
       "model_id": "e0c1d74474ac4257ab65e3da618bece7",
       "version_major": 2,
       "version_minor": 0
      },
      "text/plain": [
       "HBox(children=(FloatProgress(value=0.0, max=275.0), HTML(value='')))"
      ]
     },
     "metadata": {},
     "output_type": "display_data"
    },
    {
     "name": "stdout",
     "output_type": "stream",
     "text": [
      "\n",
      "Train \t\t  0.0124\t   97.00%\t   59.98%\n",
      "Test \t\t  0.0577\t   93.92%\t   38.82%\n",
      "Epoch [28/500]\n"
     ]
    },
    {
     "data": {
      "application/vnd.jupyter.widget-view+json": {
       "model_id": "376855eaa94c4a8bb77bd998514d0afb",
       "version_major": 2,
       "version_minor": 0
      },
      "text/plain": [
       "HBox(children=(FloatProgress(value=0.0, max=275.0), HTML(value='')))"
      ]
     },
     "metadata": {},
     "output_type": "display_data"
    },
    {
     "name": "stdout",
     "output_type": "stream",
     "text": [
      "\n",
      "Train \t\t  0.0187\t   95.79%\t   51.60%\n",
      "Test \t\t  0.0538\t   95.20%\t   44.56%\n",
      "Epoch [29/500]\n"
     ]
    },
    {
     "data": {
      "application/vnd.jupyter.widget-view+json": {
       "model_id": "693040aeaeb04b6da198a0ce871e0966",
       "version_major": 2,
       "version_minor": 0
      },
      "text/plain": [
       "HBox(children=(FloatProgress(value=0.0, max=275.0), HTML(value='')))"
      ]
     },
     "metadata": {},
     "output_type": "display_data"
    },
    {
     "name": "stdout",
     "output_type": "stream",
     "text": [
      "\n",
      "Train \t\t  0.0134\t   96.98%\t   59.81%\n",
      "Test \t\t  0.0714\t   92.59%\t   34.21%\n",
      "Epoch [30/500]\n"
     ]
    },
    {
     "data": {
      "application/vnd.jupyter.widget-view+json": {
       "model_id": "869975c695654218b8716843d28d62da",
       "version_major": 2,
       "version_minor": 0
      },
      "text/plain": [
       "HBox(children=(FloatProgress(value=0.0, max=275.0), HTML(value='')))"
      ]
     },
     "metadata": {},
     "output_type": "display_data"
    },
    {
     "name": "stdout",
     "output_type": "stream",
     "text": [
      "\n",
      "Train \t\t  0.0107\t   97.42%\t   63.55%\n",
      "Test \t\t  0.0491\t   95.60%\t   46.69%\n",
      "Epoch [31/500]\n"
     ]
    },
    {
     "data": {
      "application/vnd.jupyter.widget-view+json": {
       "model_id": "375e10974d5047a98ba9afd6d5f02f4f",
       "version_major": 2,
       "version_minor": 0
      },
      "text/plain": [
       "HBox(children=(FloatProgress(value=0.0, max=275.0), HTML(value='')))"
      ]
     },
     "metadata": {},
     "output_type": "display_data"
    },
    {
     "name": "stdout",
     "output_type": "stream",
     "text": [
      "\n",
      "Train \t\t  0.0110\t   97.56%\t   64.80%\n",
      "Test \t\t  0.0614\t   93.59%\t   37.50%\n",
      "Epoch [32/500]\n"
     ]
    },
    {
     "data": {
      "application/vnd.jupyter.widget-view+json": {
       "model_id": "3ca8ea209dc54416bc5f62611f6f1437",
       "version_major": 2,
       "version_minor": 0
      },
      "text/plain": [
       "HBox(children=(FloatProgress(value=0.0, max=275.0), HTML(value='')))"
      ]
     },
     "metadata": {},
     "output_type": "display_data"
    },
    {
     "name": "stdout",
     "output_type": "stream",
     "text": [
      "\n",
      "Train \t\t  0.0102\t   97.63%\t   65.52%\n",
      "Test \t\t  0.0404\t   94.67%\t   42.12%\n",
      "Epoch [33/500]\n"
     ]
    },
    {
     "data": {
      "application/vnd.jupyter.widget-view+json": {
       "model_id": "43fdf1179bee49f187ef78eb4509f9b3",
       "version_major": 2,
       "version_minor": 0
      },
      "text/plain": [
       "HBox(children=(FloatProgress(value=0.0, max=275.0), HTML(value='')))"
      ]
     },
     "metadata": {},
     "output_type": "display_data"
    },
    {
     "name": "stdout",
     "output_type": "stream",
     "text": [
      "\n",
      "Train \t\t  0.0098\t   97.64%\t   65.61%\n",
      "Test \t\t  0.0558\t   95.20%\t   44.54%\n",
      "Epoch [34/500]\n"
     ]
    },
    {
     "data": {
      "application/vnd.jupyter.widget-view+json": {
       "model_id": "c4a36c9838644dedb405d95001681e99",
       "version_major": 2,
       "version_minor": 0
      },
      "text/plain": [
       "HBox(children=(FloatProgress(value=0.0, max=275.0), HTML(value='')))"
      ]
     },
     "metadata": {},
     "output_type": "display_data"
    },
    {
     "name": "stdout",
     "output_type": "stream",
     "text": [
      "\n",
      "Train \t\t  0.0123\t   97.43%\t   63.62%\n",
      "Test \t\t  0.0736\t   94.74%\t   42.04%\n",
      "Epoch [35/500]\n"
     ]
    },
    {
     "data": {
      "application/vnd.jupyter.widget-view+json": {
       "model_id": "24df0d2249fa4e4da73647f797e9e574",
       "version_major": 2,
       "version_minor": 0
      },
      "text/plain": [
       "HBox(children=(FloatProgress(value=0.0, max=275.0), HTML(value='')))"
      ]
     },
     "metadata": {},
     "output_type": "display_data"
    },
    {
     "name": "stdout",
     "output_type": "stream",
     "text": [
      "\n",
      "Train \t\t  0.0097\t   97.74%\t   66.52%\n",
      "Test \t\t  0.0417\t   94.81%\t   42.70%\n",
      "Epoch [36/500]\n"
     ]
    },
    {
     "data": {
      "application/vnd.jupyter.widget-view+json": {
       "model_id": "9489fbd854f84a109575cf2f1643d0df",
       "version_major": 2,
       "version_minor": 0
      },
      "text/plain": [
       "HBox(children=(FloatProgress(value=0.0, max=275.0), HTML(value='')))"
      ]
     },
     "metadata": {},
     "output_type": "display_data"
    },
    {
     "name": "stdout",
     "output_type": "stream",
     "text": [
      "\n",
      "Train \t\t  0.0086\t   97.95%\t   68.67%\n",
      "Test \t\t  0.0507\t   95.93%\t   48.70%\n",
      "Epoch [37/500]\n"
     ]
    },
    {
     "data": {
      "application/vnd.jupyter.widget-view+json": {
       "model_id": "fd74a52d046a494d8b6a14a3075ba280",
       "version_major": 2,
       "version_minor": 0
      },
      "text/plain": [
       "HBox(children=(FloatProgress(value=0.0, max=275.0), HTML(value='')))"
      ]
     },
     "metadata": {},
     "output_type": "display_data"
    },
    {
     "name": "stdout",
     "output_type": "stream",
     "text": [
      "\n",
      "Train \t\t  0.0117\t   97.22%\t   61.76%\n",
      "Test \t\t  0.0723\t   95.13%\t   44.04%\n",
      "Epoch [38/500]\n"
     ]
    },
    {
     "data": {
      "application/vnd.jupyter.widget-view+json": {
       "model_id": "a92c80b57b4f49098d4b6c78800a58f1",
       "version_major": 2,
       "version_minor": 0
      },
      "text/plain": [
       "HBox(children=(FloatProgress(value=0.0, max=275.0), HTML(value='')))"
      ]
     },
     "metadata": {},
     "output_type": "display_data"
    },
    {
     "name": "stdout",
     "output_type": "stream",
     "text": [
      "\n",
      "Train \t\t  0.0080\t   98.03%\t   69.59%\n",
      "Test \t\t  0.0429\t   95.75%\t   47.64%\n",
      "Epoch [39/500]\n"
     ]
    },
    {
     "data": {
      "application/vnd.jupyter.widget-view+json": {
       "model_id": "0ea5de8d0eaa4e9e8c46ed62773df3aa",
       "version_major": 2,
       "version_minor": 0
      },
      "text/plain": [
       "HBox(children=(FloatProgress(value=0.0, max=275.0), HTML(value='')))"
      ]
     },
     "metadata": {},
     "output_type": "display_data"
    },
    {
     "name": "stdout",
     "output_type": "stream",
     "text": [
      "\n",
      "Train \t\t  0.0081\t   98.01%\t   69.36%\n",
      "Test \t\t  0.0514\t   95.01%\t   43.59%\n",
      "Epoch [40/500]\n"
     ]
    },
    {
     "data": {
      "application/vnd.jupyter.widget-view+json": {
       "model_id": "ca85791f80fc40d883375628e04dfeba",
       "version_major": 2,
       "version_minor": 0
      },
      "text/plain": [
       "HBox(children=(FloatProgress(value=0.0, max=275.0), HTML(value='')))"
      ]
     },
     "metadata": {},
     "output_type": "display_data"
    },
    {
     "name": "stdout",
     "output_type": "stream",
     "text": [
      "\n",
      "Train \t\t  0.0075\t   98.10%\t   70.34%\n",
      "Test \t\t  0.0435\t   94.75%\t   42.46%\n",
      "Epoch [41/500]\n"
     ]
    },
    {
     "data": {
      "application/vnd.jupyter.widget-view+json": {
       "model_id": "5b3e778bf0ba42bb9a227789020f1ce3",
       "version_major": 2,
       "version_minor": 0
      },
      "text/plain": [
       "HBox(children=(FloatProgress(value=0.0, max=275.0), HTML(value='')))"
      ]
     },
     "metadata": {},
     "output_type": "display_data"
    },
    {
     "name": "stdout",
     "output_type": "stream",
     "text": [
      "\n",
      "Train \t\t  0.0106\t   97.51%\t   64.32%\n",
      "Test \t\t  0.0436\t   95.06%\t   43.94%\n",
      "Epoch [42/500]\n"
     ]
    },
    {
     "data": {
      "application/vnd.jupyter.widget-view+json": {
       "model_id": "f81ccf0810db44fa8fb1d2327be85953",
       "version_major": 2,
       "version_minor": 0
      },
      "text/plain": [
       "HBox(children=(FloatProgress(value=0.0, max=275.0), HTML(value='')))"
      ]
     },
     "metadata": {},
     "output_type": "display_data"
    },
    {
     "name": "stdout",
     "output_type": "stream",
     "text": [
      "\n",
      "Train \t\t  0.0076\t   98.11%\t   70.43%\n",
      "Test \t\t  0.0750\t   95.98%\t   48.80%\n",
      "Epoch [43/500]\n"
     ]
    },
    {
     "data": {
      "application/vnd.jupyter.widget-view+json": {
       "model_id": "51bfb0d7c91446a997a524878984148b",
       "version_major": 2,
       "version_minor": 0
      },
      "text/plain": [
       "HBox(children=(FloatProgress(value=0.0, max=275.0), HTML(value='')))"
      ]
     },
     "metadata": {},
     "output_type": "display_data"
    },
    {
     "name": "stdout",
     "output_type": "stream",
     "text": [
      "\n",
      "Train \t\t  0.0076\t   98.08%\t   70.09%\n",
      "Test \t\t  0.0650\t   94.71%\t   42.07%\n",
      "Epoch [44/500]\n"
     ]
    },
    {
     "data": {
      "application/vnd.jupyter.widget-view+json": {
       "model_id": "c2ce5de66f6b46e5a0cb42622468f560",
       "version_major": 2,
       "version_minor": 0
      },
      "text/plain": [
       "HBox(children=(FloatProgress(value=0.0, max=275.0), HTML(value='')))"
      ]
     },
     "metadata": {},
     "output_type": "display_data"
    },
    {
     "name": "stdout",
     "output_type": "stream",
     "text": [
      "\n",
      "Train \t\t  0.0126\t   97.08%\t   60.60%\n",
      "Test \t\t  0.0669\t   93.22%\t   36.25%\n",
      "Epoch [45/500]\n"
     ]
    },
    {
     "data": {
      "application/vnd.jupyter.widget-view+json": {
       "model_id": "8b05d1aed9c3497e9016363f31cc0df9",
       "version_major": 2,
       "version_minor": 0
      },
      "text/plain": [
       "HBox(children=(FloatProgress(value=0.0, max=275.0), HTML(value='')))"
      ]
     },
     "metadata": {},
     "output_type": "display_data"
    },
    {
     "name": "stdout",
     "output_type": "stream",
     "text": [
      "\n",
      "Train \t\t  0.0112\t   97.54%\t   64.60%\n",
      "Test \t\t  0.0484\t   95.27%\t   44.86%\n",
      "Epoch [46/500]\n"
     ]
    },
    {
     "data": {
      "application/vnd.jupyter.widget-view+json": {
       "model_id": "31a61823f92b473dbfe49d75877dc950",
       "version_major": 2,
       "version_minor": 0
      },
      "text/plain": [
       "HBox(children=(FloatProgress(value=0.0, max=275.0), HTML(value='')))"
      ]
     },
     "metadata": {},
     "output_type": "display_data"
    },
    {
     "name": "stdout",
     "output_type": "stream",
     "text": [
      "\n",
      "Train \t\t  0.0093\t   97.99%\t   69.13%\n",
      "Test \t\t  0.0467\t   96.73%\t   54.07%\n",
      "Epoch [47/500]\n"
     ]
    },
    {
     "data": {
      "application/vnd.jupyter.widget-view+json": {
       "model_id": "4e3dfdba45eb4692aafade7f97580d14",
       "version_major": 2,
       "version_minor": 0
      },
      "text/plain": [
       "HBox(children=(FloatProgress(value=0.0, max=275.0), HTML(value='')))"
      ]
     },
     "metadata": {},
     "output_type": "display_data"
    },
    {
     "name": "stdout",
     "output_type": "stream",
     "text": [
      "\n",
      "Train \t\t  0.0091\t   97.87%\t   67.85%\n",
      "Test \t\t  0.0505\t   96.39%\t   51.61%\n",
      "Epoch [48/500]\n"
     ]
    },
    {
     "data": {
      "application/vnd.jupyter.widget-view+json": {
       "model_id": "71dfced5d5f8450f8f046f2b2ae2bf0c",
       "version_major": 2,
       "version_minor": 0
      },
      "text/plain": [
       "HBox(children=(FloatProgress(value=0.0, max=275.0), HTML(value='')))"
      ]
     },
     "metadata": {},
     "output_type": "display_data"
    },
    {
     "name": "stdout",
     "output_type": "stream",
     "text": [
      "\n",
      "Train \t\t  0.0080\t   98.07%\t   69.95%\n",
      "Test \t\t  0.0470\t   96.20%\t   50.40%\n",
      "Epoch [49/500]\n"
     ]
    },
    {
     "data": {
      "application/vnd.jupyter.widget-view+json": {
       "model_id": "6d6c34561b7d408e8d4f9b81b102af4b",
       "version_major": 2,
       "version_minor": 0
      },
      "text/plain": [
       "HBox(children=(FloatProgress(value=0.0, max=275.0), HTML(value='')))"
      ]
     },
     "metadata": {},
     "output_type": "display_data"
    },
    {
     "name": "stdout",
     "output_type": "stream",
     "text": [
      "\n",
      "Train \t\t  0.0089\t   98.27%\t   72.19%\n",
      "Test \t\t  0.0537\t   95.94%\t   48.66%\n",
      "Epoch [50/500]\n"
     ]
    },
    {
     "data": {
      "application/vnd.jupyter.widget-view+json": {
       "model_id": "356b0432eaa54846930a635259a9bd31",
       "version_major": 2,
       "version_minor": 0
      },
      "text/plain": [
       "HBox(children=(FloatProgress(value=0.0, max=275.0), HTML(value='')))"
      ]
     },
     "metadata": {},
     "output_type": "display_data"
    },
    {
     "name": "stdout",
     "output_type": "stream",
     "text": [
      "\n",
      "Train \t\t  0.0160\t   96.07%\t   53.38%\n",
      "Test \t\t  0.0533\t   94.55%\t   41.44%\n",
      "Epoch [51/500]\n"
     ]
    },
    {
     "data": {
      "application/vnd.jupyter.widget-view+json": {
       "model_id": "5421b3a897094dfc98292c751d97aec3",
       "version_major": 2,
       "version_minor": 0
      },
      "text/plain": [
       "HBox(children=(FloatProgress(value=0.0, max=275.0), HTML(value='')))"
      ]
     },
     "metadata": {},
     "output_type": "display_data"
    },
    {
     "name": "stdout",
     "output_type": "stream",
     "text": [
      "\n",
      "Train \t\t  0.0121\t   97.27%\t   62.21%\n",
      "Test \t\t  0.0370\t   95.62%\t   46.98%\n",
      "Epoch [52/500]\n"
     ]
    },
    {
     "data": {
      "application/vnd.jupyter.widget-view+json": {
       "model_id": "78df5853189949d2b91beb6102aaaf4d",
       "version_major": 2,
       "version_minor": 0
      },
      "text/plain": [
       "HBox(children=(FloatProgress(value=0.0, max=275.0), HTML(value='')))"
      ]
     },
     "metadata": {},
     "output_type": "display_data"
    },
    {
     "name": "stdout",
     "output_type": "stream",
     "text": [
      "\n",
      "Train \t\t  0.0087\t   97.95%\t   68.67%\n",
      "Test \t\t  0.0455\t   96.01%\t   49.18%\n",
      "Epoch [53/500]\n"
     ]
    },
    {
     "data": {
      "application/vnd.jupyter.widget-view+json": {
       "model_id": "f6653315f2ab4e6699caade6eca8a8bd",
       "version_major": 2,
       "version_minor": 0
      },
      "text/plain": [
       "HBox(children=(FloatProgress(value=0.0, max=275.0), HTML(value='')))"
      ]
     },
     "metadata": {},
     "output_type": "display_data"
    },
    {
     "name": "stdout",
     "output_type": "stream",
     "text": [
      "\n",
      "Train \t\t  0.0079\t   98.15%\t   70.87%\n",
      "Test \t\t  0.0375\t   96.69%\t   53.90%\n",
      "Epoch [54/500]\n"
     ]
    },
    {
     "data": {
      "application/vnd.jupyter.widget-view+json": {
       "model_id": "045c227dafdd4f0abb044ce70f8d3f34",
       "version_major": 2,
       "version_minor": 0
      },
      "text/plain": [
       "HBox(children=(FloatProgress(value=0.0, max=275.0), HTML(value='')))"
      ]
     },
     "metadata": {},
     "output_type": "display_data"
    },
    {
     "name": "stdout",
     "output_type": "stream",
     "text": [
      "\n",
      "Train \t\t  0.0071\t   98.26%\t   72.12%\n",
      "Test \t\t  0.0457\t   96.25%\t   50.73%\n",
      "Epoch [55/500]\n"
     ]
    },
    {
     "data": {
      "application/vnd.jupyter.widget-view+json": {
       "model_id": "f1ff24c588514cb5bf37452da2ef28f5",
       "version_major": 2,
       "version_minor": 0
      },
      "text/plain": [
       "HBox(children=(FloatProgress(value=0.0, max=275.0), HTML(value='')))"
      ]
     },
     "metadata": {},
     "output_type": "display_data"
    },
    {
     "name": "stdout",
     "output_type": "stream",
     "text": [
      "\n",
      "Train \t\t  0.0067\t   98.41%\t   73.84%\n",
      "Test \t\t  0.0411\t   95.63%\t   46.96%\n",
      "Epoch [56/500]\n"
     ]
    },
    {
     "data": {
      "application/vnd.jupyter.widget-view+json": {
       "model_id": "12a6efcfe7b6445b8b7573bf60de620b",
       "version_major": 2,
       "version_minor": 0
      },
      "text/plain": [
       "HBox(children=(FloatProgress(value=0.0, max=275.0), HTML(value='')))"
      ]
     },
     "metadata": {},
     "output_type": "display_data"
    },
    {
     "name": "stdout",
     "output_type": "stream",
     "text": [
      "\n",
      "Train \t\t  0.0063\t   98.49%\t   74.88%\n",
      "Test \t\t  0.0498\t   95.66%\t   47.05%\n",
      "Epoch [57/500]\n"
     ]
    },
    {
     "data": {
      "application/vnd.jupyter.widget-view+json": {
       "model_id": "50aa4838ad3d4aa5ac84ef8428f6de1c",
       "version_major": 2,
       "version_minor": 0
      },
      "text/plain": [
       "HBox(children=(FloatProgress(value=0.0, max=275.0), HTML(value='')))"
      ]
     },
     "metadata": {},
     "output_type": "display_data"
    },
    {
     "name": "stdout",
     "output_type": "stream",
     "text": [
      "\n",
      "Train \t\t  0.0073\t   98.47%\t   74.56%\n",
      "Test \t\t  0.0519\t   96.21%\t   50.42%\n",
      "Epoch [58/500]\n"
     ]
    },
    {
     "data": {
      "application/vnd.jupyter.widget-view+json": {
       "model_id": "129ea735e6e148fea803534b762ffeec",
       "version_major": 2,
       "version_minor": 0
      },
      "text/plain": [
       "HBox(children=(FloatProgress(value=0.0, max=275.0), HTML(value='')))"
      ]
     },
     "metadata": {},
     "output_type": "display_data"
    },
    {
     "name": "stdout",
     "output_type": "stream",
     "text": [
      "\n",
      "Train \t\t  0.0122\t   96.93%\t   59.43%\n",
      "Test \t\t  0.0482\t   95.80%\t   47.92%\n",
      "Epoch [59/500]\n"
     ]
    },
    {
     "data": {
      "application/vnd.jupyter.widget-view+json": {
       "model_id": "117e89b0a6604045a192717e8c46f770",
       "version_major": 2,
       "version_minor": 0
      },
      "text/plain": [
       "HBox(children=(FloatProgress(value=0.0, max=275.0), HTML(value='')))"
      ]
     },
     "metadata": {},
     "output_type": "display_data"
    },
    {
     "name": "stdout",
     "output_type": "stream",
     "text": [
      "\n",
      "Train \t\t  0.0082\t   98.11%\t   70.41%\n",
      "Test \t\t  0.0564\t   97.26%\t   58.36%\n",
      "Epoch [60/500]\n"
     ]
    },
    {
     "data": {
      "application/vnd.jupyter.widget-view+json": {
       "model_id": "342fb276d74c4704aa74f0c6273bbb54",
       "version_major": 2,
       "version_minor": 0
      },
      "text/plain": [
       "HBox(children=(FloatProgress(value=0.0, max=275.0), HTML(value='')))"
      ]
     },
     "metadata": {},
     "output_type": "display_data"
    },
    {
     "name": "stdout",
     "output_type": "stream",
     "text": [
      "\n",
      "Train \t\t  0.0085\t   98.10%\t   70.33%\n",
      "Test \t\t  0.0496\t   95.63%\t   46.90%\n",
      "Epoch [61/500]\n"
     ]
    },
    {
     "data": {
      "application/vnd.jupyter.widget-view+json": {
       "model_id": "7652aa89d6444abaa244b6b99e0d0eff",
       "version_major": 2,
       "version_minor": 0
      },
      "text/plain": [
       "HBox(children=(FloatProgress(value=0.0, max=275.0), HTML(value='')))"
      ]
     },
     "metadata": {},
     "output_type": "display_data"
    },
    {
     "name": "stdout",
     "output_type": "stream",
     "text": [
      "\n",
      "Train \t\t  0.0061\t   98.41%\t   73.89%\n",
      "Test \t\t  0.0505\t   95.82%\t   48.05%\n",
      "Epoch [62/500]\n"
     ]
    },
    {
     "data": {
      "application/vnd.jupyter.widget-view+json": {
       "model_id": "218842d32d584088b692d88f0939e61c",
       "version_major": 2,
       "version_minor": 0
      },
      "text/plain": [
       "HBox(children=(FloatProgress(value=0.0, max=275.0), HTML(value='')))"
      ]
     },
     "metadata": {},
     "output_type": "display_data"
    },
    {
     "name": "stdout",
     "output_type": "stream",
     "text": [
      "\n",
      "Train \t\t  0.0059\t   98.49%\t   74.87%\n",
      "Test \t\t  0.0599\t   95.87%\t   48.25%\n",
      "Epoch [63/500]\n"
     ]
    },
    {
     "data": {
      "application/vnd.jupyter.widget-view+json": {
       "model_id": "75e7821f232c46318789bb458ffb5978",
       "version_major": 2,
       "version_minor": 0
      },
      "text/plain": [
       "HBox(children=(FloatProgress(value=0.0, max=275.0), HTML(value='')))"
      ]
     },
     "metadata": {},
     "output_type": "display_data"
    },
    {
     "name": "stdout",
     "output_type": "stream",
     "text": [
      "\n",
      "Train \t\t  0.0066\t   98.43%\t   74.17%\n",
      "Test \t\t  0.0880\t   84.22%\t   19.82%\n",
      "Epoch [64/500]\n"
     ]
    },
    {
     "data": {
      "application/vnd.jupyter.widget-view+json": {
       "model_id": "c017bd0851914925821bb7744ec7aefe",
       "version_major": 2,
       "version_minor": 0
      },
      "text/plain": [
       "HBox(children=(FloatProgress(value=0.0, max=275.0), HTML(value='')))"
      ]
     },
     "metadata": {},
     "output_type": "display_data"
    },
    {
     "name": "stdout",
     "output_type": "stream",
     "text": [
      "\n",
      "Train \t\t  0.0097\t   97.53%\t   64.59%\n",
      "Test \t\t  0.0485\t   97.47%\t   60.37%\n",
      "Epoch [65/500]\n"
     ]
    },
    {
     "data": {
      "application/vnd.jupyter.widget-view+json": {
       "model_id": "45e93055ca7849d79bf7d19e929cdf59",
       "version_major": 2,
       "version_minor": 0
      },
      "text/plain": [
       "HBox(children=(FloatProgress(value=0.0, max=275.0), HTML(value='')))"
      ]
     },
     "metadata": {},
     "output_type": "display_data"
    },
    {
     "name": "stdout",
     "output_type": "stream",
     "text": [
      "\n",
      "Train \t\t  0.0065\t   98.44%\t   74.28%\n",
      "Test \t\t  0.0433\t   96.28%\t   50.97%\n",
      "Epoch [66/500]\n"
     ]
    },
    {
     "data": {
      "application/vnd.jupyter.widget-view+json": {
       "model_id": "288cdd04161b404fa86d695c8cac2f24",
       "version_major": 2,
       "version_minor": 0
      },
      "text/plain": [
       "HBox(children=(FloatProgress(value=0.0, max=275.0), HTML(value='')))"
      ]
     },
     "metadata": {},
     "output_type": "display_data"
    },
    {
     "name": "stdout",
     "output_type": "stream",
     "text": [
      "\n",
      "Train \t\t  0.0062\t   98.57%\t   75.89%\n",
      "Test \t\t  0.0463\t   96.91%\t   55.56%\n",
      "Epoch [67/500]\n"
     ]
    },
    {
     "data": {
      "application/vnd.jupyter.widget-view+json": {
       "model_id": "dcf031d7328f4a0984055fb0cd80cb5e",
       "version_major": 2,
       "version_minor": 0
      },
      "text/plain": [
       "HBox(children=(FloatProgress(value=0.0, max=275.0), HTML(value='')))"
      ]
     },
     "metadata": {},
     "output_type": "display_data"
    },
    {
     "name": "stdout",
     "output_type": "stream",
     "text": [
      "\n",
      "Train \t\t  0.0073\t   98.27%\t   72.19%\n",
      "Test \t\t  0.0383\t   96.86%\t   55.21%\n",
      "Epoch [68/500]\n"
     ]
    },
    {
     "data": {
      "application/vnd.jupyter.widget-view+json": {
       "model_id": "35287dc629e447588406f24b03acd573",
       "version_major": 2,
       "version_minor": 0
      },
      "text/plain": [
       "HBox(children=(FloatProgress(value=0.0, max=275.0), HTML(value='')))"
      ]
     },
     "metadata": {},
     "output_type": "display_data"
    },
    {
     "name": "stdout",
     "output_type": "stream",
     "text": [
      "\n",
      "Train \t\t  0.0065\t   98.48%\t   74.78%\n",
      "Test \t\t  0.0410\t   95.62%\t   46.91%\n",
      "Epoch [69/500]\n"
     ]
    },
    {
     "data": {
      "application/vnd.jupyter.widget-view+json": {
       "model_id": "80ecb81631154e7fac82a3665494e0a6",
       "version_major": 2,
       "version_minor": 0
      },
      "text/plain": [
       "HBox(children=(FloatProgress(value=0.0, max=275.0), HTML(value='')))"
      ]
     },
     "metadata": {},
     "output_type": "display_data"
    },
    {
     "name": "stdout",
     "output_type": "stream",
     "text": [
      "\n",
      "Train \t\t  0.0062\t   98.57%\t   75.92%\n",
      "Test \t\t  0.0542\t   96.76%\t   54.35%\n",
      "Epoch [70/500]\n"
     ]
    },
    {
     "data": {
      "application/vnd.jupyter.widget-view+json": {
       "model_id": "b919201b31304fe9a0483c4c4a4917e4",
       "version_major": 2,
       "version_minor": 0
      },
      "text/plain": [
       "HBox(children=(FloatProgress(value=0.0, max=275.0), HTML(value='')))"
      ]
     },
     "metadata": {},
     "output_type": "display_data"
    },
    {
     "name": "stdout",
     "output_type": "stream",
     "text": [
      "\n",
      "Train \t\t  0.0079\t   98.18%\t   71.23%\n",
      "Test \t\t  0.0417\t   95.72%\t   47.48%\n",
      "Epoch [71/500]\n"
     ]
    },
    {
     "data": {
      "application/vnd.jupyter.widget-view+json": {
       "model_id": "76332996221340a28d9f8ccf075235b2",
       "version_major": 2,
       "version_minor": 0
      },
      "text/plain": [
       "HBox(children=(FloatProgress(value=0.0, max=275.0), HTML(value='')))"
      ]
     },
     "metadata": {},
     "output_type": "display_data"
    },
    {
     "name": "stdout",
     "output_type": "stream",
     "text": [
      "\n",
      "Train \t\t  0.0064\t   98.50%\t   75.02%\n",
      "Test \t\t  0.0872\t   97.46%\t   59.96%\n",
      "Epoch [72/500]\n"
     ]
    },
    {
     "data": {
      "application/vnd.jupyter.widget-view+json": {
       "model_id": "09b34f461ebf4dca80c7f88e7cdcd86f",
       "version_major": 2,
       "version_minor": 0
      },
      "text/plain": [
       "HBox(children=(FloatProgress(value=0.0, max=275.0), HTML(value='')))"
      ]
     },
     "metadata": {},
     "output_type": "display_data"
    },
    {
     "name": "stdout",
     "output_type": "stream",
     "text": [
      "\n",
      "Train \t\t  0.0110\t   97.52%\t   64.43%\n",
      "Test \t\t  0.0474\t   96.62%\t   53.31%\n",
      "Epoch [73/500]\n"
     ]
    },
    {
     "data": {
      "application/vnd.jupyter.widget-view+json": {
       "model_id": "004840dc4d8b4e42b818b9407e6061ba",
       "version_major": 2,
       "version_minor": 0
      },
      "text/plain": [
       "HBox(children=(FloatProgress(value=0.0, max=275.0), HTML(value='')))"
      ]
     },
     "metadata": {},
     "output_type": "display_data"
    },
    {
     "name": "stdout",
     "output_type": "stream",
     "text": [
      "\n",
      "Train \t\t  0.0061\t   98.52%\t   75.21%\n",
      "Test \t\t  0.0570\t   96.70%\t   53.83%\n",
      "Epoch [74/500]\n"
     ]
    },
    {
     "data": {
      "application/vnd.jupyter.widget-view+json": {
       "model_id": "08420c8f3cc4445489be9ab549e3b6d6",
       "version_major": 2,
       "version_minor": 0
      },
      "text/plain": [
       "HBox(children=(FloatProgress(value=0.0, max=275.0), HTML(value='')))"
      ]
     },
     "metadata": {},
     "output_type": "display_data"
    },
    {
     "name": "stdout",
     "output_type": "stream",
     "text": [
      "\n",
      "Train \t\t  0.0047\t   98.67%\t   77.24%\n",
      "Test \t\t  0.0492\t   96.73%\t   54.10%\n",
      "Epoch [75/500]\n"
     ]
    },
    {
     "data": {
      "application/vnd.jupyter.widget-view+json": {
       "model_id": "f6415c11859647d79f19f37aad6bac3c",
       "version_major": 2,
       "version_minor": 0
      },
      "text/plain": [
       "HBox(children=(FloatProgress(value=0.0, max=275.0), HTML(value='')))"
      ]
     },
     "metadata": {},
     "output_type": "display_data"
    },
    {
     "name": "stdout",
     "output_type": "stream",
     "text": [
      "\n",
      "Train \t\t  0.0053\t   98.65%\t   76.95%\n",
      "Test \t\t  0.0701\t   96.46%\t   52.03%\n",
      "Epoch [76/500]\n"
     ]
    },
    {
     "data": {
      "application/vnd.jupyter.widget-view+json": {
       "model_id": "1805826dbedd419b9d8360052ed9b933",
       "version_major": 2,
       "version_minor": 0
      },
      "text/plain": [
       "HBox(children=(FloatProgress(value=0.0, max=275.0), HTML(value='')))"
      ]
     },
     "metadata": {},
     "output_type": "display_data"
    },
    {
     "name": "stdout",
     "output_type": "stream",
     "text": [
      "\n",
      "Train \t\t  0.0075\t   98.29%\t   72.43%\n",
      "Test \t\t  0.0384\t   96.54%\t   52.83%\n",
      "Epoch [77/500]\n"
     ]
    },
    {
     "data": {
      "application/vnd.jupyter.widget-view+json": {
       "model_id": "b17148cb9d9740bbb578ac001d4ba939",
       "version_major": 2,
       "version_minor": 0
      },
      "text/plain": [
       "HBox(children=(FloatProgress(value=0.0, max=275.0), HTML(value='')))"
      ]
     },
     "metadata": {},
     "output_type": "display_data"
    },
    {
     "name": "stdout",
     "output_type": "stream",
     "text": [
      "\n",
      "Train \t\t  0.0052\t   98.65%\t   76.97%\n",
      "Test \t\t  0.0428\t   95.63%\t   47.00%\n",
      "Epoch [78/500]\n"
     ]
    },
    {
     "data": {
      "application/vnd.jupyter.widget-view+json": {
       "model_id": "eaef79e0706547e3b1ee4d45211c45c4",
       "version_major": 2,
       "version_minor": 0
      },
      "text/plain": [
       "HBox(children=(FloatProgress(value=0.0, max=275.0), HTML(value='')))"
      ]
     },
     "metadata": {},
     "output_type": "display_data"
    },
    {
     "name": "stdout",
     "output_type": "stream",
     "text": [
      "\n",
      "Train \t\t  0.0052\t   98.70%\t   77.58%\n",
      "Test \t\t  0.0756\t   96.19%\t   50.12%\n",
      "Epoch [79/500]\n"
     ]
    },
    {
     "data": {
      "application/vnd.jupyter.widget-view+json": {
       "model_id": "8d35c43027ca457ca8a3a3a1aa6762c3",
       "version_major": 2,
       "version_minor": 0
      },
      "text/plain": [
       "HBox(children=(FloatProgress(value=0.0, max=275.0), HTML(value='')))"
      ]
     },
     "metadata": {},
     "output_type": "display_data"
    },
    {
     "name": "stdout",
     "output_type": "stream",
     "text": [
      "\n",
      "Train \t\t  0.0103\t   97.93%\t   68.43%\n",
      "Test \t\t  0.0595\t   95.35%\t   45.30%\n",
      "Epoch [80/500]\n"
     ]
    },
    {
     "data": {
      "application/vnd.jupyter.widget-view+json": {
       "model_id": "3964ab14584d44a58fda0fb8bfc180d8",
       "version_major": 2,
       "version_minor": 0
      },
      "text/plain": [
       "HBox(children=(FloatProgress(value=0.0, max=275.0), HTML(value='')))"
      ]
     },
     "metadata": {},
     "output_type": "display_data"
    },
    {
     "name": "stdout",
     "output_type": "stream",
     "text": [
      "\n",
      "Train \t\t  0.0065\t   98.50%\t   74.93%\n",
      "Test \t\t  0.0867\t   97.10%\t   56.86%\n",
      "Epoch [81/500]\n"
     ]
    },
    {
     "data": {
      "application/vnd.jupyter.widget-view+json": {
       "model_id": "3775ce6da0584e958e974a7da5ce8f9c",
       "version_major": 2,
       "version_minor": 0
      },
      "text/plain": [
       "HBox(children=(FloatProgress(value=0.0, max=275.0), HTML(value='')))"
      ]
     },
     "metadata": {},
     "output_type": "display_data"
    },
    {
     "name": "stdout",
     "output_type": "stream",
     "text": [
      "\n",
      "Train \t\t  0.0066\t   98.40%\t   73.79%\n",
      "Test \t\t  0.0496\t   96.92%\t   55.63%\n",
      "Epoch [82/500]\n"
     ]
    },
    {
     "data": {
      "application/vnd.jupyter.widget-view+json": {
       "model_id": "92ebfdf27dde4e838c0657875be781eb",
       "version_major": 2,
       "version_minor": 0
      },
      "text/plain": [
       "HBox(children=(FloatProgress(value=0.0, max=275.0), HTML(value='')))"
      ]
     },
     "metadata": {},
     "output_type": "display_data"
    },
    {
     "name": "stdout",
     "output_type": "stream",
     "text": [
      "\n",
      "Train \t\t  0.0051\t   98.70%\t   77.64%\n",
      "Test \t\t  0.0728\t   96.83%\t   54.72%\n",
      "Epoch [83/500]\n"
     ]
    },
    {
     "data": {
      "application/vnd.jupyter.widget-view+json": {
       "model_id": "99442f3d58a54a6281456eba7a8600ee",
       "version_major": 2,
       "version_minor": 0
      },
      "text/plain": [
       "HBox(children=(FloatProgress(value=0.0, max=275.0), HTML(value='')))"
      ]
     },
     "metadata": {},
     "output_type": "display_data"
    },
    {
     "name": "stdout",
     "output_type": "stream",
     "text": [
      "\n",
      "Train \t\t  0.0104\t   97.52%\t   64.46%\n",
      "Test \t\t  0.0388\t   95.25%\t   44.99%\n",
      "Epoch [84/500]\n"
     ]
    },
    {
     "data": {
      "application/vnd.jupyter.widget-view+json": {
       "model_id": "08cf99de3f1c47409c509652b61fc868",
       "version_major": 2,
       "version_minor": 0
      },
      "text/plain": [
       "HBox(children=(FloatProgress(value=0.0, max=275.0), HTML(value='')))"
      ]
     },
     "metadata": {},
     "output_type": "display_data"
    },
    {
     "name": "stdout",
     "output_type": "stream",
     "text": [
      "\n",
      "Train \t\t  0.0057\t   98.50%\t   74.96%\n",
      "Test \t\t  0.0517\t   97.18%\t   57.75%\n",
      "Epoch [85/500]\n"
     ]
    },
    {
     "data": {
      "application/vnd.jupyter.widget-view+json": {
       "model_id": "677e33c6969c4ed6b582646d814951f2",
       "version_major": 2,
       "version_minor": 0
      },
      "text/plain": [
       "HBox(children=(FloatProgress(value=0.0, max=275.0), HTML(value='')))"
      ]
     },
     "metadata": {},
     "output_type": "display_data"
    },
    {
     "name": "stdout",
     "output_type": "stream",
     "text": [
      "\n",
      "Train \t\t  0.0051\t   98.67%\t   77.12%\n",
      "Test \t\t  0.0515\t   96.76%\t   54.32%\n",
      "Epoch [86/500]\n"
     ]
    },
    {
     "data": {
      "application/vnd.jupyter.widget-view+json": {
       "model_id": "b20f92d5f06f47e0a81469bdfeae71e6",
       "version_major": 2,
       "version_minor": 0
      },
      "text/plain": [
       "HBox(children=(FloatProgress(value=0.0, max=275.0), HTML(value='')))"
      ]
     },
     "metadata": {},
     "output_type": "display_data"
    },
    {
     "name": "stdout",
     "output_type": "stream",
     "text": [
      "\n",
      "Train \t\t  0.0049\t   98.76%\t   78.44%\n",
      "Test \t\t  0.0601\t   96.74%\t   54.05%\n",
      "Epoch [87/500]\n"
     ]
    },
    {
     "data": {
      "application/vnd.jupyter.widget-view+json": {
       "model_id": "7cd736cdfb284cb5bd52c6e57a16b269",
       "version_major": 2,
       "version_minor": 0
      },
      "text/plain": [
       "HBox(children=(FloatProgress(value=0.0, max=275.0), HTML(value='')))"
      ]
     },
     "metadata": {},
     "output_type": "display_data"
    },
    {
     "name": "stdout",
     "output_type": "stream",
     "text": [
      "\n",
      "Train \t\t  0.0050\t   98.79%\t   78.86%\n",
      "Test \t\t  0.0469\t   97.19%\t   57.86%\n",
      "Epoch [88/500]\n"
     ]
    },
    {
     "data": {
      "application/vnd.jupyter.widget-view+json": {
       "model_id": "f6569e154de24f0b86732bad016eee15",
       "version_major": 2,
       "version_minor": 0
      },
      "text/plain": [
       "HBox(children=(FloatProgress(value=0.0, max=275.0), HTML(value='')))"
      ]
     },
     "metadata": {},
     "output_type": "display_data"
    },
    {
     "name": "stdout",
     "output_type": "stream",
     "text": [
      "\n",
      "Train \t\t  0.0043\t   98.82%\t   79.20%\n",
      "Test \t\t  0.0601\t   97.70%\t   62.59%\n",
      "Epoch [89/500]\n"
     ]
    },
    {
     "data": {
      "application/vnd.jupyter.widget-view+json": {
       "model_id": "f153f2506299455bb5ea6245443d389f",
       "version_major": 2,
       "version_minor": 0
      },
      "text/plain": [
       "HBox(children=(FloatProgress(value=0.0, max=275.0), HTML(value='')))"
      ]
     },
     "metadata": {},
     "output_type": "display_data"
    },
    {
     "name": "stdout",
     "output_type": "stream",
     "text": [
      "\n",
      "Train \t\t  0.0044\t   98.86%\t   79.79%\n",
      "Test \t\t  0.0633\t   97.38%\t   59.44%\n",
      "Epoch [90/500]\n"
     ]
    },
    {
     "data": {
      "application/vnd.jupyter.widget-view+json": {
       "model_id": "b1a6763047fe40baabaca0b87ad181d6",
       "version_major": 2,
       "version_minor": 0
      },
      "text/plain": [
       "HBox(children=(FloatProgress(value=0.0, max=275.0), HTML(value='')))"
      ]
     },
     "metadata": {},
     "output_type": "display_data"
    },
    {
     "name": "stdout",
     "output_type": "stream",
     "text": [
      "\n",
      "Train \t\t  0.0047\t   98.91%\t   80.52%\n",
      "Test \t\t  0.0809\t   97.73%\t   62.72%\n",
      "Epoch [91/500]\n"
     ]
    },
    {
     "data": {
      "application/vnd.jupyter.widget-view+json": {
       "model_id": "33c78af80d5b413fb91e3ecb414e911f",
       "version_major": 2,
       "version_minor": 0
      },
      "text/plain": [
       "HBox(children=(FloatProgress(value=0.0, max=275.0), HTML(value='')))"
      ]
     },
     "metadata": {},
     "output_type": "display_data"
    },
    {
     "name": "stdout",
     "output_type": "stream",
     "text": [
      "\n",
      "Train \t\t  0.0048\t   98.85%\t   79.64%\n",
      "Test \t\t  0.0819\t   97.99%\t   65.60%\n",
      "Epoch [92/500]\n"
     ]
    },
    {
     "data": {
      "application/vnd.jupyter.widget-view+json": {
       "model_id": "7921aaee08b641a493062557d21009a4",
       "version_major": 2,
       "version_minor": 0
      },
      "text/plain": [
       "HBox(children=(FloatProgress(value=0.0, max=275.0), HTML(value='')))"
      ]
     },
     "metadata": {},
     "output_type": "display_data"
    },
    {
     "name": "stdout",
     "output_type": "stream",
     "text": [
      "\n",
      "Train \t\t  0.0058\t   98.73%\t   77.99%\n",
      "Test \t\t  0.0805\t   97.64%\t   61.79%\n",
      "Epoch [93/500]\n"
     ]
    },
    {
     "data": {
      "application/vnd.jupyter.widget-view+json": {
       "model_id": "8232ecb9accb44ea93493987e5c27c3d",
       "version_major": 2,
       "version_minor": 0
      },
      "text/plain": [
       "HBox(children=(FloatProgress(value=0.0, max=275.0), HTML(value='')))"
      ]
     },
     "metadata": {},
     "output_type": "display_data"
    },
    {
     "name": "stdout",
     "output_type": "stream",
     "text": [
      "\n",
      "Train \t\t  0.0082\t   98.14%\t   70.74%\n",
      "Test \t\t  0.0378\t   96.55%\t   52.85%\n",
      "Epoch [94/500]\n"
     ]
    },
    {
     "data": {
      "application/vnd.jupyter.widget-view+json": {
       "model_id": "a0549055cef94eb3ad55e856d8022449",
       "version_major": 2,
       "version_minor": 0
      },
      "text/plain": [
       "HBox(children=(FloatProgress(value=0.0, max=275.0), HTML(value='')))"
      ]
     },
     "metadata": {},
     "output_type": "display_data"
    },
    {
     "name": "stdout",
     "output_type": "stream",
     "text": [
      "\n",
      "Train \t\t  0.0047\t   98.77%\t   78.48%\n",
      "Test \t\t  0.0326\t   97.16%\t   57.71%\n",
      "Epoch [95/500]\n"
     ]
    },
    {
     "data": {
      "application/vnd.jupyter.widget-view+json": {
       "model_id": "387932c5a6154865bb8fdc149c666e65",
       "version_major": 2,
       "version_minor": 0
      },
      "text/plain": [
       "HBox(children=(FloatProgress(value=0.0, max=275.0), HTML(value='')))"
      ]
     },
     "metadata": {},
     "output_type": "display_data"
    },
    {
     "name": "stdout",
     "output_type": "stream",
     "text": [
      "\n",
      "Train \t\t  0.0042\t   98.87%\t   79.96%\n",
      "Test \t\t  0.0280\t   96.90%\t   55.66%\n",
      "Epoch [96/500]\n"
     ]
    },
    {
     "data": {
      "application/vnd.jupyter.widget-view+json": {
       "model_id": "6c1525bbeb0f4d2ba3a37c476dc4a9ed",
       "version_major": 2,
       "version_minor": 0
      },
      "text/plain": [
       "HBox(children=(FloatProgress(value=0.0, max=275.0), HTML(value='')))"
      ]
     },
     "metadata": {},
     "output_type": "display_data"
    },
    {
     "name": "stdout",
     "output_type": "stream",
     "text": [
      "\n",
      "Train \t\t  0.0043\t   98.88%\t   80.11%\n",
      "Test \t\t  0.0319\t   97.38%\t   59.64%\n",
      "Epoch [97/500]\n"
     ]
    },
    {
     "data": {
      "application/vnd.jupyter.widget-view+json": {
       "model_id": "280429810243472ca78624f5550c93c9",
       "version_major": 2,
       "version_minor": 0
      },
      "text/plain": [
       "HBox(children=(FloatProgress(value=0.0, max=275.0), HTML(value='')))"
      ]
     },
     "metadata": {},
     "output_type": "display_data"
    },
    {
     "name": "stdout",
     "output_type": "stream",
     "text": [
      "\n",
      "Train \t\t  0.0047\t   98.80%\t   78.99%\n",
      "Test \t\t  0.0405\t   97.49%\t   60.57%\n",
      "Epoch [98/500]\n"
     ]
    },
    {
     "data": {
      "application/vnd.jupyter.widget-view+json": {
       "model_id": "9bf8329a9ee44496acad574c3d5a44b4",
       "version_major": 2,
       "version_minor": 0
      },
      "text/plain": [
       "HBox(children=(FloatProgress(value=0.0, max=275.0), HTML(value='')))"
      ]
     },
     "metadata": {},
     "output_type": "display_data"
    },
    {
     "name": "stdout",
     "output_type": "stream",
     "text": [
      "\n",
      "Train \t\t  0.0043\t   98.95%\t   81.03%\n",
      "Test \t\t  0.0359\t   97.03%\t   56.58%\n",
      "Epoch [99/500]\n"
     ]
    },
    {
     "data": {
      "application/vnd.jupyter.widget-view+json": {
       "model_id": "0085ba47acf742d495c2bd0d8e2413ac",
       "version_major": 2,
       "version_minor": 0
      },
      "text/plain": [
       "HBox(children=(FloatProgress(value=0.0, max=275.0), HTML(value='')))"
      ]
     },
     "metadata": {},
     "output_type": "display_data"
    },
    {
     "name": "stdout",
     "output_type": "stream",
     "text": [
      "\n",
      "Train \t\t  0.0049\t   98.79%\t   78.84%\n",
      "Test \t\t  0.0570\t   97.68%\t   62.39%\n",
      "Epoch [100/500]\n"
     ]
    },
    {
     "data": {
      "application/vnd.jupyter.widget-view+json": {
       "model_id": "f4acaf70e5ec42c2aa2fd35b3b044030",
       "version_major": 2,
       "version_minor": 0
      },
      "text/plain": [
       "HBox(children=(FloatProgress(value=0.0, max=275.0), HTML(value='')))"
      ]
     },
     "metadata": {},
     "output_type": "display_data"
    },
    {
     "name": "stdout",
     "output_type": "stream",
     "text": [
      "\n",
      "Train \t\t  0.0041\t   98.93%\t   80.82%\n",
      "Test \t\t  0.0545\t   97.74%\t   63.05%\n",
      "Epoch [101/500]\n"
     ]
    },
    {
     "data": {
      "application/vnd.jupyter.widget-view+json": {
       "model_id": "50d526065e8f47febc4c121fd19a6a8a",
       "version_major": 2,
       "version_minor": 0
      },
      "text/plain": [
       "HBox(children=(FloatProgress(value=0.0, max=275.0), HTML(value='')))"
      ]
     },
     "metadata": {},
     "output_type": "display_data"
    },
    {
     "name": "stdout",
     "output_type": "stream",
     "text": [
      "\n",
      "Train \t\t  0.0041\t   98.95%\t   81.09%\n",
      "Test \t\t  0.0452\t   97.36%\t   59.42%\n",
      "Epoch [102/500]\n"
     ]
    },
    {
     "data": {
      "application/vnd.jupyter.widget-view+json": {
       "model_id": "13771d74f4734a63adab505f1e04b174",
       "version_major": 2,
       "version_minor": 0
      },
      "text/plain": [
       "HBox(children=(FloatProgress(value=0.0, max=275.0), HTML(value='')))"
      ]
     },
     "metadata": {},
     "output_type": "display_data"
    },
    {
     "name": "stdout",
     "output_type": "stream",
     "text": [
      "\n",
      "Train \t\t  0.0041\t   98.91%\t   80.49%\n",
      "Test \t\t  0.0480\t   97.74%\t   63.06%\n",
      "Epoch [103/500]\n"
     ]
    },
    {
     "data": {
      "application/vnd.jupyter.widget-view+json": {
       "model_id": "2e4be77ec31a46b4bd25a774a838804c",
       "version_major": 2,
       "version_minor": 0
      },
      "text/plain": [
       "HBox(children=(FloatProgress(value=0.0, max=275.0), HTML(value='')))"
      ]
     },
     "metadata": {},
     "output_type": "display_data"
    },
    {
     "name": "stdout",
     "output_type": "stream",
     "text": [
      "\n",
      "Train \t\t  0.0048\t   98.88%\t   80.06%\n",
      "Test \t\t  0.0974\t   98.35%\t   69.84%\n",
      "Epoch [104/500]\n"
     ]
    },
    {
     "data": {
      "application/vnd.jupyter.widget-view+json": {
       "model_id": "a5c2ec304dbd41adb7069ef1080b5131",
       "version_major": 2,
       "version_minor": 0
      },
      "text/plain": [
       "HBox(children=(FloatProgress(value=0.0, max=275.0), HTML(value='')))"
      ]
     },
     "metadata": {},
     "output_type": "display_data"
    },
    {
     "name": "stdout",
     "output_type": "stream",
     "text": [
      "\n",
      "Train \t\t  0.0144\t   96.93%\t   59.40%\n",
      "Test \t\t  0.0767\t   89.63%\t   27.23%\n",
      "Epoch [105/500]\n"
     ]
    },
    {
     "data": {
      "application/vnd.jupyter.widget-view+json": {
       "model_id": "5ca80d2907864e899379b05f3458e87b",
       "version_major": 2,
       "version_minor": 0
      },
      "text/plain": [
       "HBox(children=(FloatProgress(value=0.0, max=275.0), HTML(value='')))"
      ]
     },
     "metadata": {},
     "output_type": "display_data"
    },
    {
     "name": "stdout",
     "output_type": "stream",
     "text": [
      "\n",
      "Train \t\t  0.0070\t   98.27%\t   72.27%\n",
      "Test \t\t  0.0691\t   97.03%\t   56.43%\n",
      "Epoch [106/500]\n"
     ]
    },
    {
     "data": {
      "application/vnd.jupyter.widget-view+json": {
       "model_id": "2f3fc67424c94b4b9eec157cfcc64121",
       "version_major": 2,
       "version_minor": 0
      },
      "text/plain": [
       "HBox(children=(FloatProgress(value=0.0, max=275.0), HTML(value='')))"
      ]
     },
     "metadata": {},
     "output_type": "display_data"
    },
    {
     "name": "stdout",
     "output_type": "stream",
     "text": [
      "\n",
      "Train \t\t  0.0052\t   98.67%\t   77.15%\n",
      "Test \t\t  0.0612\t   96.80%\t   54.62%\n",
      "Epoch [107/500]\n"
     ]
    },
    {
     "data": {
      "application/vnd.jupyter.widget-view+json": {
       "model_id": "f776160e765c4a8b988809447e54d240",
       "version_major": 2,
       "version_minor": 0
      },
      "text/plain": [
       "HBox(children=(FloatProgress(value=0.0, max=275.0), HTML(value='')))"
      ]
     },
     "metadata": {},
     "output_type": "display_data"
    },
    {
     "name": "stdout",
     "output_type": "stream",
     "text": [
      "\n",
      "Train \t\t  0.0042\t   98.89%\t   80.19%\n",
      "Test \t\t  0.0715\t   97.67%\t   62.30%\n",
      "Epoch [108/500]\n"
     ]
    },
    {
     "data": {
      "application/vnd.jupyter.widget-view+json": {
       "model_id": "3c54c73398dd41ac84677d29fd969c70",
       "version_major": 2,
       "version_minor": 0
      },
      "text/plain": [
       "HBox(children=(FloatProgress(value=0.0, max=275.0), HTML(value='')))"
      ]
     },
     "metadata": {},
     "output_type": "display_data"
    },
    {
     "name": "stdout",
     "output_type": "stream",
     "text": [
      "\n",
      "Train \t\t  0.0041\t   98.95%\t   81.07%\n",
      "Test \t\t  0.0829\t   97.67%\t   62.22%\n",
      "Epoch [109/500]\n"
     ]
    },
    {
     "data": {
      "application/vnd.jupyter.widget-view+json": {
       "model_id": "d3f20d38ad0446e694a54fec51a96213",
       "version_major": 2,
       "version_minor": 0
      },
      "text/plain": [
       "HBox(children=(FloatProgress(value=0.0, max=275.0), HTML(value='')))"
      ]
     },
     "metadata": {},
     "output_type": "display_data"
    },
    {
     "name": "stdout",
     "output_type": "stream",
     "text": [
      "\n",
      "Train \t\t  0.0038\t   99.00%\t   81.84%\n",
      "Test \t\t  0.0722\t   97.92%\t   64.87%\n",
      "Epoch [110/500]\n"
     ]
    },
    {
     "data": {
      "application/vnd.jupyter.widget-view+json": {
       "model_id": "1f2059d7d6214d9c9f9e2ac92921e6f8",
       "version_major": 2,
       "version_minor": 0
      },
      "text/plain": [
       "HBox(children=(FloatProgress(value=0.0, max=275.0), HTML(value='')))"
      ]
     },
     "metadata": {},
     "output_type": "display_data"
    },
    {
     "name": "stdout",
     "output_type": "stream",
     "text": [
      "\n",
      "Train \t\t  0.0039\t   98.98%\t   81.52%\n",
      "Test \t\t  0.0906\t   97.97%\t   65.34%\n",
      "Epoch [111/500]\n"
     ]
    },
    {
     "data": {
      "application/vnd.jupyter.widget-view+json": {
       "model_id": "a7120a8a31d846628587378736fab42d",
       "version_major": 2,
       "version_minor": 0
      },
      "text/plain": [
       "HBox(children=(FloatProgress(value=0.0, max=275.0), HTML(value='')))"
      ]
     },
     "metadata": {},
     "output_type": "display_data"
    },
    {
     "name": "stdout",
     "output_type": "stream",
     "text": [
      "\n",
      "Train \t\t  0.0037\t   99.04%\t   82.43%\n",
      "Test \t\t  0.0894\t   97.73%\t   62.76%\n",
      "Epoch [112/500]\n"
     ]
    },
    {
     "data": {
      "application/vnd.jupyter.widget-view+json": {
       "model_id": "e20d15a58c23449c8ca9a982df87766b",
       "version_major": 2,
       "version_minor": 0
      },
      "text/plain": [
       "HBox(children=(FloatProgress(value=0.0, max=275.0), HTML(value='')))"
      ]
     },
     "metadata": {},
     "output_type": "display_data"
    },
    {
     "name": "stdout",
     "output_type": "stream",
     "text": [
      "\n",
      "Train \t\t  0.0036\t   99.06%\t   82.71%\n",
      "Test \t\t  0.0852\t   97.85%\t   64.04%\n",
      "Epoch [113/500]\n"
     ]
    },
    {
     "data": {
      "application/vnd.jupyter.widget-view+json": {
       "model_id": "c2d47db414c3437ca2e684a78c3b9bb3",
       "version_major": 2,
       "version_minor": 0
      },
      "text/plain": [
       "HBox(children=(FloatProgress(value=0.0, max=275.0), HTML(value='')))"
      ]
     },
     "metadata": {},
     "output_type": "display_data"
    },
    {
     "name": "stdout",
     "output_type": "stream",
     "text": [
      "\n",
      "Train \t\t  0.0040\t   98.98%\t   81.45%\n",
      "Test \t\t  0.1174\t   98.13%\t   66.97%\n",
      "Epoch [114/500]\n"
     ]
    },
    {
     "data": {
      "application/vnd.jupyter.widget-view+json": {
       "model_id": "2f2cdfbe33f34823b04b23cf33f6f1ba",
       "version_major": 2,
       "version_minor": 0
      },
      "text/plain": [
       "HBox(children=(FloatProgress(value=0.0, max=275.0), HTML(value='')))"
      ]
     },
     "metadata": {},
     "output_type": "display_data"
    },
    {
     "name": "stdout",
     "output_type": "stream",
     "text": [
      "\n",
      "Train \t\t  0.0042\t   98.99%\t   81.67%\n",
      "Test \t\t  0.0847\t   97.78%\t   63.37%\n",
      "Epoch [115/500]\n"
     ]
    },
    {
     "data": {
      "application/vnd.jupyter.widget-view+json": {
       "model_id": "a7de64ebf8864427bc3085bf32cad82c",
       "version_major": 2,
       "version_minor": 0
      },
      "text/plain": [
       "HBox(children=(FloatProgress(value=0.0, max=275.0), HTML(value='')))"
      ]
     },
     "metadata": {},
     "output_type": "display_data"
    },
    {
     "name": "stdout",
     "output_type": "stream",
     "text": [
      "\n",
      "Train \t\t  0.0036\t   99.08%\t   83.06%\n",
      "Test \t\t  0.0932\t   97.52%\t   60.68%\n",
      "Epoch [116/500]\n"
     ]
    },
    {
     "data": {
      "application/vnd.jupyter.widget-view+json": {
       "model_id": "f05ec396e9c043cd9c3c2eaf75b8a934",
       "version_major": 2,
       "version_minor": 0
      },
      "text/plain": [
       "HBox(children=(FloatProgress(value=0.0, max=275.0), HTML(value='')))"
      ]
     },
     "metadata": {},
     "output_type": "display_data"
    },
    {
     "name": "stdout",
     "output_type": "stream",
     "text": [
      "\n",
      "Train \t\t  0.0042\t   99.00%\t   81.81%\n",
      "Test \t\t  0.0941\t   97.96%\t   65.21%\n",
      "Epoch [117/500]\n"
     ]
    },
    {
     "data": {
      "application/vnd.jupyter.widget-view+json": {
       "model_id": "65e6b15eaf3441da8a57da76ff0cef55",
       "version_major": 2,
       "version_minor": 0
      },
      "text/plain": [
       "HBox(children=(FloatProgress(value=0.0, max=275.0), HTML(value='')))"
      ]
     },
     "metadata": {},
     "output_type": "display_data"
    },
    {
     "name": "stdout",
     "output_type": "stream",
     "text": [
      "\n",
      "Train \t\t  0.0037\t   99.07%\t   82.95%\n",
      "Test \t\t  0.0979\t   97.54%\t   60.83%\n",
      "Epoch [118/500]\n"
     ]
    },
    {
     "data": {
      "application/vnd.jupyter.widget-view+json": {
       "model_id": "7e308a112e5f481da3e2a8a22a088567",
       "version_major": 2,
       "version_minor": 0
      },
      "text/plain": [
       "HBox(children=(FloatProgress(value=0.0, max=275.0), HTML(value='')))"
      ]
     },
     "metadata": {},
     "output_type": "display_data"
    },
    {
     "name": "stdout",
     "output_type": "stream",
     "text": [
      "\n",
      "Train \t\t  0.0040\t   98.93%\t   80.73%\n",
      "Test \t\t  0.1386\t   98.10%\t   66.51%\n",
      "Epoch [119/500]\n"
     ]
    },
    {
     "data": {
      "application/vnd.jupyter.widget-view+json": {
       "model_id": "07b49fe74cdd4c87940784aa26041e7b",
       "version_major": 2,
       "version_minor": 0
      },
      "text/plain": [
       "HBox(children=(FloatProgress(value=0.0, max=275.0), HTML(value='')))"
      ]
     },
     "metadata": {},
     "output_type": "display_data"
    },
    {
     "name": "stdout",
     "output_type": "stream",
     "text": [
      "\n",
      "Train \t\t  0.0067\t   98.31%\t   72.66%\n",
      "Test \t\t  0.0698\t   96.77%\t   54.40%\n",
      "Epoch [120/500]\n"
     ]
    },
    {
     "data": {
      "application/vnd.jupyter.widget-view+json": {
       "model_id": "d4df16c921684beaac1153baa306ee57",
       "version_major": 2,
       "version_minor": 0
      },
      "text/plain": [
       "HBox(children=(FloatProgress(value=0.0, max=275.0), HTML(value='')))"
      ]
     },
     "metadata": {},
     "output_type": "display_data"
    },
    {
     "name": "stdout",
     "output_type": "stream",
     "text": [
      "\n",
      "Train \t\t  0.0043\t   98.91%\t   80.54%\n",
      "Test \t\t  0.1199\t   97.50%\t   60.47%\n",
      "Epoch [121/500]\n"
     ]
    },
    {
     "data": {
      "application/vnd.jupyter.widget-view+json": {
       "model_id": "343f18b5c16641518b145584db131dca",
       "version_major": 2,
       "version_minor": 0
      },
      "text/plain": [
       "HBox(children=(FloatProgress(value=0.0, max=275.0), HTML(value='')))"
      ]
     },
     "metadata": {},
     "output_type": "display_data"
    },
    {
     "name": "stdout",
     "output_type": "stream",
     "text": [
      "\n",
      "Train \t\t  0.0038\t   99.02%\t   82.10%\n",
      "Test \t\t  0.0939\t   98.21%\t   68.15%\n",
      "Epoch [122/500]\n"
     ]
    },
    {
     "data": {
      "application/vnd.jupyter.widget-view+json": {
       "model_id": "4abf4eb4e820449aaf4a559f5010e141",
       "version_major": 2,
       "version_minor": 0
      },
      "text/plain": [
       "HBox(children=(FloatProgress(value=0.0, max=275.0), HTML(value='')))"
      ]
     },
     "metadata": {},
     "output_type": "display_data"
    },
    {
     "name": "stdout",
     "output_type": "stream",
     "text": [
      "\n",
      "Train \t\t  0.0067\t   98.35%\t   73.20%\n",
      "Test \t\t  0.0518\t   97.66%\t   62.18%\n",
      "Epoch [123/500]\n"
     ]
    },
    {
     "data": {
      "application/vnd.jupyter.widget-view+json": {
       "model_id": "634bb58d9b9e40a599a92dbac594a0c8",
       "version_major": 2,
       "version_minor": 0
      },
      "text/plain": [
       "HBox(children=(FloatProgress(value=0.0, max=275.0), HTML(value='')))"
      ]
     },
     "metadata": {},
     "output_type": "display_data"
    },
    {
     "name": "stdout",
     "output_type": "stream",
     "text": [
      "\n",
      "Train \t\t  0.0041\t   99.03%\t   82.22%\n",
      "Test \t\t  0.0353\t   97.70%\t   62.67%\n",
      "Epoch [124/500]\n"
     ]
    },
    {
     "data": {
      "application/vnd.jupyter.widget-view+json": {
       "model_id": "e2047557489848bfa45451d062dfb964",
       "version_major": 2,
       "version_minor": 0
      },
      "text/plain": [
       "HBox(children=(FloatProgress(value=0.0, max=275.0), HTML(value='')))"
      ]
     },
     "metadata": {},
     "output_type": "display_data"
    },
    {
     "name": "stdout",
     "output_type": "stream",
     "text": [
      "\n",
      "Train \t\t  0.0036\t   99.07%\t   82.85%\n",
      "Test \t\t  0.0514\t   97.77%\t   63.28%\n",
      "Epoch [125/500]\n"
     ]
    },
    {
     "data": {
      "application/vnd.jupyter.widget-view+json": {
       "model_id": "cd8841c3fea94011aa9e28f9e859b3b1",
       "version_major": 2,
       "version_minor": 0
      },
      "text/plain": [
       "HBox(children=(FloatProgress(value=0.0, max=275.0), HTML(value='')))"
      ]
     },
     "metadata": {},
     "output_type": "display_data"
    },
    {
     "name": "stdout",
     "output_type": "stream",
     "text": [
      "\n",
      "Train \t\t  0.0037\t   99.09%\t   83.24%\n",
      "Test \t\t  0.0516\t   97.96%\t   65.41%\n",
      "Epoch [126/500]\n"
     ]
    },
    {
     "data": {
      "application/vnd.jupyter.widget-view+json": {
       "model_id": "28e52122eaf042fbbc7648d8b4740011",
       "version_major": 2,
       "version_minor": 0
      },
      "text/plain": [
       "HBox(children=(FloatProgress(value=0.0, max=275.0), HTML(value='')))"
      ]
     },
     "metadata": {},
     "output_type": "display_data"
    },
    {
     "name": "stdout",
     "output_type": "stream",
     "text": [
      "\n",
      "Train \t\t  0.0039\t   99.04%\t   82.46%\n",
      "Test \t\t  0.0569\t   97.94%\t   65.11%\n",
      "Epoch [127/500]\n"
     ]
    },
    {
     "data": {
      "application/vnd.jupyter.widget-view+json": {
       "model_id": "7420e1fd3229497e8444695d039f6b8b",
       "version_major": 2,
       "version_minor": 0
      },
      "text/plain": [
       "HBox(children=(FloatProgress(value=0.0, max=275.0), HTML(value='')))"
      ]
     },
     "metadata": {},
     "output_type": "display_data"
    },
    {
     "name": "stdout",
     "output_type": "stream",
     "text": [
      "\n",
      "Train \t\t  0.0050\t   98.93%\t   80.72%\n",
      "Test \t\t  0.0545\t   95.22%\t   44.73%\n",
      "Epoch [128/500]\n"
     ]
    },
    {
     "data": {
      "application/vnd.jupyter.widget-view+json": {
       "model_id": "770bef6c0321445d91ce9a47231eabeb",
       "version_major": 2,
       "version_minor": 0
      },
      "text/plain": [
       "HBox(children=(FloatProgress(value=0.0, max=275.0), HTML(value='')))"
      ]
     },
     "metadata": {},
     "output_type": "display_data"
    },
    {
     "name": "stdout",
     "output_type": "stream",
     "text": [
      "\n",
      "Train \t\t  0.0051\t   98.71%\t   77.68%\n",
      "Test \t\t  0.0441\t   97.65%\t   62.13%\n",
      "Epoch [129/500]\n"
     ]
    },
    {
     "data": {
      "application/vnd.jupyter.widget-view+json": {
       "model_id": "1edbc5518007422a9bfbd51a2f603be6",
       "version_major": 2,
       "version_minor": 0
      },
      "text/plain": [
       "HBox(children=(FloatProgress(value=0.0, max=275.0), HTML(value='')))"
      ]
     },
     "metadata": {},
     "output_type": "display_data"
    },
    {
     "name": "stdout",
     "output_type": "stream",
     "text": [
      "\n",
      "Train \t\t  0.0039\t   99.05%\t   82.60%\n",
      "Test \t\t  0.0741\t   97.87%\t   64.30%\n",
      "Epoch [130/500]\n"
     ]
    },
    {
     "data": {
      "application/vnd.jupyter.widget-view+json": {
       "model_id": "b9c6b67ca5664870a374a08578b0db82",
       "version_major": 2,
       "version_minor": 0
      },
      "text/plain": [
       "HBox(children=(FloatProgress(value=0.0, max=275.0), HTML(value='')))"
      ]
     },
     "metadata": {},
     "output_type": "display_data"
    },
    {
     "name": "stdout",
     "output_type": "stream",
     "text": [
      "\n",
      "Train \t\t  0.0040\t   99.01%\t   81.96%\n",
      "Test \t\t  0.0672\t   98.07%\t   66.58%\n",
      "Epoch [131/500]\n"
     ]
    },
    {
     "data": {
      "application/vnd.jupyter.widget-view+json": {
       "model_id": "6e954e640d9c457dbf5a195abfd15272",
       "version_major": 2,
       "version_minor": 0
      },
      "text/plain": [
       "HBox(children=(FloatProgress(value=0.0, max=275.0), HTML(value='')))"
      ]
     },
     "metadata": {},
     "output_type": "display_data"
    },
    {
     "name": "stdout",
     "output_type": "stream",
     "text": [
      "\n",
      "Train \t\t  0.0034\t   99.15%\t   84.18%\n",
      "Test \t\t  0.0736\t   98.11%\t   66.92%\n",
      "Epoch [132/500]\n"
     ]
    },
    {
     "data": {
      "application/vnd.jupyter.widget-view+json": {
       "model_id": "7ecdb8a1907d4083b87b7201acdf7791",
       "version_major": 2,
       "version_minor": 0
      },
      "text/plain": [
       "HBox(children=(FloatProgress(value=0.0, max=275.0), HTML(value='')))"
      ]
     },
     "metadata": {},
     "output_type": "display_data"
    },
    {
     "name": "stdout",
     "output_type": "stream",
     "text": [
      "\n",
      "Train \t\t  0.0035\t   99.19%\t   84.77%\n",
      "Test \t\t  0.1349\t   98.17%\t   67.45%\n",
      "Epoch [133/500]\n"
     ]
    },
    {
     "data": {
      "application/vnd.jupyter.widget-view+json": {
       "model_id": "2b95f858cdc145e1a4da52ed0306912b",
       "version_major": 2,
       "version_minor": 0
      },
      "text/plain": [
       "HBox(children=(FloatProgress(value=0.0, max=275.0), HTML(value='')))"
      ]
     },
     "metadata": {},
     "output_type": "display_data"
    },
    {
     "name": "stdout",
     "output_type": "stream",
     "text": [
      "\n",
      "Train \t\t  0.0059\t   98.80%\t   79.00%\n",
      "Test \t\t  0.0386\t   97.04%\t   56.68%\n",
      "Epoch [134/500]\n"
     ]
    },
    {
     "data": {
      "application/vnd.jupyter.widget-view+json": {
       "model_id": "a4239d1b63984a1d88f2cf6a3e4d6454",
       "version_major": 2,
       "version_minor": 0
      },
      "text/plain": [
       "HBox(children=(FloatProgress(value=0.0, max=275.0), HTML(value='')))"
      ]
     },
     "metadata": {},
     "output_type": "display_data"
    },
    {
     "name": "stdout",
     "output_type": "stream",
     "text": [
      "\n",
      "Train \t\t  0.0036\t   99.13%\t   83.81%\n",
      "Test \t\t  0.0680\t   98.13%\t   67.35%\n",
      "Epoch [135/500]\n"
     ]
    },
    {
     "data": {
      "application/vnd.jupyter.widget-view+json": {
       "model_id": "cc3bd258436142c4aae0505f05bdc6b5",
       "version_major": 2,
       "version_minor": 0
      },
      "text/plain": [
       "HBox(children=(FloatProgress(value=0.0, max=275.0), HTML(value='')))"
      ]
     },
     "metadata": {},
     "output_type": "display_data"
    },
    {
     "name": "stdout",
     "output_type": "stream",
     "text": [
      "\n",
      "Train \t\t  0.0034\t   99.17%\t   84.46%\n",
      "Test \t\t  0.0878\t   98.55%\t   72.55%\n",
      "Epoch [136/500]\n"
     ]
    },
    {
     "data": {
      "application/vnd.jupyter.widget-view+json": {
       "model_id": "66d4f62c62d74e4ca4250c6b1f64e7e6",
       "version_major": 2,
       "version_minor": 0
      },
      "text/plain": [
       "HBox(children=(FloatProgress(value=0.0, max=275.0), HTML(value='')))"
      ]
     },
     "metadata": {},
     "output_type": "display_data"
    },
    {
     "name": "stdout",
     "output_type": "stream",
     "text": [
      "\n",
      "Train \t\t  0.0043\t   98.91%\t   80.51%\n",
      "Test \t\t  0.0669\t   97.88%\t   64.43%\n",
      "Epoch [137/500]\n"
     ]
    },
    {
     "data": {
      "application/vnd.jupyter.widget-view+json": {
       "model_id": "cd2cd668efa541dbb0a91edb1c9a7287",
       "version_major": 2,
       "version_minor": 0
      },
      "text/plain": [
       "HBox(children=(FloatProgress(value=0.0, max=275.0), HTML(value='')))"
      ]
     },
     "metadata": {},
     "output_type": "display_data"
    },
    {
     "name": "stdout",
     "output_type": "stream",
     "text": [
      "\n",
      "Train \t\t  0.0032\t   99.17%\t   84.43%\n",
      "Test \t\t  0.0445\t   97.56%\t   61.31%\n",
      "Epoch [138/500]\n"
     ]
    },
    {
     "data": {
      "application/vnd.jupyter.widget-view+json": {
       "model_id": "f5bd2ed72a1f4f2d923368046ec3d953",
       "version_major": 2,
       "version_minor": 0
      },
      "text/plain": [
       "HBox(children=(FloatProgress(value=0.0, max=275.0), HTML(value='')))"
      ]
     },
     "metadata": {},
     "output_type": "display_data"
    },
    {
     "name": "stdout",
     "output_type": "stream",
     "text": [
      "\n",
      "Train \t\t  0.0039\t   99.03%\t   82.26%\n",
      "Test \t\t  0.0484\t   97.55%\t   61.17%\n",
      "Epoch [139/500]\n"
     ]
    },
    {
     "data": {
      "application/vnd.jupyter.widget-view+json": {
       "model_id": "eda8f2113e894757936e8dd6993fa784",
       "version_major": 2,
       "version_minor": 0
      },
      "text/plain": [
       "HBox(children=(FloatProgress(value=0.0, max=275.0), HTML(value='')))"
      ]
     },
     "metadata": {},
     "output_type": "display_data"
    },
    {
     "name": "stdout",
     "output_type": "stream",
     "text": [
      "\n",
      "Train \t\t  0.0033\t   99.15%\t   84.04%\n",
      "Test \t\t  0.0892\t   98.19%\t   67.76%\n",
      "Epoch [140/500]\n"
     ]
    },
    {
     "data": {
      "application/vnd.jupyter.widget-view+json": {
       "model_id": "7c3e743eb4ac4cfd85717a4257296da1",
       "version_major": 2,
       "version_minor": 0
      },
      "text/plain": [
       "HBox(children=(FloatProgress(value=0.0, max=275.0), HTML(value='')))"
      ]
     },
     "metadata": {},
     "output_type": "display_data"
    },
    {
     "name": "stdout",
     "output_type": "stream",
     "text": [
      "\n",
      "Train \t\t  0.0031\t   99.21%\t   85.11%\n",
      "Test \t\t  0.0922\t   98.19%\t   67.83%\n",
      "Epoch [141/500]\n"
     ]
    },
    {
     "data": {
      "application/vnd.jupyter.widget-view+json": {
       "model_id": "353f13e2446243eebade5059c86a6b0e",
       "version_major": 2,
       "version_minor": 0
      },
      "text/plain": [
       "HBox(children=(FloatProgress(value=0.0, max=275.0), HTML(value='')))"
      ]
     },
     "metadata": {},
     "output_type": "display_data"
    },
    {
     "name": "stdout",
     "output_type": "stream",
     "text": [
      "\n",
      "Train \t\t  0.0031\t   99.20%\t   84.90%\n",
      "Test \t\t  0.1282\t   98.34%\t   69.51%\n",
      "Epoch [142/500]\n"
     ]
    },
    {
     "data": {
      "application/vnd.jupyter.widget-view+json": {
       "model_id": "939879f7cb284ed99f28e1d59630b35d",
       "version_major": 2,
       "version_minor": 0
      },
      "text/plain": [
       "HBox(children=(FloatProgress(value=0.0, max=275.0), HTML(value='')))"
      ]
     },
     "metadata": {},
     "output_type": "display_data"
    },
    {
     "name": "stdout",
     "output_type": "stream",
     "text": [
      "\n",
      "Train \t\t  0.0026\t   99.29%\t   86.45%\n",
      "Test \t\t  0.1578\t   98.45%\t   70.95%\n",
      "Epoch [143/500]\n"
     ]
    },
    {
     "data": {
      "application/vnd.jupyter.widget-view+json": {
       "model_id": "04241864a34a4ecc916fe095d1b367e4",
       "version_major": 2,
       "version_minor": 0
      },
      "text/plain": [
       "HBox(children=(FloatProgress(value=0.0, max=275.0), HTML(value='')))"
      ]
     },
     "metadata": {},
     "output_type": "display_data"
    },
    {
     "name": "stdout",
     "output_type": "stream",
     "text": [
      "\n",
      "Train \t\t  0.0030\t   99.28%\t   86.16%\n",
      "Test \t\t  0.1227\t   98.14%\t   67.17%\n",
      "Epoch [144/500]\n"
     ]
    },
    {
     "data": {
      "application/vnd.jupyter.widget-view+json": {
       "model_id": "8feeffaa2fa84670bd41e3204ade9803",
       "version_major": 2,
       "version_minor": 0
      },
      "text/plain": [
       "HBox(children=(FloatProgress(value=0.0, max=275.0), HTML(value='')))"
      ]
     },
     "metadata": {},
     "output_type": "display_data"
    },
    {
     "name": "stdout",
     "output_type": "stream",
     "text": [
      "\n",
      "Train \t\t  0.0032\t   99.23%\t   85.42%\n",
      "Test \t\t  0.1211\t   98.32%\t   69.43%\n",
      "Epoch [145/500]\n"
     ]
    },
    {
     "data": {
      "application/vnd.jupyter.widget-view+json": {
       "model_id": "3d30f3c95b0e4138a5827d424c237b39",
       "version_major": 2,
       "version_minor": 0
      },
      "text/plain": [
       "HBox(children=(FloatProgress(value=0.0, max=275.0), HTML(value='')))"
      ]
     },
     "metadata": {},
     "output_type": "display_data"
    },
    {
     "name": "stdout",
     "output_type": "stream",
     "text": [
      "\n",
      "Train \t\t  0.0065\t   98.24%\t   71.84%\n",
      "Test \t\t  0.0584\t   97.22%\t   58.07%\n",
      "Epoch [146/500]\n"
     ]
    },
    {
     "data": {
      "application/vnd.jupyter.widget-view+json": {
       "model_id": "3ae7c873abf34c54904d71fafdf1ba2f",
       "version_major": 2,
       "version_minor": 0
      },
      "text/plain": [
       "HBox(children=(FloatProgress(value=0.0, max=275.0), HTML(value='')))"
      ]
     },
     "metadata": {},
     "output_type": "display_data"
    },
    {
     "name": "stdout",
     "output_type": "stream",
     "text": [
      "\n",
      "Train \t\t  0.0053\t   98.71%\t   77.75%\n",
      "Test \t\t  0.0763\t   97.71%\t   62.62%\n",
      "Epoch [147/500]\n"
     ]
    },
    {
     "data": {
      "application/vnd.jupyter.widget-view+json": {
       "model_id": "d1b9e6fb8cd846a4ae2c88812c2a48f5",
       "version_major": 2,
       "version_minor": 0
      },
      "text/plain": [
       "HBox(children=(FloatProgress(value=0.0, max=275.0), HTML(value='')))"
      ]
     },
     "metadata": {},
     "output_type": "display_data"
    },
    {
     "name": "stdout",
     "output_type": "stream",
     "text": [
      "\n",
      "Train \t\t  0.0051\t   98.81%\t   79.12%\n",
      "Test \t\t  0.0660\t   97.77%\t   63.28%\n",
      "Epoch [148/500]\n"
     ]
    },
    {
     "data": {
      "application/vnd.jupyter.widget-view+json": {
       "model_id": "62412dec23fd485bbf6636e7f0bbcd34",
       "version_major": 2,
       "version_minor": 0
      },
      "text/plain": [
       "HBox(children=(FloatProgress(value=0.0, max=275.0), HTML(value='')))"
      ]
     },
     "metadata": {},
     "output_type": "display_data"
    },
    {
     "name": "stdout",
     "output_type": "stream",
     "text": [
      "\n",
      "Train \t\t  0.0034\t   99.13%\t   83.87%\n",
      "Test \t\t  0.0719\t   98.31%\t   69.40%\n",
      "Epoch [149/500]\n"
     ]
    },
    {
     "data": {
      "application/vnd.jupyter.widget-view+json": {
       "model_id": "561a727204af4cb3b1670b4f85848731",
       "version_major": 2,
       "version_minor": 0
      },
      "text/plain": [
       "HBox(children=(FloatProgress(value=0.0, max=275.0), HTML(value='')))"
      ]
     },
     "metadata": {},
     "output_type": "display_data"
    },
    {
     "name": "stdout",
     "output_type": "stream",
     "text": [
      "\n",
      "Train \t\t  0.0032\t   99.17%\t   84.43%\n",
      "Test \t\t  0.0668\t   98.23%\t   68.49%\n",
      "Epoch [150/500]\n"
     ]
    },
    {
     "data": {
      "application/vnd.jupyter.widget-view+json": {
       "model_id": "508c91ea33cc49dca9a3be16e488f9bf",
       "version_major": 2,
       "version_minor": 0
      },
      "text/plain": [
       "HBox(children=(FloatProgress(value=0.0, max=275.0), HTML(value='')))"
      ]
     },
     "metadata": {},
     "output_type": "display_data"
    },
    {
     "name": "stdout",
     "output_type": "stream",
     "text": [
      "\n",
      "Train \t\t  0.0030\t   99.20%\t   84.88%\n",
      "Test \t\t  0.0758\t   98.51%\t   71.94%\n",
      "Epoch [151/500]\n"
     ]
    },
    {
     "data": {
      "application/vnd.jupyter.widget-view+json": {
       "model_id": "80bbcf83fd034a02ac1f6392f947f234",
       "version_major": 2,
       "version_minor": 0
      },
      "text/plain": [
       "HBox(children=(FloatProgress(value=0.0, max=275.0), HTML(value='')))"
      ]
     },
     "metadata": {},
     "output_type": "display_data"
    },
    {
     "name": "stdout",
     "output_type": "stream",
     "text": [
      "\n",
      "Train \t\t  0.0028\t   99.26%\t   85.95%\n",
      "Test \t\t  0.1032\t   98.53%\t   72.22%\n",
      "Epoch [152/500]\n"
     ]
    },
    {
     "data": {
      "application/vnd.jupyter.widget-view+json": {
       "model_id": "a369c87285d4412298dd58807408e1c4",
       "version_major": 2,
       "version_minor": 0
      },
      "text/plain": [
       "HBox(children=(FloatProgress(value=0.0, max=275.0), HTML(value='')))"
      ]
     },
     "metadata": {},
     "output_type": "display_data"
    },
    {
     "name": "stdout",
     "output_type": "stream",
     "text": [
      "\n",
      "Train \t\t  0.0028\t   99.28%\t   86.19%\n",
      "Test \t\t  0.1095\t   98.39%\t   70.27%\n",
      "Epoch [153/500]\n"
     ]
    },
    {
     "data": {
      "application/vnd.jupyter.widget-view+json": {
       "model_id": "cdc9ce9774ff4c39934f4b7934103ee2",
       "version_major": 2,
       "version_minor": 0
      },
      "text/plain": [
       "HBox(children=(FloatProgress(value=0.0, max=275.0), HTML(value='')))"
      ]
     },
     "metadata": {},
     "output_type": "display_data"
    },
    {
     "name": "stdout",
     "output_type": "stream",
     "text": [
      "\n",
      "Train \t\t  0.0028\t   99.28%\t   86.23%\n",
      "Test \t\t  0.1098\t   98.60%\t   73.17%\n",
      "Epoch [154/500]\n"
     ]
    },
    {
     "data": {
      "application/vnd.jupyter.widget-view+json": {
       "model_id": "64081bb25b0d47e6b81ca7cd61057567",
       "version_major": 2,
       "version_minor": 0
      },
      "text/plain": [
       "HBox(children=(FloatProgress(value=0.0, max=275.0), HTML(value='')))"
      ]
     },
     "metadata": {},
     "output_type": "display_data"
    },
    {
     "name": "stdout",
     "output_type": "stream",
     "text": [
      "\n",
      "Train \t\t  0.0027\t   99.30%\t   86.60%\n",
      "Test \t\t  0.1096\t   98.59%\t   73.05%\n",
      "Epoch [155/500]\n"
     ]
    },
    {
     "data": {
      "application/vnd.jupyter.widget-view+json": {
       "model_id": "f0facc7ebb62470295a12a694e5b2716",
       "version_major": 2,
       "version_minor": 0
      },
      "text/plain": [
       "HBox(children=(FloatProgress(value=0.0, max=275.0), HTML(value='')))"
      ]
     },
     "metadata": {},
     "output_type": "display_data"
    },
    {
     "name": "stdout",
     "output_type": "stream",
     "text": [
      "\n",
      "Train \t\t  0.0028\t   99.27%\t   86.12%\n",
      "Test \t\t  0.0922\t   98.47%\t   71.41%\n",
      "Epoch [156/500]\n"
     ]
    },
    {
     "data": {
      "application/vnd.jupyter.widget-view+json": {
       "model_id": "0b4e7f0f2f5648ccbe0750d8a1c18596",
       "version_major": 2,
       "version_minor": 0
      },
      "text/plain": [
       "HBox(children=(FloatProgress(value=0.0, max=275.0), HTML(value='')))"
      ]
     },
     "metadata": {},
     "output_type": "display_data"
    },
    {
     "name": "stdout",
     "output_type": "stream",
     "text": [
      "\n",
      "Train \t\t  0.0039\t   99.07%\t   82.93%\n",
      "Test \t\t  0.1083\t   98.46%\t   71.25%\n",
      "Epoch [157/500]\n"
     ]
    },
    {
     "data": {
      "application/vnd.jupyter.widget-view+json": {
       "model_id": "7c6e6d40f4ea459a9dcde243602b9a52",
       "version_major": 2,
       "version_minor": 0
      },
      "text/plain": [
       "HBox(children=(FloatProgress(value=0.0, max=275.0), HTML(value='')))"
      ]
     },
     "metadata": {},
     "output_type": "display_data"
    },
    {
     "name": "stdout",
     "output_type": "stream",
     "text": [
      "\n",
      "Train \t\t  0.0026\t   99.32%\t   86.85%\n",
      "Test \t\t  0.1440\t   98.44%\t   70.81%\n",
      "Epoch [158/500]\n"
     ]
    },
    {
     "data": {
      "application/vnd.jupyter.widget-view+json": {
       "model_id": "b4cf3dac6fe940c9825b866ea196257a",
       "version_major": 2,
       "version_minor": 0
      },
      "text/plain": [
       "HBox(children=(FloatProgress(value=0.0, max=275.0), HTML(value='')))"
      ]
     },
     "metadata": {},
     "output_type": "display_data"
    },
    {
     "name": "stdout",
     "output_type": "stream",
     "text": [
      "\n",
      "Train \t\t  0.0026\t   99.34%\t   87.14%\n",
      "Test \t\t  0.1065\t   98.50%\t   71.78%\n",
      "Epoch [159/500]\n"
     ]
    },
    {
     "data": {
      "application/vnd.jupyter.widget-view+json": {
       "model_id": "450e2039742b471fad186b19775111bb",
       "version_major": 2,
       "version_minor": 0
      },
      "text/plain": [
       "HBox(children=(FloatProgress(value=0.0, max=275.0), HTML(value='')))"
      ]
     },
     "metadata": {},
     "output_type": "display_data"
    },
    {
     "name": "stdout",
     "output_type": "stream",
     "text": [
      "\n",
      "Train \t\t  0.0025\t   99.34%\t   87.28%\n",
      "Test \t\t  0.1356\t   98.33%\t   69.56%\n",
      "Epoch [160/500]\n"
     ]
    },
    {
     "data": {
      "application/vnd.jupyter.widget-view+json": {
       "model_id": "2a2db8167baf4120881167ad0c1738e5",
       "version_major": 2,
       "version_minor": 0
      },
      "text/plain": [
       "HBox(children=(FloatProgress(value=0.0, max=275.0), HTML(value='')))"
      ]
     },
     "metadata": {},
     "output_type": "display_data"
    },
    {
     "name": "stdout",
     "output_type": "stream",
     "text": [
      "\n",
      "Train \t\t  0.0026\t   99.34%\t   87.28%\n",
      "Test \t\t  0.1572\t   98.68%\t   74.23%\n",
      "Epoch [161/500]\n"
     ]
    },
    {
     "data": {
      "application/vnd.jupyter.widget-view+json": {
       "model_id": "7d154b29a8d7493dadd20ef33d67e66f",
       "version_major": 2,
       "version_minor": 0
      },
      "text/plain": [
       "HBox(children=(FloatProgress(value=0.0, max=275.0), HTML(value='')))"
      ]
     },
     "metadata": {},
     "output_type": "display_data"
    },
    {
     "name": "stdout",
     "output_type": "stream",
     "text": [
      "\n",
      "Train \t\t  0.0052\t   98.74%\t   78.10%\n",
      "Test \t\t  0.1085\t   97.46%\t   60.09%\n",
      "Epoch [162/500]\n"
     ]
    },
    {
     "data": {
      "application/vnd.jupyter.widget-view+json": {
       "model_id": "4aa25cc1b41f43deaa88fdf301f0e764",
       "version_major": 2,
       "version_minor": 0
      },
      "text/plain": [
       "HBox(children=(FloatProgress(value=0.0, max=275.0), HTML(value='')))"
      ]
     },
     "metadata": {},
     "output_type": "display_data"
    },
    {
     "name": "stdout",
     "output_type": "stream",
     "text": [
      "\n",
      "Train \t\t  0.0053\t   98.84%\t   79.53%\n",
      "Test \t\t  0.0820\t   97.95%\t   65.23%\n",
      "Epoch [163/500]\n"
     ]
    },
    {
     "data": {
      "application/vnd.jupyter.widget-view+json": {
       "model_id": "f823dba4c08043f39120f1acc6cc565c",
       "version_major": 2,
       "version_minor": 0
      },
      "text/plain": [
       "HBox(children=(FloatProgress(value=0.0, max=275.0), HTML(value='')))"
      ]
     },
     "metadata": {},
     "output_type": "display_data"
    },
    {
     "name": "stdout",
     "output_type": "stream",
     "text": [
      "\n",
      "Train \t\t  0.0035\t   99.13%\t   83.77%\n",
      "Test \t\t  0.1088\t   98.21%\t   68.05%\n",
      "Epoch [164/500]\n"
     ]
    },
    {
     "data": {
      "application/vnd.jupyter.widget-view+json": {
       "model_id": "c96f7511f9dd40c89f2a78c7e5508a49",
       "version_major": 2,
       "version_minor": 0
      },
      "text/plain": [
       "HBox(children=(FloatProgress(value=0.0, max=275.0), HTML(value='')))"
      ]
     },
     "metadata": {},
     "output_type": "display_data"
    },
    {
     "name": "stdout",
     "output_type": "stream",
     "text": [
      "\n",
      "Train \t\t  0.0030\t   99.23%\t   85.33%\n",
      "Test \t\t  0.1059\t   98.42%\t   70.79%\n",
      "Epoch [165/500]\n"
     ]
    },
    {
     "data": {
      "application/vnd.jupyter.widget-view+json": {
       "model_id": "ea68eee8b3e342c3ab1b1ac7de387052",
       "version_major": 2,
       "version_minor": 0
      },
      "text/plain": [
       "HBox(children=(FloatProgress(value=0.0, max=275.0), HTML(value='')))"
      ]
     },
     "metadata": {},
     "output_type": "display_data"
    },
    {
     "name": "stdout",
     "output_type": "stream",
     "text": [
      "\n",
      "Train \t\t  0.0026\t   99.33%\t   87.07%\n",
      "Test \t\t  0.1100\t   98.64%\t   73.77%\n",
      "Epoch [166/500]\n"
     ]
    },
    {
     "data": {
      "application/vnd.jupyter.widget-view+json": {
       "model_id": "d018f4983a1b4b4e9e469d494fc8d6f9",
       "version_major": 2,
       "version_minor": 0
      },
      "text/plain": [
       "HBox(children=(FloatProgress(value=0.0, max=275.0), HTML(value='')))"
      ]
     },
     "metadata": {},
     "output_type": "display_data"
    },
    {
     "name": "stdout",
     "output_type": "stream",
     "text": [
      "\n",
      "Train \t\t  0.0026\t   99.33%\t   87.10%\n",
      "Test \t\t  0.1376\t   98.58%\t   72.89%\n",
      "Epoch [167/500]\n"
     ]
    },
    {
     "data": {
      "application/vnd.jupyter.widget-view+json": {
       "model_id": "5582654f8ebb4313a0c7f2b1d28ecc74",
       "version_major": 2,
       "version_minor": 0
      },
      "text/plain": [
       "HBox(children=(FloatProgress(value=0.0, max=275.0), HTML(value='')))"
      ]
     },
     "metadata": {},
     "output_type": "display_data"
    },
    {
     "name": "stdout",
     "output_type": "stream",
     "text": [
      "\n",
      "Train \t\t  0.0026\t   99.37%\t   87.67%\n",
      "Test \t\t  0.1351\t   98.50%\t   71.82%\n",
      "Epoch [168/500]\n"
     ]
    },
    {
     "data": {
      "application/vnd.jupyter.widget-view+json": {
       "model_id": "ed44618b5d4341318bf894fe5fb21a26",
       "version_major": 2,
       "version_minor": 0
      },
      "text/plain": [
       "HBox(children=(FloatProgress(value=0.0, max=275.0), HTML(value='')))"
      ]
     },
     "metadata": {},
     "output_type": "display_data"
    },
    {
     "name": "stdout",
     "output_type": "stream",
     "text": [
      "\n",
      "Train \t\t  0.0026\t   99.36%\t   87.47%\n",
      "Test \t\t  0.1167\t   98.63%\t   73.38%\n",
      "Epoch [169/500]\n"
     ]
    },
    {
     "data": {
      "application/vnd.jupyter.widget-view+json": {
       "model_id": "f0b4e2ea59ed4a48bc1e87dca90168f0",
       "version_major": 2,
       "version_minor": 0
      },
      "text/plain": [
       "HBox(children=(FloatProgress(value=0.0, max=275.0), HTML(value='')))"
      ]
     },
     "metadata": {},
     "output_type": "display_data"
    },
    {
     "name": "stdout",
     "output_type": "stream",
     "text": [
      "\n",
      "Train \t\t  0.0032\t   99.22%\t   85.18%\n",
      "Test \t\t  0.1223\t   98.54%\t   72.27%\n",
      "Epoch [170/500]\n"
     ]
    },
    {
     "data": {
      "application/vnd.jupyter.widget-view+json": {
       "model_id": "34d90214fa43469f8ff99429ccbf201b",
       "version_major": 2,
       "version_minor": 0
      },
      "text/plain": [
       "HBox(children=(FloatProgress(value=0.0, max=275.0), HTML(value='')))"
      ]
     },
     "metadata": {},
     "output_type": "display_data"
    },
    {
     "name": "stdout",
     "output_type": "stream",
     "text": [
      "\n",
      "Train \t\t  0.0045\t   98.89%\t   80.27%\n",
      "Test \t\t  0.1274\t   97.84%\t   63.79%\n",
      "Epoch [171/500]\n"
     ]
    },
    {
     "data": {
      "application/vnd.jupyter.widget-view+json": {
       "model_id": "da5edeebaff34899b044c0f68cb0aeec",
       "version_major": 2,
       "version_minor": 0
      },
      "text/plain": [
       "HBox(children=(FloatProgress(value=0.0, max=275.0), HTML(value='')))"
      ]
     },
     "metadata": {},
     "output_type": "display_data"
    },
    {
     "name": "stdout",
     "output_type": "stream",
     "text": [
      "\n",
      "Train \t\t  0.0028\t   99.25%\t   85.79%\n",
      "Test \t\t  0.1267\t   98.27%\t   68.77%\n",
      "Epoch [172/500]\n"
     ]
    },
    {
     "data": {
      "application/vnd.jupyter.widget-view+json": {
       "model_id": "bba6e110abd74e36964f08558c630def",
       "version_major": 2,
       "version_minor": 0
      },
      "text/plain": [
       "HBox(children=(FloatProgress(value=0.0, max=275.0), HTML(value='')))"
      ]
     },
     "metadata": {},
     "output_type": "display_data"
    },
    {
     "name": "stdout",
     "output_type": "stream",
     "text": [
      "\n",
      "Train \t\t  0.0025\t   99.36%\t   87.54%\n",
      "Test \t\t  0.1103\t   98.41%\t   70.53%\n",
      "Epoch [173/500]\n"
     ]
    },
    {
     "data": {
      "application/vnd.jupyter.widget-view+json": {
       "model_id": "717b0bfad94e426bb65fe89771073e28",
       "version_major": 2,
       "version_minor": 0
      },
      "text/plain": [
       "HBox(children=(FloatProgress(value=0.0, max=275.0), HTML(value='')))"
      ]
     },
     "metadata": {},
     "output_type": "display_data"
    },
    {
     "name": "stdout",
     "output_type": "stream",
     "text": [
      "\n",
      "Train \t\t  0.0038\t   99.14%\t   83.93%\n",
      "Test \t\t  0.0521\t   97.21%\t   58.05%\n",
      "Epoch [174/500]\n"
     ]
    },
    {
     "data": {
      "application/vnd.jupyter.widget-view+json": {
       "model_id": "f3359acc0657442cbddf67f753bfea78",
       "version_major": 2,
       "version_minor": 0
      },
      "text/plain": [
       "HBox(children=(FloatProgress(value=0.0, max=275.0), HTML(value='')))"
      ]
     },
     "metadata": {},
     "output_type": "display_data"
    },
    {
     "name": "stdout",
     "output_type": "stream",
     "text": [
      "\n",
      "Train \t\t  0.0032\t   99.16%\t   84.27%\n",
      "Test \t\t  0.0981\t   98.35%\t   69.83%\n",
      "Epoch [175/500]\n"
     ]
    },
    {
     "data": {
      "application/vnd.jupyter.widget-view+json": {
       "model_id": "76932da6d0f649c388a597047e1bbe4a",
       "version_major": 2,
       "version_minor": 0
      },
      "text/plain": [
       "HBox(children=(FloatProgress(value=0.0, max=275.0), HTML(value='')))"
      ]
     },
     "metadata": {},
     "output_type": "display_data"
    },
    {
     "name": "stdout",
     "output_type": "stream",
     "text": [
      "\n",
      "Train \t\t  0.0027\t   99.31%\t   86.71%\n",
      "Test \t\t  0.1249\t   98.56%\t   72.48%\n",
      "Epoch [176/500]\n"
     ]
    },
    {
     "data": {
      "application/vnd.jupyter.widget-view+json": {
       "model_id": "9482d8fcbc7542ab8941c0f0cbee06bf",
       "version_major": 2,
       "version_minor": 0
      },
      "text/plain": [
       "HBox(children=(FloatProgress(value=0.0, max=275.0), HTML(value='')))"
      ]
     },
     "metadata": {},
     "output_type": "display_data"
    },
    {
     "name": "stdout",
     "output_type": "stream",
     "text": [
      "\n",
      "Train \t\t  0.0030\t   99.21%\t   85.12%\n",
      "Test \t\t  0.1106\t   98.59%\t   72.91%\n",
      "Epoch [177/500]\n"
     ]
    },
    {
     "data": {
      "application/vnd.jupyter.widget-view+json": {
       "model_id": "f413b75577f04135b373a4d18348485c",
       "version_major": 2,
       "version_minor": 0
      },
      "text/plain": [
       "HBox(children=(FloatProgress(value=0.0, max=275.0), HTML(value='')))"
      ]
     },
     "metadata": {},
     "output_type": "display_data"
    },
    {
     "name": "stdout",
     "output_type": "stream",
     "text": [
      "\n",
      "Train \t\t  0.0023\t   99.40%\t   88.25%\n",
      "Test \t\t  0.1538\t   98.72%\t   74.77%\n",
      "Epoch [178/500]\n"
     ]
    },
    {
     "data": {
      "application/vnd.jupyter.widget-view+json": {
       "model_id": "ca61c020a4de429693c770bbd4054648",
       "version_major": 2,
       "version_minor": 0
      },
      "text/plain": [
       "HBox(children=(FloatProgress(value=0.0, max=275.0), HTML(value='')))"
      ]
     },
     "metadata": {},
     "output_type": "display_data"
    },
    {
     "name": "stdout",
     "output_type": "stream",
     "text": [
      "\n",
      "Train \t\t  0.0023\t   99.42%\t   88.52%\n",
      "Test \t\t  0.1411\t   98.73%\t   74.84%\n",
      "Epoch [179/500]\n"
     ]
    },
    {
     "data": {
      "application/vnd.jupyter.widget-view+json": {
       "model_id": "83d9d1b67d394a8e8de26b0f8351cabf",
       "version_major": 2,
       "version_minor": 0
      },
      "text/plain": [
       "HBox(children=(FloatProgress(value=0.0, max=275.0), HTML(value='')))"
      ]
     },
     "metadata": {},
     "output_type": "display_data"
    },
    {
     "name": "stdout",
     "output_type": "stream",
     "text": [
      "\n",
      "Train \t\t  0.0024\t   99.40%\t   88.23%\n",
      "Test \t\t  0.1575\t   98.01%\t   65.73%\n",
      "Epoch [180/500]\n"
     ]
    },
    {
     "data": {
      "application/vnd.jupyter.widget-view+json": {
       "model_id": "6bd4e151a25b444fab78cceabc48e363",
       "version_major": 2,
       "version_minor": 0
      },
      "text/plain": [
       "HBox(children=(FloatProgress(value=0.0, max=275.0), HTML(value='')))"
      ]
     },
     "metadata": {},
     "output_type": "display_data"
    },
    {
     "name": "stdout",
     "output_type": "stream",
     "text": [
      "\n",
      "Train \t\t  0.0025\t   99.32%\t   86.96%\n",
      "Test \t\t  0.1573\t   98.56%\t   72.48%\n",
      "Epoch [181/500]\n"
     ]
    },
    {
     "data": {
      "application/vnd.jupyter.widget-view+json": {
       "model_id": "7c5a464f0134455c8d84de4ff1769070",
       "version_major": 2,
       "version_minor": 0
      },
      "text/plain": [
       "HBox(children=(FloatProgress(value=0.0, max=275.0), HTML(value='')))"
      ]
     },
     "metadata": {},
     "output_type": "display_data"
    },
    {
     "name": "stdout",
     "output_type": "stream",
     "text": [
      "\n",
      "Train \t\t  0.0026\t   99.39%\t   88.00%\n",
      "Test \t\t  0.1842\t   98.72%\t   74.79%\n",
      "Epoch [182/500]\n"
     ]
    },
    {
     "data": {
      "application/vnd.jupyter.widget-view+json": {
       "model_id": "b1787a23e6f1408e839935f56277f4b5",
       "version_major": 2,
       "version_minor": 0
      },
      "text/plain": [
       "HBox(children=(FloatProgress(value=0.0, max=275.0), HTML(value='')))"
      ]
     },
     "metadata": {},
     "output_type": "display_data"
    },
    {
     "name": "stdout",
     "output_type": "stream",
     "text": [
      "\n",
      "Train \t\t  0.0098\t   97.97%\t   68.94%\n",
      "Test \t\t  0.0561\t   96.12%\t   49.87%\n",
      "Epoch [183/500]\n"
     ]
    },
    {
     "data": {
      "application/vnd.jupyter.widget-view+json": {
       "model_id": "ee2a663b7e2541f4b86c0052f895ed51",
       "version_major": 2,
       "version_minor": 0
      },
      "text/plain": [
       "HBox(children=(FloatProgress(value=0.0, max=275.0), HTML(value='')))"
      ]
     },
     "metadata": {},
     "output_type": "display_data"
    },
    {
     "name": "stdout",
     "output_type": "stream",
     "text": [
      "\n",
      "Train \t\t  0.0046\t   98.88%\t   80.03%\n",
      "Test \t\t  0.0749\t   97.65%\t   61.95%\n",
      "Epoch [184/500]\n"
     ]
    },
    {
     "data": {
      "application/vnd.jupyter.widget-view+json": {
       "model_id": "1ff6e9d2c99b4f8da316ffcdd762b9f2",
       "version_major": 2,
       "version_minor": 0
      },
      "text/plain": [
       "HBox(children=(FloatProgress(value=0.0, max=275.0), HTML(value='')))"
      ]
     },
     "metadata": {},
     "output_type": "display_data"
    },
    {
     "name": "stdout",
     "output_type": "stream",
     "text": [
      "\n",
      "Train \t\t  0.0030\t   99.23%\t   85.35%\n",
      "Test \t\t  0.0844\t   98.07%\t   66.48%\n",
      "Epoch [185/500]\n"
     ]
    },
    {
     "data": {
      "application/vnd.jupyter.widget-view+json": {
       "model_id": "9e2ba64e30804b5495ee60d70e3d9528",
       "version_major": 2,
       "version_minor": 0
      },
      "text/plain": [
       "HBox(children=(FloatProgress(value=0.0, max=275.0), HTML(value='')))"
      ]
     },
     "metadata": {},
     "output_type": "display_data"
    },
    {
     "name": "stdout",
     "output_type": "stream",
     "text": [
      "\n",
      "Train \t\t  0.0026\t   99.35%\t   87.33%\n",
      "Test \t\t  0.0857\t   98.04%\t   66.18%\n",
      "Epoch [186/500]\n"
     ]
    },
    {
     "data": {
      "application/vnd.jupyter.widget-view+json": {
       "model_id": "0624847348e540148648a28d4654abe6",
       "version_major": 2,
       "version_minor": 0
      },
      "text/plain": [
       "HBox(children=(FloatProgress(value=0.0, max=275.0), HTML(value='')))"
      ]
     },
     "metadata": {},
     "output_type": "display_data"
    },
    {
     "name": "stdout",
     "output_type": "stream",
     "text": [
      "\n",
      "Train \t\t  0.0025\t   99.38%\t   87.87%\n",
      "Test \t\t  0.1163\t   98.54%\t   72.35%\n",
      "Epoch [187/500]\n"
     ]
    },
    {
     "data": {
      "application/vnd.jupyter.widget-view+json": {
       "model_id": "ad1059f9d1aa41dd9669a21f3c2995e9",
       "version_major": 2,
       "version_minor": 0
      },
      "text/plain": [
       "HBox(children=(FloatProgress(value=0.0, max=275.0), HTML(value='')))"
      ]
     },
     "metadata": {},
     "output_type": "display_data"
    },
    {
     "name": "stdout",
     "output_type": "stream",
     "text": [
      "\n",
      "Train \t\t  0.0030\t   99.23%\t   85.33%\n",
      "Test \t\t  0.1031\t   98.11%\t   66.92%\n",
      "Epoch [188/500]\n"
     ]
    },
    {
     "data": {
      "application/vnd.jupyter.widget-view+json": {
       "model_id": "793dd15d02af44a5b9295821b479b0f7",
       "version_major": 2,
       "version_minor": 0
      },
      "text/plain": [
       "HBox(children=(FloatProgress(value=0.0, max=275.0), HTML(value='')))"
      ]
     },
     "metadata": {},
     "output_type": "display_data"
    },
    {
     "name": "stdout",
     "output_type": "stream",
     "text": [
      "\n",
      "Train \t\t  0.0028\t   99.36%\t   87.56%\n",
      "Test \t\t  0.1493\t   98.55%\t   72.36%\n",
      "Epoch [189/500]\n"
     ]
    },
    {
     "data": {
      "application/vnd.jupyter.widget-view+json": {
       "model_id": "02ff9f356be349ba8d16c22664f69d3e",
       "version_major": 2,
       "version_minor": 0
      },
      "text/plain": [
       "HBox(children=(FloatProgress(value=0.0, max=275.0), HTML(value='')))"
      ]
     },
     "metadata": {},
     "output_type": "display_data"
    },
    {
     "name": "stdout",
     "output_type": "stream",
     "text": [
      "\n",
      "Train \t\t  0.0026\t   99.38%\t   87.88%\n",
      "Test \t\t  0.0875\t   96.73%\t   54.09%\n",
      "Epoch [190/500]\n"
     ]
    },
    {
     "data": {
      "application/vnd.jupyter.widget-view+json": {
       "model_id": "932ab0e78d9745a68d4ee75bc0149d31",
       "version_major": 2,
       "version_minor": 0
      },
      "text/plain": [
       "HBox(children=(FloatProgress(value=0.0, max=275.0), HTML(value='')))"
      ]
     },
     "metadata": {},
     "output_type": "display_data"
    },
    {
     "name": "stdout",
     "output_type": "stream",
     "text": [
      "\n",
      "Train \t\t  0.0034\t   99.19%\t   84.68%\n",
      "Test \t\t  0.0497\t   98.14%\t   67.45%\n",
      "Epoch [191/500]\n"
     ]
    },
    {
     "data": {
      "application/vnd.jupyter.widget-view+json": {
       "model_id": "3c54bd4f15ff4935b20ac4588bd2877f",
       "version_major": 2,
       "version_minor": 0
      },
      "text/plain": [
       "HBox(children=(FloatProgress(value=0.0, max=275.0), HTML(value='')))"
      ]
     },
     "metadata": {},
     "output_type": "display_data"
    },
    {
     "name": "stdout",
     "output_type": "stream",
     "text": [
      "\n",
      "Train \t\t  0.0028\t   99.33%\t   86.98%\n",
      "Test \t\t  0.0820\t   98.27%\t   68.88%\n",
      "Epoch [192/500]\n"
     ]
    },
    {
     "data": {
      "application/vnd.jupyter.widget-view+json": {
       "model_id": "46cf958dae004530b32ce292df0c4d61",
       "version_major": 2,
       "version_minor": 0
      },
      "text/plain": [
       "HBox(children=(FloatProgress(value=0.0, max=275.0), HTML(value='')))"
      ]
     },
     "metadata": {},
     "output_type": "display_data"
    },
    {
     "name": "stdout",
     "output_type": "stream",
     "text": [
      "\n",
      "Train \t\t  0.0023\t   99.42%\t   88.61%\n",
      "Test \t\t  0.0960\t   98.59%\t   73.06%\n",
      "Epoch [193/500]\n"
     ]
    },
    {
     "data": {
      "application/vnd.jupyter.widget-view+json": {
       "model_id": "476cc7e5d54443c8a63b3e8dacf78ca5",
       "version_major": 2,
       "version_minor": 0
      },
      "text/plain": [
       "HBox(children=(FloatProgress(value=0.0, max=275.0), HTML(value='')))"
      ]
     },
     "metadata": {},
     "output_type": "display_data"
    },
    {
     "name": "stdout",
     "output_type": "stream",
     "text": [
      "\n",
      "Train \t\t  0.0022\t   99.45%\t   89.04%\n",
      "Test \t\t  0.0926\t   98.68%\t   74.25%\n",
      "Epoch [194/500]\n"
     ]
    },
    {
     "data": {
      "application/vnd.jupyter.widget-view+json": {
       "model_id": "fcd2501e67884f49b5545842ea3a1c32",
       "version_major": 2,
       "version_minor": 0
      },
      "text/plain": [
       "HBox(children=(FloatProgress(value=0.0, max=275.0), HTML(value='')))"
      ]
     },
     "metadata": {},
     "output_type": "display_data"
    },
    {
     "name": "stdout",
     "output_type": "stream",
     "text": [
      "\n",
      "Train \t\t  0.0020\t   99.49%\t   89.81%\n",
      "Test \t\t  0.1345\t   98.73%\t   74.89%\n",
      "Epoch [195/500]\n"
     ]
    },
    {
     "data": {
      "application/vnd.jupyter.widget-view+json": {
       "model_id": "c9751c57206141f192930c3b501f61d5",
       "version_major": 2,
       "version_minor": 0
      },
      "text/plain": [
       "HBox(children=(FloatProgress(value=0.0, max=275.0), HTML(value='')))"
      ]
     },
     "metadata": {},
     "output_type": "display_data"
    },
    {
     "name": "stdout",
     "output_type": "stream",
     "text": [
      "\n",
      "Train \t\t  0.0021\t   99.47%\t   89.49%\n",
      "Test \t\t  0.1404\t   98.84%\t   76.57%\n",
      "Epoch [196/500]\n"
     ]
    },
    {
     "data": {
      "application/vnd.jupyter.widget-view+json": {
       "model_id": "cf597be8bd514518be45cd687387b7e8",
       "version_major": 2,
       "version_minor": 0
      },
      "text/plain": [
       "HBox(children=(FloatProgress(value=0.0, max=275.0), HTML(value='')))"
      ]
     },
     "metadata": {},
     "output_type": "display_data"
    },
    {
     "name": "stdout",
     "output_type": "stream",
     "text": [
      "\n",
      "Train \t\t  0.0021\t   99.48%\t   89.73%\n",
      "Test \t\t  0.1455\t   98.77%\t   75.55%\n",
      "Epoch [197/500]\n"
     ]
    },
    {
     "data": {
      "application/vnd.jupyter.widget-view+json": {
       "model_id": "dab55bbc30e24c16bebd7bd344893d1c",
       "version_major": 2,
       "version_minor": 0
      },
      "text/plain": [
       "HBox(children=(FloatProgress(value=0.0, max=275.0), HTML(value='')))"
      ]
     },
     "metadata": {},
     "output_type": "display_data"
    },
    {
     "name": "stdout",
     "output_type": "stream",
     "text": [
      "\n",
      "Train \t\t  0.0022\t   99.47%\t   89.43%\n",
      "Test \t\t  0.1087\t   98.58%\t   72.90%\n",
      "Epoch [198/500]\n"
     ]
    },
    {
     "data": {
      "application/vnd.jupyter.widget-view+json": {
       "model_id": "79c975a7906e4ff6882805ab43d409c6",
       "version_major": 2,
       "version_minor": 0
      },
      "text/plain": [
       "HBox(children=(FloatProgress(value=0.0, max=275.0), HTML(value='')))"
      ]
     },
     "metadata": {},
     "output_type": "display_data"
    },
    {
     "name": "stdout",
     "output_type": "stream",
     "text": [
      "\n",
      "Train \t\t  0.0030\t   99.29%\t   86.36%\n",
      "Test \t\t  0.0673\t   97.52%\t   60.83%\n",
      "Epoch [199/500]\n"
     ]
    },
    {
     "data": {
      "application/vnd.jupyter.widget-view+json": {
       "model_id": "562060e172bd4cb5b316af675f0c3743",
       "version_major": 2,
       "version_minor": 0
      },
      "text/plain": [
       "HBox(children=(FloatProgress(value=0.0, max=275.0), HTML(value='')))"
      ]
     },
     "metadata": {},
     "output_type": "display_data"
    },
    {
     "name": "stdout",
     "output_type": "stream",
     "text": [
      "\n",
      "Train \t\t  0.0029\t   99.30%\t   86.58%\n",
      "Test \t\t  0.1029\t   98.28%\t   69.10%\n",
      "Epoch [200/500]\n"
     ]
    },
    {
     "data": {
      "application/vnd.jupyter.widget-view+json": {
       "model_id": "b39c163dd3f7459fb759a4268cdf2fb5",
       "version_major": 2,
       "version_minor": 0
      },
      "text/plain": [
       "HBox(children=(FloatProgress(value=0.0, max=275.0), HTML(value='')))"
      ]
     },
     "metadata": {},
     "output_type": "display_data"
    },
    {
     "name": "stdout",
     "output_type": "stream",
     "text": [
      "\n",
      "Train \t\t  0.0024\t   99.44%\t   88.86%\n",
      "Test \t\t  0.1317\t   98.65%\t   73.81%\n",
      "Epoch [201/500]\n"
     ]
    },
    {
     "data": {
      "application/vnd.jupyter.widget-view+json": {
       "model_id": "3efde92e5e7540d2a541b334ba3379b0",
       "version_major": 2,
       "version_minor": 0
      },
      "text/plain": [
       "HBox(children=(FloatProgress(value=0.0, max=275.0), HTML(value='')))"
      ]
     },
     "metadata": {},
     "output_type": "display_data"
    },
    {
     "name": "stdout",
     "output_type": "stream",
     "text": [
      "\n",
      "Train \t\t  0.0024\t   99.42%\t   88.59%\n",
      "Test \t\t  0.1674\t   98.87%\t   77.07%\n",
      "Epoch [202/500]\n"
     ]
    },
    {
     "data": {
      "application/vnd.jupyter.widget-view+json": {
       "model_id": "fc1c6dcf97af4df6971cce9bc59a04b2",
       "version_major": 2,
       "version_minor": 0
      },
      "text/plain": [
       "HBox(children=(FloatProgress(value=0.0, max=275.0), HTML(value='')))"
      ]
     },
     "metadata": {},
     "output_type": "display_data"
    },
    {
     "name": "stdout",
     "output_type": "stream",
     "text": [
      "\n",
      "Train \t\t  0.0020\t   99.51%\t   90.17%\n",
      "Test \t\t  0.1848\t   98.96%\t   78.49%\n",
      "Epoch [203/500]\n"
     ]
    },
    {
     "data": {
      "application/vnd.jupyter.widget-view+json": {
       "model_id": "e837cf8ed362409e92631201f3f123ed",
       "version_major": 2,
       "version_minor": 0
      },
      "text/plain": [
       "HBox(children=(FloatProgress(value=0.0, max=275.0), HTML(value='')))"
      ]
     },
     "metadata": {},
     "output_type": "display_data"
    },
    {
     "name": "stdout",
     "output_type": "stream",
     "text": [
      "\n",
      "Train \t\t  0.0023\t   99.49%\t   89.82%\n",
      "Test \t\t  0.1350\t   98.48%\t   71.47%\n",
      "Epoch [204/500]\n"
     ]
    },
    {
     "data": {
      "application/vnd.jupyter.widget-view+json": {
       "model_id": "f8c3fc670bd84b9aa142ef24f0d00b57",
       "version_major": 2,
       "version_minor": 0
      },
      "text/plain": [
       "HBox(children=(FloatProgress(value=0.0, max=275.0), HTML(value='')))"
      ]
     },
     "metadata": {},
     "output_type": "display_data"
    },
    {
     "name": "stdout",
     "output_type": "stream",
     "text": [
      "\n",
      "Train \t\t  0.0057\t   98.72%\t   77.88%\n",
      "Test \t\t  0.0709\t   98.05%\t   66.47%\n",
      "Epoch [205/500]\n"
     ]
    },
    {
     "data": {
      "application/vnd.jupyter.widget-view+json": {
       "model_id": "bceeabfe10434e87b4a5e48411316131",
       "version_major": 2,
       "version_minor": 0
      },
      "text/plain": [
       "HBox(children=(FloatProgress(value=0.0, max=275.0), HTML(value='')))"
      ]
     },
     "metadata": {},
     "output_type": "display_data"
    },
    {
     "name": "stdout",
     "output_type": "stream",
     "text": [
      "\n",
      "Train \t\t  0.0029\t   99.30%\t   86.60%\n",
      "Test \t\t  0.1421\t   98.47%\t   71.35%\n",
      "Epoch [206/500]\n"
     ]
    },
    {
     "data": {
      "application/vnd.jupyter.widget-view+json": {
       "model_id": "401fadc2be6143afa3950dfb8aef76f3",
       "version_major": 2,
       "version_minor": 0
      },
      "text/plain": [
       "HBox(children=(FloatProgress(value=0.0, max=275.0), HTML(value='')))"
      ]
     },
     "metadata": {},
     "output_type": "display_data"
    },
    {
     "name": "stdout",
     "output_type": "stream",
     "text": [
      "\n",
      "Train \t\t  0.0024\t   99.41%\t   88.37%\n",
      "Test \t\t  0.1717\t   98.74%\t   75.08%\n",
      "Epoch [207/500]\n"
     ]
    },
    {
     "data": {
      "application/vnd.jupyter.widget-view+json": {
       "model_id": "f170565842054fd6a2ec78fe99f8f766",
       "version_major": 2,
       "version_minor": 0
      },
      "text/plain": [
       "HBox(children=(FloatProgress(value=0.0, max=275.0), HTML(value='')))"
      ]
     },
     "metadata": {},
     "output_type": "display_data"
    },
    {
     "name": "stdout",
     "output_type": "stream",
     "text": [
      "\n",
      "Train \t\t  0.0029\t   99.37%\t   87.75%\n",
      "Test \t\t  0.1589\t   98.56%\t   72.65%\n",
      "Epoch [208/500]\n"
     ]
    },
    {
     "data": {
      "application/vnd.jupyter.widget-view+json": {
       "model_id": "3a1a5d6b1b75488c994cf6be5a0b4e26",
       "version_major": 2,
       "version_minor": 0
      },
      "text/plain": [
       "HBox(children=(FloatProgress(value=0.0, max=275.0), HTML(value='')))"
      ]
     },
     "metadata": {},
     "output_type": "display_data"
    },
    {
     "name": "stdout",
     "output_type": "stream",
     "text": [
      "\n",
      "Train \t\t  0.0026\t   99.39%\t   88.07%\n",
      "Test \t\t  0.1885\t   98.64%\t   73.74%\n",
      "Epoch [209/500]\n"
     ]
    },
    {
     "data": {
      "application/vnd.jupyter.widget-view+json": {
       "model_id": "bcafed454d1e40219f48817471f20166",
       "version_major": 2,
       "version_minor": 0
      },
      "text/plain": [
       "HBox(children=(FloatProgress(value=0.0, max=275.0), HTML(value='')))"
      ]
     },
     "metadata": {},
     "output_type": "display_data"
    },
    {
     "name": "stdout",
     "output_type": "stream",
     "text": [
      "\n",
      "Train \t\t  0.0024\t   99.42%\t   88.59%\n",
      "Test \t\t  0.1361\t   98.82%\t   76.44%\n",
      "Epoch [210/500]\n"
     ]
    },
    {
     "data": {
      "application/vnd.jupyter.widget-view+json": {
       "model_id": "088e217944824fa9958bd3ce298af16a",
       "version_major": 2,
       "version_minor": 0
      },
      "text/plain": [
       "HBox(children=(FloatProgress(value=0.0, max=275.0), HTML(value='')))"
      ]
     },
     "metadata": {},
     "output_type": "display_data"
    },
    {
     "name": "stdout",
     "output_type": "stream",
     "text": [
      "\n",
      "Train \t\t  0.0022\t   99.47%\t   89.41%\n",
      "Test \t\t  0.2052\t   98.96%\t   78.45%\n",
      "Epoch [211/500]\n"
     ]
    },
    {
     "data": {
      "application/vnd.jupyter.widget-view+json": {
       "model_id": "47722621c14340718243ad8d4803878b",
       "version_major": 2,
       "version_minor": 0
      },
      "text/plain": [
       "HBox(children=(FloatProgress(value=0.0, max=275.0), HTML(value='')))"
      ]
     },
     "metadata": {},
     "output_type": "display_data"
    },
    {
     "name": "stdout",
     "output_type": "stream",
     "text": [
      "\n",
      "Train \t\t  0.0022\t   99.46%\t   89.35%\n",
      "Test \t\t  0.2145\t   98.99%\t   78.87%\n",
      "Epoch [212/500]\n"
     ]
    },
    {
     "data": {
      "application/vnd.jupyter.widget-view+json": {
       "model_id": "c79f8ffb804a4c668190d84dcbea81db",
       "version_major": 2,
       "version_minor": 0
      },
      "text/plain": [
       "HBox(children=(FloatProgress(value=0.0, max=275.0), HTML(value='')))"
      ]
     },
     "metadata": {},
     "output_type": "display_data"
    },
    {
     "name": "stdout",
     "output_type": "stream",
     "text": [
      "\n",
      "Train \t\t  0.0021\t   99.51%\t   90.21%\n",
      "Test \t\t  0.1895\t   98.74%\t   75.03%\n",
      "Epoch [213/500]\n"
     ]
    },
    {
     "data": {
      "application/vnd.jupyter.widget-view+json": {
       "model_id": "fa36c926daf74511b0ca73ccea039ed5",
       "version_major": 2,
       "version_minor": 0
      },
      "text/plain": [
       "HBox(children=(FloatProgress(value=0.0, max=275.0), HTML(value='')))"
      ]
     },
     "metadata": {},
     "output_type": "display_data"
    },
    {
     "name": "stdout",
     "output_type": "stream",
     "text": [
      "\n",
      "Train \t\t  0.0021\t   99.49%\t   89.86%\n",
      "Test \t\t  0.1490\t   98.84%\t   76.72%\n",
      "Epoch [214/500]\n"
     ]
    },
    {
     "data": {
      "application/vnd.jupyter.widget-view+json": {
       "model_id": "1938bacaf9204fd9ab312879e1dcfdf5",
       "version_major": 2,
       "version_minor": 0
      },
      "text/plain": [
       "HBox(children=(FloatProgress(value=0.0, max=275.0), HTML(value='')))"
      ]
     },
     "metadata": {},
     "output_type": "display_data"
    },
    {
     "name": "stdout",
     "output_type": "stream",
     "text": [
      "\n",
      "Train \t\t  0.0021\t   99.49%\t   89.81%\n",
      "Test \t\t  0.2192\t   98.89%\t   77.26%\n",
      "Epoch [215/500]\n"
     ]
    },
    {
     "data": {
      "application/vnd.jupyter.widget-view+json": {
       "model_id": "7682014d744344d2acc536dfd681df1a",
       "version_major": 2,
       "version_minor": 0
      },
      "text/plain": [
       "HBox(children=(FloatProgress(value=0.0, max=275.0), HTML(value='')))"
      ]
     },
     "metadata": {},
     "output_type": "display_data"
    },
    {
     "name": "stdout",
     "output_type": "stream",
     "text": [
      "\n",
      "Train \t\t  0.0019\t   99.56%\t   91.02%\n",
      "Test \t\t  0.1939\t   98.84%\t   76.65%\n",
      "Epoch [216/500]\n"
     ]
    },
    {
     "data": {
      "application/vnd.jupyter.widget-view+json": {
       "model_id": "08a79d8dae924ec8b45f68e053138041",
       "version_major": 2,
       "version_minor": 0
      },
      "text/plain": [
       "HBox(children=(FloatProgress(value=0.0, max=275.0), HTML(value='')))"
      ]
     },
     "metadata": {},
     "output_type": "display_data"
    },
    {
     "name": "stdout",
     "output_type": "stream",
     "text": [
      "\n",
      "Train \t\t  0.0018\t   99.54%\t   90.75%\n",
      "Test \t\t  0.2107\t   98.99%\t   78.97%\n",
      "Epoch [217/500]\n"
     ]
    },
    {
     "data": {
      "application/vnd.jupyter.widget-view+json": {
       "model_id": "16577165bf9a44368229fe407749b5e6",
       "version_major": 2,
       "version_minor": 0
      },
      "text/plain": [
       "HBox(children=(FloatProgress(value=0.0, max=275.0), HTML(value='')))"
      ]
     },
     "metadata": {},
     "output_type": "display_data"
    },
    {
     "name": "stdout",
     "output_type": "stream",
     "text": [
      "\n",
      "Train \t\t  0.0033\t   99.19%\t   84.75%\n",
      "Test \t\t  0.1112\t   97.56%\t   61.15%\n",
      "Epoch [218/500]\n"
     ]
    },
    {
     "data": {
      "application/vnd.jupyter.widget-view+json": {
       "model_id": "12977480c3ba40678f7d329ce08d0425",
       "version_major": 2,
       "version_minor": 0
      },
      "text/plain": [
       "HBox(children=(FloatProgress(value=0.0, max=275.0), HTML(value='')))"
      ]
     },
     "metadata": {},
     "output_type": "display_data"
    },
    {
     "name": "stdout",
     "output_type": "stream",
     "text": [
      "\n",
      "Train \t\t  0.0027\t   99.33%\t   87.05%\n",
      "Test \t\t  0.2126\t   98.73%\t   74.73%\n",
      "Epoch [219/500]\n"
     ]
    },
    {
     "data": {
      "application/vnd.jupyter.widget-view+json": {
       "model_id": "bdc6af17d0dd4465919a14e6a516d8b0",
       "version_major": 2,
       "version_minor": 0
      },
      "text/plain": [
       "HBox(children=(FloatProgress(value=0.0, max=275.0), HTML(value='')))"
      ]
     },
     "metadata": {},
     "output_type": "display_data"
    },
    {
     "name": "stdout",
     "output_type": "stream",
     "text": [
      "\n",
      "Train \t\t  0.0024\t   99.44%\t   88.89%\n",
      "Test \t\t  0.1246\t   98.64%\t   73.84%\n",
      "Epoch [220/500]\n"
     ]
    },
    {
     "data": {
      "application/vnd.jupyter.widget-view+json": {
       "model_id": "9b7e754656f94b939d62f63d044d7fcf",
       "version_major": 2,
       "version_minor": 0
      },
      "text/plain": [
       "HBox(children=(FloatProgress(value=0.0, max=275.0), HTML(value='')))"
      ]
     },
     "metadata": {},
     "output_type": "display_data"
    },
    {
     "name": "stdout",
     "output_type": "stream",
     "text": [
      "\n",
      "Train \t\t  0.0019\t   99.53%\t   90.58%\n",
      "Test \t\t  0.2413\t   99.16%\t   81.87%\n",
      "Epoch [221/500]\n"
     ]
    },
    {
     "data": {
      "application/vnd.jupyter.widget-view+json": {
       "model_id": "f5b2c514c98148d2855841fcec44dcf2",
       "version_major": 2,
       "version_minor": 0
      },
      "text/plain": [
       "HBox(children=(FloatProgress(value=0.0, max=275.0), HTML(value='')))"
      ]
     },
     "metadata": {},
     "output_type": "display_data"
    },
    {
     "name": "stdout",
     "output_type": "stream",
     "text": [
      "\n",
      "Train \t\t  0.0032\t   99.32%\t   86.89%\n",
      "Test \t\t  0.0774\t   97.48%\t   60.45%\n",
      "Epoch [222/500]\n"
     ]
    },
    {
     "data": {
      "application/vnd.jupyter.widget-view+json": {
       "model_id": "46a035096f3c454eb4fddbd7829488d2",
       "version_major": 2,
       "version_minor": 0
      },
      "text/plain": [
       "HBox(children=(FloatProgress(value=0.0, max=275.0), HTML(value='')))"
      ]
     },
     "metadata": {},
     "output_type": "display_data"
    },
    {
     "name": "stdout",
     "output_type": "stream",
     "text": [
      "\n",
      "Train \t\t  0.0074\t   98.54%\t   75.48%\n",
      "Test \t\t  0.1097\t   98.15%\t   67.49%\n",
      "Epoch [223/500]\n"
     ]
    },
    {
     "data": {
      "application/vnd.jupyter.widget-view+json": {
       "model_id": "298cd0cbc2cb471cadfbf90b9d07b99a",
       "version_major": 2,
       "version_minor": 0
      },
      "text/plain": [
       "HBox(children=(FloatProgress(value=0.0, max=275.0), HTML(value='')))"
      ]
     },
     "metadata": {},
     "output_type": "display_data"
    },
    {
     "name": "stdout",
     "output_type": "stream",
     "text": [
      "\n",
      "Train \t\t  0.0028\t   99.27%\t   86.12%\n",
      "Test \t\t  0.1125\t   98.45%\t   71.20%\n",
      "Epoch [224/500]\n"
     ]
    },
    {
     "data": {
      "application/vnd.jupyter.widget-view+json": {
       "model_id": "d05132c7f7c84971a40acef6647e4754",
       "version_major": 2,
       "version_minor": 0
      },
      "text/plain": [
       "HBox(children=(FloatProgress(value=0.0, max=275.0), HTML(value='')))"
      ]
     },
     "metadata": {},
     "output_type": "display_data"
    },
    {
     "name": "stdout",
     "output_type": "stream",
     "text": [
      "\n",
      "Train \t\t  0.0023\t   99.42%\t   88.63%\n",
      "Test \t\t  0.1335\t   98.86%\t   76.94%\n",
      "Epoch [225/500]\n"
     ]
    },
    {
     "data": {
      "application/vnd.jupyter.widget-view+json": {
       "model_id": "7ccd8e14b56146aebb7354567ca36ad4",
       "version_major": 2,
       "version_minor": 0
      },
      "text/plain": [
       "HBox(children=(FloatProgress(value=0.0, max=275.0), HTML(value='')))"
      ]
     },
     "metadata": {},
     "output_type": "display_data"
    },
    {
     "name": "stdout",
     "output_type": "stream",
     "text": [
      "\n",
      "Train \t\t  0.0026\t   99.44%\t   88.99%\n",
      "Test \t\t  0.1084\t   97.98%\t   65.42%\n",
      "Epoch [226/500]\n"
     ]
    },
    {
     "data": {
      "application/vnd.jupyter.widget-view+json": {
       "model_id": "e38a95344638458282657490c4aab405",
       "version_major": 2,
       "version_minor": 0
      },
      "text/plain": [
       "HBox(children=(FloatProgress(value=0.0, max=275.0), HTML(value='')))"
      ]
     },
     "metadata": {},
     "output_type": "display_data"
    },
    {
     "name": "stdout",
     "output_type": "stream",
     "text": [
      "\n",
      "Train \t\t  0.0029\t   99.39%\t   87.98%\n",
      "Test \t\t  0.1587\t   98.76%\t   75.47%\n",
      "Epoch [227/500]\n"
     ]
    },
    {
     "data": {
      "application/vnd.jupyter.widget-view+json": {
       "model_id": "e8a8fea7e9944e2b93ae26e9fbbb1dc3",
       "version_major": 2,
       "version_minor": 0
      },
      "text/plain": [
       "HBox(children=(FloatProgress(value=0.0, max=275.0), HTML(value='')))"
      ]
     },
     "metadata": {},
     "output_type": "display_data"
    },
    {
     "name": "stdout",
     "output_type": "stream",
     "text": [
      "\n",
      "Train \t\t  0.0022\t   99.48%\t   89.66%\n",
      "Test \t\t  0.1977\t   98.95%\t   78.30%\n",
      "Epoch [228/500]\n"
     ]
    },
    {
     "data": {
      "application/vnd.jupyter.widget-view+json": {
       "model_id": "825e891deabe4467afa915fecd5950f0",
       "version_major": 2,
       "version_minor": 0
      },
      "text/plain": [
       "HBox(children=(FloatProgress(value=0.0, max=275.0), HTML(value='')))"
      ]
     },
     "metadata": {},
     "output_type": "display_data"
    },
    {
     "name": "stdout",
     "output_type": "stream",
     "text": [
      "\n",
      "Train \t\t  0.0025\t   99.42%\t   88.53%\n",
      "Test \t\t  0.2141\t   98.85%\t   76.71%\n",
      "Epoch [229/500]\n"
     ]
    },
    {
     "data": {
      "application/vnd.jupyter.widget-view+json": {
       "model_id": "557d8de48c8c4c1882e8204fc0b531c2",
       "version_major": 2,
       "version_minor": 0
      },
      "text/plain": [
       "HBox(children=(FloatProgress(value=0.0, max=275.0), HTML(value='')))"
      ]
     },
     "metadata": {},
     "output_type": "display_data"
    },
    {
     "name": "stdout",
     "output_type": "stream",
     "text": [
      "\n",
      "Train \t\t  0.0019\t   99.54%\t   90.71%\n",
      "Test \t\t  0.2199\t   98.98%\t   78.71%\n",
      "Epoch [230/500]\n"
     ]
    },
    {
     "data": {
      "application/vnd.jupyter.widget-view+json": {
       "model_id": "c8afa3f8a9694d64a6ef8df31214532e",
       "version_major": 2,
       "version_minor": 0
      },
      "text/plain": [
       "HBox(children=(FloatProgress(value=0.0, max=275.0), HTML(value='')))"
      ]
     },
     "metadata": {},
     "output_type": "display_data"
    },
    {
     "name": "stdout",
     "output_type": "stream",
     "text": [
      "\n",
      "Train \t\t  0.0019\t   99.56%\t   91.16%\n",
      "Test \t\t  0.2166\t   99.16%\t   81.87%\n",
      "Epoch [231/500]\n"
     ]
    },
    {
     "data": {
      "application/vnd.jupyter.widget-view+json": {
       "model_id": "718e9b282e2f48ba985a0fffd5a3498d",
       "version_major": 2,
       "version_minor": 0
      },
      "text/plain": [
       "HBox(children=(FloatProgress(value=0.0, max=275.0), HTML(value='')))"
      ]
     },
     "metadata": {},
     "output_type": "display_data"
    },
    {
     "name": "stdout",
     "output_type": "stream",
     "text": [
      "\n",
      "Train \t\t  0.0028\t   99.57%\t   91.31%\n",
      "Test \t\t  0.2463\t   99.16%\t   81.74%\n",
      "Epoch [232/500]\n"
     ]
    },
    {
     "data": {
      "application/vnd.jupyter.widget-view+json": {
       "model_id": "ebcab8d9a2ab46d6b4522e79879afe74",
       "version_major": 2,
       "version_minor": 0
      },
      "text/plain": [
       "HBox(children=(FloatProgress(value=0.0, max=275.0), HTML(value='')))"
      ]
     },
     "metadata": {},
     "output_type": "display_data"
    },
    {
     "name": "stdout",
     "output_type": "stream",
     "text": [
      "\n",
      "Train \t\t  0.0047\t   98.83%\t   79.30%\n",
      "Test \t\t  0.1712\t   98.17%\t   67.55%\n",
      "Epoch [233/500]\n"
     ]
    },
    {
     "data": {
      "application/vnd.jupyter.widget-view+json": {
       "model_id": "d13aad743b834c8ea737a339dbf90bdf",
       "version_major": 2,
       "version_minor": 0
      },
      "text/plain": [
       "HBox(children=(FloatProgress(value=0.0, max=275.0), HTML(value='')))"
      ]
     },
     "metadata": {},
     "output_type": "display_data"
    },
    {
     "name": "stdout",
     "output_type": "stream",
     "text": [
      "\n",
      "Train \t\t  0.0027\t   99.36%\t   87.61%\n",
      "Test \t\t  0.2225\t   98.72%\t   74.66%\n",
      "Epoch [234/500]\n"
     ]
    },
    {
     "data": {
      "application/vnd.jupyter.widget-view+json": {
       "model_id": "7b22e7b2bd92487399074fb92bbaa91e",
       "version_major": 2,
       "version_minor": 0
      },
      "text/plain": [
       "HBox(children=(FloatProgress(value=0.0, max=275.0), HTML(value='')))"
      ]
     },
     "metadata": {},
     "output_type": "display_data"
    },
    {
     "name": "stdout",
     "output_type": "stream",
     "text": [
      "\n",
      "Train \t\t  0.0026\t   99.46%\t   89.30%\n",
      "Test \t\t  0.2649\t   98.89%\t   77.21%\n",
      "Epoch [235/500]\n"
     ]
    },
    {
     "data": {
      "application/vnd.jupyter.widget-view+json": {
       "model_id": "6dfada2e0bda479e90cd933bb96fa437",
       "version_major": 2,
       "version_minor": 0
      },
      "text/plain": [
       "HBox(children=(FloatProgress(value=0.0, max=275.0), HTML(value='')))"
      ]
     },
     "metadata": {},
     "output_type": "display_data"
    },
    {
     "name": "stdout",
     "output_type": "stream",
     "text": [
      "\n",
      "Train \t\t  0.0029\t   99.38%\t   87.82%\n",
      "Test \t\t  0.1904\t   98.85%\t   76.77%\n",
      "Epoch [236/500]\n"
     ]
    },
    {
     "data": {
      "application/vnd.jupyter.widget-view+json": {
       "model_id": "e37fae0b2b294bdaa99468a902ed75c0",
       "version_major": 2,
       "version_minor": 0
      },
      "text/plain": [
       "HBox(children=(FloatProgress(value=0.0, max=275.0), HTML(value='')))"
      ]
     },
     "metadata": {},
     "output_type": "display_data"
    },
    {
     "name": "stdout",
     "output_type": "stream",
     "text": [
      "\n",
      "Train \t\t  0.0020\t   99.51%\t   90.14%\n",
      "Test \t\t  0.2218\t   99.01%\t   79.20%\n",
      "Epoch [237/500]\n"
     ]
    },
    {
     "data": {
      "application/vnd.jupyter.widget-view+json": {
       "model_id": "91106acfa6be4e179349d341ba06460f",
       "version_major": 2,
       "version_minor": 0
      },
      "text/plain": [
       "HBox(children=(FloatProgress(value=0.0, max=275.0), HTML(value='')))"
      ]
     },
     "metadata": {},
     "output_type": "display_data"
    },
    {
     "name": "stdout",
     "output_type": "stream",
     "text": [
      "\n",
      "Train \t\t  0.0019\t   99.56%\t   91.02%\n",
      "Test \t\t  0.1854\t   99.01%\t   79.38%\n",
      "Epoch [238/500]\n"
     ]
    },
    {
     "data": {
      "application/vnd.jupyter.widget-view+json": {
       "model_id": "cab22066dfb246019e83361a7151b95c",
       "version_major": 2,
       "version_minor": 0
      },
      "text/plain": [
       "HBox(children=(FloatProgress(value=0.0, max=275.0), HTML(value='')))"
      ]
     },
     "metadata": {},
     "output_type": "display_data"
    },
    {
     "name": "stdout",
     "output_type": "stream",
     "text": [
      "\n",
      "Train \t\t  0.0020\t   99.52%\t   90.40%\n",
      "Test \t\t  0.1596\t   99.10%\t   80.91%\n",
      "Epoch [239/500]\n"
     ]
    },
    {
     "data": {
      "application/vnd.jupyter.widget-view+json": {
       "model_id": "b9a603905a664176bc3c7378ba6343b4",
       "version_major": 2,
       "version_minor": 0
      },
      "text/plain": [
       "HBox(children=(FloatProgress(value=0.0, max=275.0), HTML(value='')))"
      ]
     },
     "metadata": {},
     "output_type": "display_data"
    },
    {
     "name": "stdout",
     "output_type": "stream",
     "text": [
      "\n",
      "Train \t\t  0.0017\t   99.60%\t   91.77%\n",
      "Test \t\t  0.2013\t   99.09%\t   80.59%\n",
      "Epoch [240/500]\n"
     ]
    },
    {
     "data": {
      "application/vnd.jupyter.widget-view+json": {
       "model_id": "5a8380a392a343f6a28ac2794afda7ef",
       "version_major": 2,
       "version_minor": 0
      },
      "text/plain": [
       "HBox(children=(FloatProgress(value=0.0, max=275.0), HTML(value='')))"
      ]
     },
     "metadata": {},
     "output_type": "display_data"
    },
    {
     "name": "stdout",
     "output_type": "stream",
     "text": [
      "\n",
      "Train \t\t  0.0017\t   99.61%\t   91.93%\n",
      "Test \t\t  0.2623\t   99.04%\t   79.59%\n",
      "Epoch [241/500]\n"
     ]
    },
    {
     "data": {
      "application/vnd.jupyter.widget-view+json": {
       "model_id": "1d6a5537953b4712901a9ca0243947fe",
       "version_major": 2,
       "version_minor": 0
      },
      "text/plain": [
       "HBox(children=(FloatProgress(value=0.0, max=275.0), HTML(value='')))"
      ]
     },
     "metadata": {},
     "output_type": "display_data"
    },
    {
     "name": "stdout",
     "output_type": "stream",
     "text": [
      "\n",
      "Train \t\t  0.0016\t   99.61%\t   91.97%\n",
      "Test \t\t  0.2878\t   99.20%\t   82.30%\n",
      "Epoch [242/500]\n"
     ]
    },
    {
     "data": {
      "application/vnd.jupyter.widget-view+json": {
       "model_id": "7b434f5297844bcbaa12926a4ea1d655",
       "version_major": 2,
       "version_minor": 0
      },
      "text/plain": [
       "HBox(children=(FloatProgress(value=0.0, max=275.0), HTML(value='')))"
      ]
     },
     "metadata": {},
     "output_type": "display_data"
    },
    {
     "name": "stdout",
     "output_type": "stream",
     "text": [
      "\n",
      "Train \t\t  0.0016\t   99.63%\t   92.31%\n",
      "Test \t\t  0.2637\t   99.17%\t   81.94%\n",
      "Epoch [243/500]\n"
     ]
    },
    {
     "data": {
      "application/vnd.jupyter.widget-view+json": {
       "model_id": "e51c5dc366da47d5a2602f7d30ec0dcd",
       "version_major": 2,
       "version_minor": 0
      },
      "text/plain": [
       "HBox(children=(FloatProgress(value=0.0, max=275.0), HTML(value='')))"
      ]
     },
     "metadata": {},
     "output_type": "display_data"
    },
    {
     "name": "stdout",
     "output_type": "stream",
     "text": [
      "\n",
      "Train \t\t  0.0016\t   99.62%\t   92.30%\n",
      "Test \t\t  0.1535\t   99.17%\t   82.14%\n",
      "Epoch [244/500]\n"
     ]
    },
    {
     "data": {
      "application/vnd.jupyter.widget-view+json": {
       "model_id": "3703fa80e19d4862bbf8cfa26bd4bbe5",
       "version_major": 2,
       "version_minor": 0
      },
      "text/plain": [
       "HBox(children=(FloatProgress(value=0.0, max=275.0), HTML(value='')))"
      ]
     },
     "metadata": {},
     "output_type": "display_data"
    },
    {
     "name": "stdout",
     "output_type": "stream",
     "text": [
      "\n",
      "Train \t\t  0.0016\t   99.62%\t   92.21%\n",
      "Test \t\t  0.0928\t   98.79%\t   76.05%\n",
      "Epoch [245/500]\n"
     ]
    },
    {
     "data": {
      "application/vnd.jupyter.widget-view+json": {
       "model_id": "eb3ee4b554db4c80877052810743ddfe",
       "version_major": 2,
       "version_minor": 0
      },
      "text/plain": [
       "HBox(children=(FloatProgress(value=0.0, max=275.0), HTML(value='')))"
      ]
     },
     "metadata": {},
     "output_type": "display_data"
    },
    {
     "name": "stdout",
     "output_type": "stream",
     "text": [
      "\n",
      "Train \t\t  0.0019\t   99.60%\t   91.80%\n",
      "Test \t\t  0.1669\t   98.80%\t   75.97%\n",
      "Epoch [246/500]\n"
     ]
    },
    {
     "data": {
      "application/vnd.jupyter.widget-view+json": {
       "model_id": "a86700e08ce04465bea5074d3a527b76",
       "version_major": 2,
       "version_minor": 0
      },
      "text/plain": [
       "HBox(children=(FloatProgress(value=0.0, max=275.0), HTML(value='')))"
      ]
     },
     "metadata": {},
     "output_type": "display_data"
    },
    {
     "name": "stdout",
     "output_type": "stream",
     "text": [
      "\n",
      "Train \t\t  0.0022\t   99.45%\t   89.15%\n",
      "Test \t\t  0.1814\t   98.89%\t   77.40%\n",
      "Epoch [247/500]\n"
     ]
    },
    {
     "data": {
      "application/vnd.jupyter.widget-view+json": {
       "model_id": "734b93412fc643c6a1877e6d7c1bc995",
       "version_major": 2,
       "version_minor": 0
      },
      "text/plain": [
       "HBox(children=(FloatProgress(value=0.0, max=275.0), HTML(value='')))"
      ]
     },
     "metadata": {},
     "output_type": "display_data"
    },
    {
     "name": "stdout",
     "output_type": "stream",
     "text": [
      "\n",
      "Train \t\t  0.0023\t   99.48%\t   89.58%\n",
      "Test \t\t  0.1787\t   98.99%\t   79.07%\n",
      "Epoch [248/500]\n"
     ]
    },
    {
     "data": {
      "application/vnd.jupyter.widget-view+json": {
       "model_id": "0dcaafd2f09b4ab3a47ad8cb45a7a6f0",
       "version_major": 2,
       "version_minor": 0
      },
      "text/plain": [
       "HBox(children=(FloatProgress(value=0.0, max=275.0), HTML(value='')))"
      ]
     },
     "metadata": {},
     "output_type": "display_data"
    },
    {
     "name": "stdout",
     "output_type": "stream",
     "text": [
      "\n",
      "Train \t\t  0.0019\t   99.55%\t   90.95%\n",
      "Test \t\t  0.1633\t   98.75%\t   75.23%\n",
      "Epoch [249/500]\n"
     ]
    },
    {
     "data": {
      "application/vnd.jupyter.widget-view+json": {
       "model_id": "33dc4c0ae7d34ad484b44063504f67d2",
       "version_major": 2,
       "version_minor": 0
      },
      "text/plain": [
       "HBox(children=(FloatProgress(value=0.0, max=275.0), HTML(value='')))"
      ]
     },
     "metadata": {},
     "output_type": "display_data"
    },
    {
     "name": "stdout",
     "output_type": "stream",
     "text": [
      "\n",
      "Train \t\t  0.0020\t   99.55%\t   90.99%\n",
      "Test \t\t  0.2940\t   98.59%\t   72.79%\n",
      "Epoch [250/500]\n"
     ]
    },
    {
     "data": {
      "application/vnd.jupyter.widget-view+json": {
       "model_id": "ac0eb15463fa4f37aafc510f8728d4ef",
       "version_major": 2,
       "version_minor": 0
      },
      "text/plain": [
       "HBox(children=(FloatProgress(value=0.0, max=275.0), HTML(value='')))"
      ]
     },
     "metadata": {},
     "output_type": "display_data"
    },
    {
     "name": "stdout",
     "output_type": "stream",
     "text": [
      "\n",
      "Train \t\t  0.0019\t   99.55%\t   90.96%\n",
      "Test \t\t  0.2729\t   99.08%\t   80.29%\n",
      "Epoch [251/500]\n"
     ]
    },
    {
     "data": {
      "application/vnd.jupyter.widget-view+json": {
       "model_id": "702954f5ead3419aa98377f188e279f7",
       "version_major": 2,
       "version_minor": 0
      },
      "text/plain": [
       "HBox(children=(FloatProgress(value=0.0, max=275.0), HTML(value='')))"
      ]
     },
     "metadata": {},
     "output_type": "display_data"
    },
    {
     "name": "stdout",
     "output_type": "stream",
     "text": [
      "\n",
      "Train \t\t  0.0017\t   99.61%\t   91.97%\n",
      "Test \t\t  0.2750\t   99.10%\t   80.71%\n",
      "Epoch [252/500]\n"
     ]
    },
    {
     "data": {
      "application/vnd.jupyter.widget-view+json": {
       "model_id": "390b3e81ff944c5d9d7e1b649e598e28",
       "version_major": 2,
       "version_minor": 0
      },
      "text/plain": [
       "HBox(children=(FloatProgress(value=0.0, max=275.0), HTML(value='')))"
      ]
     },
     "metadata": {},
     "output_type": "display_data"
    },
    {
     "name": "stdout",
     "output_type": "stream",
     "text": [
      "\n",
      "Train \t\t  0.0016\t   99.63%\t   92.36%\n",
      "Test \t\t  0.2744\t   99.20%\t   82.57%\n",
      "Epoch [253/500]\n"
     ]
    },
    {
     "data": {
      "application/vnd.jupyter.widget-view+json": {
       "model_id": "ac7695588c4a415c9431ba8c03dfd015",
       "version_major": 2,
       "version_minor": 0
      },
      "text/plain": [
       "HBox(children=(FloatProgress(value=0.0, max=275.0), HTML(value='')))"
      ]
     },
     "metadata": {},
     "output_type": "display_data"
    },
    {
     "name": "stdout",
     "output_type": "stream",
     "text": [
      "\n",
      "Train \t\t  0.0018\t   99.57%\t   91.34%\n",
      "Test \t\t  0.2976\t   98.80%\t   75.89%\n",
      "Epoch [254/500]\n"
     ]
    },
    {
     "data": {
      "application/vnd.jupyter.widget-view+json": {
       "model_id": "a7188f1e898f410fb0d549b83596c7dd",
       "version_major": 2,
       "version_minor": 0
      },
      "text/plain": [
       "HBox(children=(FloatProgress(value=0.0, max=275.0), HTML(value='')))"
      ]
     },
     "metadata": {},
     "output_type": "display_data"
    },
    {
     "name": "stdout",
     "output_type": "stream",
     "text": [
      "\n",
      "Train \t\t  0.0016\t   99.61%\t   91.96%\n",
      "Test \t\t  0.3175\t   99.31%\t   84.54%\n",
      "Epoch [255/500]\n"
     ]
    },
    {
     "data": {
      "application/vnd.jupyter.widget-view+json": {
       "model_id": "b597d5d786824f639ee6862c3711f22a",
       "version_major": 2,
       "version_minor": 0
      },
      "text/plain": [
       "HBox(children=(FloatProgress(value=0.0, max=275.0), HTML(value='')))"
      ]
     },
     "metadata": {},
     "output_type": "display_data"
    },
    {
     "name": "stdout",
     "output_type": "stream",
     "text": [
      "\n",
      "Train \t\t  0.0017\t   99.61%\t   92.01%\n",
      "Test \t\t  0.2788\t   99.16%\t   81.83%\n",
      "Epoch [256/500]\n"
     ]
    },
    {
     "data": {
      "application/vnd.jupyter.widget-view+json": {
       "model_id": "7e8c9228c5e444ad8004dd0b7ad9160f",
       "version_major": 2,
       "version_minor": 0
      },
      "text/plain": [
       "HBox(children=(FloatProgress(value=0.0, max=275.0), HTML(value='')))"
      ]
     },
     "metadata": {},
     "output_type": "display_data"
    },
    {
     "name": "stdout",
     "output_type": "stream",
     "text": [
      "\n",
      "Train \t\t  0.0020\t   99.61%\t   92.06%\n",
      "Test \t\t  0.2947\t   98.97%\t   78.48%\n",
      "Epoch [257/500]\n"
     ]
    },
    {
     "data": {
      "application/vnd.jupyter.widget-view+json": {
       "model_id": "1711604c38294b75bf03827b3b1d69d4",
       "version_major": 2,
       "version_minor": 0
      },
      "text/plain": [
       "HBox(children=(FloatProgress(value=0.0, max=275.0), HTML(value='')))"
      ]
     },
     "metadata": {},
     "output_type": "display_data"
    },
    {
     "name": "stdout",
     "output_type": "stream",
     "text": [
      "\n",
      "Train \t\t  0.0036\t   99.09%\t   83.14%\n",
      "Test \t\t  0.1537\t   98.56%\t   72.63%\n",
      "Epoch [258/500]\n"
     ]
    },
    {
     "data": {
      "application/vnd.jupyter.widget-view+json": {
       "model_id": "86cbd589313b4a53a7197e0be82c4c61",
       "version_major": 2,
       "version_minor": 0
      },
      "text/plain": [
       "HBox(children=(FloatProgress(value=0.0, max=275.0), HTML(value='')))"
      ]
     },
     "metadata": {},
     "output_type": "display_data"
    },
    {
     "name": "stdout",
     "output_type": "stream",
     "text": [
      "\n",
      "Train \t\t  0.0022\t   99.44%\t   88.88%\n",
      "Test \t\t  0.1617\t   98.60%\t   73.15%\n",
      "Epoch [259/500]\n"
     ]
    },
    {
     "data": {
      "application/vnd.jupyter.widget-view+json": {
       "model_id": "a2eb5a9257eb4ee4b4e74a5a38fe9441",
       "version_major": 2,
       "version_minor": 0
      },
      "text/plain": [
       "HBox(children=(FloatProgress(value=0.0, max=275.0), HTML(value='')))"
      ]
     },
     "metadata": {},
     "output_type": "display_data"
    },
    {
     "name": "stdout",
     "output_type": "stream",
     "text": [
      "\n",
      "Train \t\t  0.0028\t   99.52%\t   90.28%\n",
      "Test \t\t  0.1832\t   99.10%\t   80.80%\n",
      "Epoch [260/500]\n"
     ]
    },
    {
     "data": {
      "application/vnd.jupyter.widget-view+json": {
       "model_id": "250fae9d49a043d4b10a325745335c0a",
       "version_major": 2,
       "version_minor": 0
      },
      "text/plain": [
       "HBox(children=(FloatProgress(value=0.0, max=275.0), HTML(value='')))"
      ]
     },
     "metadata": {},
     "output_type": "display_data"
    },
    {
     "name": "stdout",
     "output_type": "stream",
     "text": [
      "\n",
      "Train \t\t  0.0032\t   99.30%\t   86.58%\n",
      "Test \t\t  0.1403\t   98.59%\t   73.05%\n",
      "Epoch [261/500]\n"
     ]
    },
    {
     "data": {
      "application/vnd.jupyter.widget-view+json": {
       "model_id": "f233e4bca5a14da0a092ca551ca37157",
       "version_major": 2,
       "version_minor": 0
      },
      "text/plain": [
       "HBox(children=(FloatProgress(value=0.0, max=275.0), HTML(value='')))"
      ]
     },
     "metadata": {},
     "output_type": "display_data"
    },
    {
     "name": "stdout",
     "output_type": "stream",
     "text": [
      "\n",
      "Train \t\t  0.0034\t   99.55%\t   90.90%\n",
      "Test \t\t  0.2065\t   99.08%\t   80.55%\n",
      "Epoch [262/500]\n"
     ]
    },
    {
     "data": {
      "application/vnd.jupyter.widget-view+json": {
       "model_id": "567391fed637454d8769020d6b0451bf",
       "version_major": 2,
       "version_minor": 0
      },
      "text/plain": [
       "HBox(children=(FloatProgress(value=0.0, max=275.0), HTML(value='')))"
      ]
     },
     "metadata": {},
     "output_type": "display_data"
    },
    {
     "name": "stdout",
     "output_type": "stream",
     "text": [
      "\n",
      "Train \t\t  0.0049\t   98.95%\t   81.09%\n",
      "Test \t\t  0.2589\t   98.55%\t   72.24%\n",
      "Epoch [263/500]\n"
     ]
    },
    {
     "data": {
      "application/vnd.jupyter.widget-view+json": {
       "model_id": "b93b858a3cba4aa297f47a2e105eb88f",
       "version_major": 2,
       "version_minor": 0
      },
      "text/plain": [
       "HBox(children=(FloatProgress(value=0.0, max=275.0), HTML(value='')))"
      ]
     },
     "metadata": {},
     "output_type": "display_data"
    },
    {
     "name": "stdout",
     "output_type": "stream",
     "text": [
      "\n",
      "Train \t\t  0.0026\t   99.42%\t   88.54%\n",
      "Test \t\t  0.2876\t   98.75%\t   74.98%\n",
      "Epoch [264/500]\n"
     ]
    },
    {
     "data": {
      "application/vnd.jupyter.widget-view+json": {
       "model_id": "7c266cc70c6e417f9a27bd8c7b2989f8",
       "version_major": 2,
       "version_minor": 0
      },
      "text/plain": [
       "HBox(children=(FloatProgress(value=0.0, max=275.0), HTML(value='')))"
      ]
     },
     "metadata": {},
     "output_type": "display_data"
    },
    {
     "name": "stdout",
     "output_type": "stream",
     "text": [
      "\n",
      "Train \t\t  0.0019\t   99.53%\t   90.61%\n",
      "Test \t\t  0.3872\t   98.96%\t   77.97%\n",
      "Epoch [265/500]\n"
     ]
    },
    {
     "data": {
      "application/vnd.jupyter.widget-view+json": {
       "model_id": "43b4c7917bd846aa80d6db08f544b0b1",
       "version_major": 2,
       "version_minor": 0
      },
      "text/plain": [
       "HBox(children=(FloatProgress(value=0.0, max=275.0), HTML(value='')))"
      ]
     },
     "metadata": {},
     "output_type": "display_data"
    },
    {
     "name": "stdout",
     "output_type": "stream",
     "text": [
      "\n",
      "Train \t\t  0.0019\t   99.57%\t   91.24%\n",
      "Test \t\t  0.3548\t   99.06%\t   79.72%\n",
      "Epoch [266/500]\n"
     ]
    },
    {
     "data": {
      "application/vnd.jupyter.widget-view+json": {
       "model_id": "e865fdef8129483895336673dd5b5e15",
       "version_major": 2,
       "version_minor": 0
      },
      "text/plain": [
       "HBox(children=(FloatProgress(value=0.0, max=275.0), HTML(value='')))"
      ]
     },
     "metadata": {},
     "output_type": "display_data"
    },
    {
     "name": "stdout",
     "output_type": "stream",
     "text": [
      "\n",
      "Train \t\t  0.0017\t   99.60%\t   91.90%\n",
      "Test \t\t  0.3108\t   98.94%\t   77.88%\n",
      "Epoch [267/500]\n"
     ]
    },
    {
     "data": {
      "application/vnd.jupyter.widget-view+json": {
       "model_id": "d64f962778ca4a1ba860847100337700",
       "version_major": 2,
       "version_minor": 0
      },
      "text/plain": [
       "HBox(children=(FloatProgress(value=0.0, max=275.0), HTML(value='')))"
      ]
     },
     "metadata": {},
     "output_type": "display_data"
    },
    {
     "name": "stdout",
     "output_type": "stream",
     "text": [
      "\n",
      "Train \t\t  0.0016\t   99.62%\t   92.23%\n",
      "Test \t\t  0.4466\t   99.04%\t   79.39%\n",
      "Epoch [268/500]\n"
     ]
    },
    {
     "data": {
      "application/vnd.jupyter.widget-view+json": {
       "model_id": "b1e6c30b6f0c4715b9bf67b685bdfdb7",
       "version_major": 2,
       "version_minor": 0
      },
      "text/plain": [
       "HBox(children=(FloatProgress(value=0.0, max=275.0), HTML(value='')))"
      ]
     },
     "metadata": {},
     "output_type": "display_data"
    },
    {
     "name": "stdout",
     "output_type": "stream",
     "text": [
      "\n",
      "Train \t\t  0.0025\t   99.50%\t   90.03%\n",
      "Test \t\t  0.2598\t   98.94%\t   77.97%\n",
      "Epoch [269/500]\n"
     ]
    },
    {
     "data": {
      "application/vnd.jupyter.widget-view+json": {
       "model_id": "963874d2769a4a098c98722db14eadcf",
       "version_major": 2,
       "version_minor": 0
      },
      "text/plain": [
       "HBox(children=(FloatProgress(value=0.0, max=275.0), HTML(value='')))"
      ]
     },
     "metadata": {},
     "output_type": "display_data"
    },
    {
     "name": "stdout",
     "output_type": "stream",
     "text": [
      "\n",
      "Train \t\t  0.0020\t   99.55%\t   90.94%\n",
      "Test \t\t  0.2722\t   98.98%\t   78.67%\n",
      "Epoch [270/500]\n"
     ]
    },
    {
     "data": {
      "application/vnd.jupyter.widget-view+json": {
       "model_id": "0d789f670fb044c195d40bfdbd44e38d",
       "version_major": 2,
       "version_minor": 0
      },
      "text/plain": [
       "HBox(children=(FloatProgress(value=0.0, max=275.0), HTML(value='')))"
      ]
     },
     "metadata": {},
     "output_type": "display_data"
    },
    {
     "name": "stdout",
     "output_type": "stream",
     "text": [
      "\n",
      "Train \t\t  0.0016\t   99.61%\t   92.10%\n",
      "Test \t\t  0.3481\t   99.02%\t   79.23%\n",
      "Epoch [271/500]\n"
     ]
    },
    {
     "data": {
      "application/vnd.jupyter.widget-view+json": {
       "model_id": "8e48192d9919410484f79c8763aeb807",
       "version_major": 2,
       "version_minor": 0
      },
      "text/plain": [
       "HBox(children=(FloatProgress(value=0.0, max=275.0), HTML(value='')))"
      ]
     },
     "metadata": {},
     "output_type": "display_data"
    },
    {
     "name": "stdout",
     "output_type": "stream",
     "text": [
      "\n",
      "Train \t\t  0.0016\t   99.64%\t   92.54%\n",
      "Test \t\t  0.3122\t   99.04%\t   79.53%\n",
      "Epoch [272/500]\n"
     ]
    },
    {
     "data": {
      "application/vnd.jupyter.widget-view+json": {
       "model_id": "3c0a122fcf51420c9f8787f2f39a4937",
       "version_major": 2,
       "version_minor": 0
      },
      "text/plain": [
       "HBox(children=(FloatProgress(value=0.0, max=275.0), HTML(value='')))"
      ]
     },
     "metadata": {},
     "output_type": "display_data"
    },
    {
     "name": "stdout",
     "output_type": "stream",
     "text": [
      "\n",
      "Train \t\t  0.0016\t   99.66%\t   92.96%\n",
      "Test \t\t  0.3479\t   99.23%\t   82.90%\n",
      "Epoch [273/500]\n"
     ]
    },
    {
     "data": {
      "application/vnd.jupyter.widget-view+json": {
       "model_id": "47f4993621f7431587e3b9f548d6761e",
       "version_major": 2,
       "version_minor": 0
      },
      "text/plain": [
       "HBox(children=(FloatProgress(value=0.0, max=275.0), HTML(value='')))"
      ]
     },
     "metadata": {},
     "output_type": "display_data"
    },
    {
     "name": "stdout",
     "output_type": "stream",
     "text": [
      "\n",
      "Train \t\t  0.0014\t   99.68%\t   93.31%\n",
      "Test \t\t  0.2265\t   99.25%\t   83.40%\n",
      "Epoch [274/500]\n"
     ]
    },
    {
     "data": {
      "application/vnd.jupyter.widget-view+json": {
       "model_id": "4a1f1f00b90849ebb4f73c554a330440",
       "version_major": 2,
       "version_minor": 0
      },
      "text/plain": [
       "HBox(children=(FloatProgress(value=0.0, max=275.0), HTML(value='')))"
      ]
     },
     "metadata": {},
     "output_type": "display_data"
    },
    {
     "name": "stdout",
     "output_type": "stream",
     "text": [
      "\n",
      "Train \t\t  0.0015\t   99.65%\t   92.79%\n",
      "Test \t\t  0.2828\t   99.23%\t   82.87%\n",
      "Epoch [275/500]\n"
     ]
    },
    {
     "data": {
      "application/vnd.jupyter.widget-view+json": {
       "model_id": "64192756d1b04d74ae4536526ffdf4b8",
       "version_major": 2,
       "version_minor": 0
      },
      "text/plain": [
       "HBox(children=(FloatProgress(value=0.0, max=275.0), HTML(value='')))"
      ]
     },
     "metadata": {},
     "output_type": "display_data"
    },
    {
     "name": "stdout",
     "output_type": "stream",
     "text": [
      "\n",
      "Train \t\t  0.0014\t   99.67%\t   93.18%\n",
      "Test \t\t  0.3014\t   99.31%\t   84.31%\n",
      "Epoch [276/500]\n"
     ]
    },
    {
     "data": {
      "application/vnd.jupyter.widget-view+json": {
       "model_id": "c6839c33852748c780af2bd3d2a97f40",
       "version_major": 2,
       "version_minor": 0
      },
      "text/plain": [
       "HBox(children=(FloatProgress(value=0.0, max=275.0), HTML(value='')))"
      ]
     },
     "metadata": {},
     "output_type": "display_data"
    },
    {
     "name": "stdout",
     "output_type": "stream",
     "text": [
      "\n",
      "Train \t\t  0.0014\t   99.68%\t   93.33%\n",
      "Test \t\t  0.3788\t   99.26%\t   83.38%\n",
      "Epoch [277/500]\n"
     ]
    },
    {
     "data": {
      "application/vnd.jupyter.widget-view+json": {
       "model_id": "00eb333cd7de42ae8b4dedf4700b3ba5",
       "version_major": 2,
       "version_minor": 0
      },
      "text/plain": [
       "HBox(children=(FloatProgress(value=0.0, max=275.0), HTML(value='')))"
      ]
     },
     "metadata": {},
     "output_type": "display_data"
    },
    {
     "name": "stdout",
     "output_type": "stream",
     "text": [
      "\n",
      "Train \t\t  0.0013\t   99.69%\t   93.64%\n",
      "Test \t\t  0.3697\t   99.27%\t   83.53%\n",
      "Epoch [278/500]\n"
     ]
    },
    {
     "data": {
      "application/vnd.jupyter.widget-view+json": {
       "model_id": "3750b7e9f4ec41d48d597d03a9840c80",
       "version_major": 2,
       "version_minor": 0
      },
      "text/plain": [
       "HBox(children=(FloatProgress(value=0.0, max=275.0), HTML(value='')))"
      ]
     },
     "metadata": {},
     "output_type": "display_data"
    },
    {
     "name": "stdout",
     "output_type": "stream",
     "text": [
      "\n",
      "Train \t\t  0.0014\t   99.69%\t   93.51%\n",
      "Test \t\t  0.3701\t   99.25%\t   83.31%\n",
      "Epoch [279/500]\n"
     ]
    },
    {
     "data": {
      "application/vnd.jupyter.widget-view+json": {
       "model_id": "472d60760b664f4cbd58a08596142caa",
       "version_major": 2,
       "version_minor": 0
      },
      "text/plain": [
       "HBox(children=(FloatProgress(value=0.0, max=275.0), HTML(value='')))"
      ]
     },
     "metadata": {},
     "output_type": "display_data"
    },
    {
     "name": "stdout",
     "output_type": "stream",
     "text": [
      "\n",
      "Train \t\t  0.0039\t   99.22%\t   85.19%\n",
      "Test \t\t  0.0642\t   98.51%\t   72.15%\n",
      "Epoch [280/500]\n"
     ]
    },
    {
     "data": {
      "application/vnd.jupyter.widget-view+json": {
       "model_id": "a5bb2a8f4cbe45a4a2e262530113b321",
       "version_major": 2,
       "version_minor": 0
      },
      "text/plain": [
       "HBox(children=(FloatProgress(value=0.0, max=275.0), HTML(value='')))"
      ]
     },
     "metadata": {},
     "output_type": "display_data"
    },
    {
     "name": "stdout",
     "output_type": "stream",
     "text": [
      "\n",
      "Train \t\t  0.0021\t   99.50%\t   90.06%\n",
      "Test \t\t  0.1131\t   98.73%\t   75.04%\n",
      "Epoch [281/500]\n"
     ]
    },
    {
     "data": {
      "application/vnd.jupyter.widget-view+json": {
       "model_id": "70f183ff28fb4661b60bbd10b73f8093",
       "version_major": 2,
       "version_minor": 0
      },
      "text/plain": [
       "HBox(children=(FloatProgress(value=0.0, max=275.0), HTML(value='')))"
      ]
     },
     "metadata": {},
     "output_type": "display_data"
    },
    {
     "name": "stdout",
     "output_type": "stream",
     "text": [
      "\n",
      "Train \t\t  0.0017\t   99.62%\t   92.12%\n",
      "Test \t\t  0.1443\t   99.02%\t   79.54%\n",
      "Epoch [282/500]\n"
     ]
    },
    {
     "data": {
      "application/vnd.jupyter.widget-view+json": {
       "model_id": "1ce40543d2ed4fc09497c6558943b9df",
       "version_major": 2,
       "version_minor": 0
      },
      "text/plain": [
       "HBox(children=(FloatProgress(value=0.0, max=275.0), HTML(value='')))"
      ]
     },
     "metadata": {},
     "output_type": "display_data"
    },
    {
     "name": "stdout",
     "output_type": "stream",
     "text": [
      "\n",
      "Train \t\t  0.0020\t   99.64%\t   92.65%\n",
      "Test \t\t  0.1651\t   99.07%\t   80.27%\n",
      "Epoch [283/500]\n"
     ]
    },
    {
     "data": {
      "application/vnd.jupyter.widget-view+json": {
       "model_id": "b3c09b4b30c74c01a6f85a9b0ce0fd1f",
       "version_major": 2,
       "version_minor": 0
      },
      "text/plain": [
       "HBox(children=(FloatProgress(value=0.0, max=275.0), HTML(value='')))"
      ]
     },
     "metadata": {},
     "output_type": "display_data"
    },
    {
     "name": "stdout",
     "output_type": "stream",
     "text": [
      "\n",
      "Train \t\t  0.0032\t   99.34%\t   87.17%\n",
      "Test \t\t  0.1765\t   98.84%\t   76.70%\n",
      "Epoch [284/500]\n"
     ]
    },
    {
     "data": {
      "application/vnd.jupyter.widget-view+json": {
       "model_id": "096798ab6f9b43ee9cc284096a10c338",
       "version_major": 2,
       "version_minor": 0
      },
      "text/plain": [
       "HBox(children=(FloatProgress(value=0.0, max=275.0), HTML(value='')))"
      ]
     },
     "metadata": {},
     "output_type": "display_data"
    },
    {
     "name": "stdout",
     "output_type": "stream",
     "text": [
      "\n",
      "Train \t\t  0.0017\t   99.61%\t   92.01%\n",
      "Test \t\t  0.2154\t   98.94%\t   78.09%\n",
      "Epoch [285/500]\n"
     ]
    },
    {
     "data": {
      "application/vnd.jupyter.widget-view+json": {
       "model_id": "24b62fe49bfb42a9a3c873fde15fca6f",
       "version_major": 2,
       "version_minor": 0
      },
      "text/plain": [
       "HBox(children=(FloatProgress(value=0.0, max=275.0), HTML(value='')))"
      ]
     },
     "metadata": {},
     "output_type": "display_data"
    },
    {
     "name": "stdout",
     "output_type": "stream",
     "text": [
      "\n",
      "Train \t\t  0.0014\t   99.67%\t   93.13%\n",
      "Test \t\t  0.2479\t   99.04%\t   79.77%\n",
      "Epoch [286/500]\n"
     ]
    },
    {
     "data": {
      "application/vnd.jupyter.widget-view+json": {
       "model_id": "cd3bb322838e4907b6763016e252a42c",
       "version_major": 2,
       "version_minor": 0
      },
      "text/plain": [
       "HBox(children=(FloatProgress(value=0.0, max=275.0), HTML(value='')))"
      ]
     },
     "metadata": {},
     "output_type": "display_data"
    },
    {
     "name": "stdout",
     "output_type": "stream",
     "text": [
      "\n",
      "Train \t\t  0.0015\t   99.66%\t   92.96%\n",
      "Test \t\t  0.1954\t   99.01%\t   79.40%\n",
      "Epoch [287/500]\n"
     ]
    },
    {
     "data": {
      "application/vnd.jupyter.widget-view+json": {
       "model_id": "06c31a3481fc4c94ab2d61285dd9d5da",
       "version_major": 2,
       "version_minor": 0
      },
      "text/plain": [
       "HBox(children=(FloatProgress(value=0.0, max=275.0), HTML(value='')))"
      ]
     },
     "metadata": {},
     "output_type": "display_data"
    },
    {
     "name": "stdout",
     "output_type": "stream",
     "text": [
      "\n",
      "Train \t\t  0.0016\t   99.66%\t   93.03%\n",
      "Test \t\t  0.2550\t   99.16%\t   81.81%\n",
      "Epoch [288/500]\n"
     ]
    },
    {
     "data": {
      "application/vnd.jupyter.widget-view+json": {
       "model_id": "9553578d14d742159d1f66b3875fadd3",
       "version_major": 2,
       "version_minor": 0
      },
      "text/plain": [
       "HBox(children=(FloatProgress(value=0.0, max=275.0), HTML(value='')))"
      ]
     },
     "metadata": {},
     "output_type": "display_data"
    },
    {
     "name": "stdout",
     "output_type": "stream",
     "text": [
      "\n",
      "Train \t\t  0.0015\t   99.65%\t   92.80%\n",
      "Test \t\t  0.2759\t   99.12%\t   81.12%\n",
      "Epoch [289/500]\n"
     ]
    },
    {
     "data": {
      "application/vnd.jupyter.widget-view+json": {
       "model_id": "721a787c30954a8e9cd72f3f843aac36",
       "version_major": 2,
       "version_minor": 0
      },
      "text/plain": [
       "HBox(children=(FloatProgress(value=0.0, max=275.0), HTML(value='')))"
      ]
     },
     "metadata": {},
     "output_type": "display_data"
    },
    {
     "name": "stdout",
     "output_type": "stream",
     "text": [
      "\n",
      "Train \t\t  0.0013\t   99.68%\t   93.35%\n",
      "Test \t\t  0.2703\t   99.18%\t   82.13%\n",
      "Epoch [290/500]\n"
     ]
    },
    {
     "data": {
      "application/vnd.jupyter.widget-view+json": {
       "model_id": "e187d2d0db37474b8b785284f98b29e1",
       "version_major": 2,
       "version_minor": 0
      },
      "text/plain": [
       "HBox(children=(FloatProgress(value=0.0, max=275.0), HTML(value='')))"
      ]
     },
     "metadata": {},
     "output_type": "display_data"
    },
    {
     "name": "stdout",
     "output_type": "stream",
     "text": [
      "\n",
      "Train \t\t  0.0013\t   99.71%\t   94.01%\n",
      "Test \t\t  0.2484\t   99.09%\t   80.67%\n",
      "Epoch [291/500]\n"
     ]
    },
    {
     "data": {
      "application/vnd.jupyter.widget-view+json": {
       "model_id": "c459e60e36074ad699b6eb29e0bf2bba",
       "version_major": 2,
       "version_minor": 0
      },
      "text/plain": [
       "HBox(children=(FloatProgress(value=0.0, max=275.0), HTML(value='')))"
      ]
     },
     "metadata": {},
     "output_type": "display_data"
    },
    {
     "name": "stdout",
     "output_type": "stream",
     "text": [
      "\n",
      "Train \t\t  0.0014\t   99.68%\t   93.43%\n",
      "Test \t\t  0.2933\t   99.23%\t   83.12%\n",
      "Epoch [292/500]\n"
     ]
    },
    {
     "data": {
      "application/vnd.jupyter.widget-view+json": {
       "model_id": "2a2648ae348a47dc830e3ce7ff7141e7",
       "version_major": 2,
       "version_minor": 0
      },
      "text/plain": [
       "HBox(children=(FloatProgress(value=0.0, max=275.0), HTML(value='')))"
      ]
     },
     "metadata": {},
     "output_type": "display_data"
    },
    {
     "name": "stdout",
     "output_type": "stream",
     "text": [
      "\n",
      "Train \t\t  0.0013\t   99.71%\t   93.86%\n",
      "Test \t\t  0.2903\t   99.15%\t   81.61%\n",
      "Epoch [293/500]\n"
     ]
    },
    {
     "data": {
      "application/vnd.jupyter.widget-view+json": {
       "model_id": "2c3b8ef36a064af2984f8abff37e01a4",
       "version_major": 2,
       "version_minor": 0
      },
      "text/plain": [
       "HBox(children=(FloatProgress(value=0.0, max=275.0), HTML(value='')))"
      ]
     },
     "metadata": {},
     "output_type": "display_data"
    },
    {
     "name": "stdout",
     "output_type": "stream",
     "text": [
      "\n",
      "Train \t\t  0.0012\t   99.71%\t   93.95%\n",
      "Test \t\t  0.2986\t   99.21%\t   82.73%\n",
      "Epoch [294/500]\n"
     ]
    },
    {
     "data": {
      "application/vnd.jupyter.widget-view+json": {
       "model_id": "3a55d8d852d54b0d9d80d76e82f87a86",
       "version_major": 2,
       "version_minor": 0
      },
      "text/plain": [
       "HBox(children=(FloatProgress(value=0.0, max=275.0), HTML(value='')))"
      ]
     },
     "metadata": {},
     "output_type": "display_data"
    },
    {
     "name": "stdout",
     "output_type": "stream",
     "text": [
      "\n",
      "Train \t\t  0.0013\t   99.70%\t   93.71%\n",
      "Test \t\t  0.3114\t   99.22%\t   82.85%\n",
      "Epoch [295/500]\n"
     ]
    },
    {
     "data": {
      "application/vnd.jupyter.widget-view+json": {
       "model_id": "814cb3409d3342bf8ee926589c62851e",
       "version_major": 2,
       "version_minor": 0
      },
      "text/plain": [
       "HBox(children=(FloatProgress(value=0.0, max=275.0), HTML(value='')))"
      ]
     },
     "metadata": {},
     "output_type": "display_data"
    },
    {
     "name": "stdout",
     "output_type": "stream",
     "text": [
      "\n",
      "Train \t\t  0.0013\t   99.71%\t   93.88%\n",
      "Test \t\t  0.3139\t   99.23%\t   83.00%\n",
      "Epoch [296/500]\n"
     ]
    },
    {
     "data": {
      "application/vnd.jupyter.widget-view+json": {
       "model_id": "25617b2f34c74cc58f729eedde6d1895",
       "version_major": 2,
       "version_minor": 0
      },
      "text/plain": [
       "HBox(children=(FloatProgress(value=0.0, max=275.0), HTML(value='')))"
      ]
     },
     "metadata": {},
     "output_type": "display_data"
    },
    {
     "name": "stdout",
     "output_type": "stream",
     "text": [
      "\n",
      "Train \t\t  0.0014\t   99.69%\t   93.49%\n",
      "Test \t\t  0.3133\t   99.21%\t   82.62%\n",
      "Epoch [297/500]\n"
     ]
    },
    {
     "data": {
      "application/vnd.jupyter.widget-view+json": {
       "model_id": "567673c080954e5794811baad5c4a734",
       "version_major": 2,
       "version_minor": 0
      },
      "text/plain": [
       "HBox(children=(FloatProgress(value=0.0, max=275.0), HTML(value='')))"
      ]
     },
     "metadata": {},
     "output_type": "display_data"
    },
    {
     "name": "stdout",
     "output_type": "stream",
     "text": [
      "\n",
      "Train \t\t  0.0020\t   99.56%\t   91.11%\n",
      "Test \t\t  0.2602\t   98.93%\t   78.06%\n",
      "Epoch [298/500]\n"
     ]
    },
    {
     "data": {
      "application/vnd.jupyter.widget-view+json": {
       "model_id": "e609ff9c2d7a4b3a9e269d9679e5cae1",
       "version_major": 2,
       "version_minor": 0
      },
      "text/plain": [
       "HBox(children=(FloatProgress(value=0.0, max=275.0), HTML(value='')))"
      ]
     },
     "metadata": {},
     "output_type": "display_data"
    },
    {
     "name": "stdout",
     "output_type": "stream",
     "text": [
      "\n",
      "Train \t\t  0.0016\t   99.62%\t   92.27%\n",
      "Test \t\t  0.3208\t   99.21%\t   82.62%\n",
      "Epoch [299/500]\n"
     ]
    },
    {
     "data": {
      "application/vnd.jupyter.widget-view+json": {
       "model_id": "b77708affa104be8ac275ff6f78d26b1",
       "version_major": 2,
       "version_minor": 0
      },
      "text/plain": [
       "HBox(children=(FloatProgress(value=0.0, max=275.0), HTML(value='')))"
      ]
     },
     "metadata": {},
     "output_type": "display_data"
    },
    {
     "name": "stdout",
     "output_type": "stream",
     "text": [
      "\n",
      "Train \t\t  0.0013\t   99.69%\t   93.50%\n",
      "Test \t\t  0.2963\t   99.12%\t   81.04%\n",
      "Epoch [300/500]\n"
     ]
    },
    {
     "data": {
      "application/vnd.jupyter.widget-view+json": {
       "model_id": "0050c62bafdc4b9d8048f2438811d183",
       "version_major": 2,
       "version_minor": 0
      },
      "text/plain": [
       "HBox(children=(FloatProgress(value=0.0, max=275.0), HTML(value='')))"
      ]
     },
     "metadata": {},
     "output_type": "display_data"
    },
    {
     "name": "stdout",
     "output_type": "stream",
     "text": [
      "\n",
      "Train \t\t  0.0014\t   99.70%\t   93.69%\n",
      "Test \t\t  0.3157\t   99.20%\t   82.44%\n",
      "Epoch [301/500]\n"
     ]
    },
    {
     "data": {
      "application/vnd.jupyter.widget-view+json": {
       "model_id": "b36d995000d94ce79fca36820c50e6d3",
       "version_major": 2,
       "version_minor": 0
      },
      "text/plain": [
       "HBox(children=(FloatProgress(value=0.0, max=275.0), HTML(value='')))"
      ]
     },
     "metadata": {},
     "output_type": "display_data"
    },
    {
     "name": "stdout",
     "output_type": "stream",
     "text": [
      "\n",
      "Train \t\t  0.0017\t   99.66%\t   92.89%\n",
      "Test \t\t  0.3733\t   99.22%\t   82.88%\n",
      "Epoch [302/500]\n"
     ]
    },
    {
     "data": {
      "application/vnd.jupyter.widget-view+json": {
       "model_id": "1c48a24e468e4dbfa50d78d8f0818c26",
       "version_major": 2,
       "version_minor": 0
      },
      "text/plain": [
       "HBox(children=(FloatProgress(value=0.0, max=275.0), HTML(value='')))"
      ]
     },
     "metadata": {},
     "output_type": "display_data"
    },
    {
     "name": "stdout",
     "output_type": "stream",
     "text": [
      "\n",
      "Train \t\t  0.0017\t   99.62%\t   92.24%\n",
      "Test \t\t  0.2496\t   99.15%\t   81.75%\n",
      "Epoch [303/500]\n"
     ]
    },
    {
     "data": {
      "application/vnd.jupyter.widget-view+json": {
       "model_id": "a1045dd7c0904250a64eb66f07f35ab5",
       "version_major": 2,
       "version_minor": 0
      },
      "text/plain": [
       "HBox(children=(FloatProgress(value=0.0, max=275.0), HTML(value='')))"
      ]
     },
     "metadata": {},
     "output_type": "display_data"
    },
    {
     "name": "stdout",
     "output_type": "stream",
     "text": [
      "\n",
      "Train \t\t  0.0014\t   99.68%\t   93.29%\n",
      "Test \t\t  0.2846\t   99.35%\t   85.19%\n",
      "Epoch [304/500]\n"
     ]
    },
    {
     "data": {
      "application/vnd.jupyter.widget-view+json": {
       "model_id": "0b684a2d98ea448fb49d890ffb6b6ba3",
       "version_major": 2,
       "version_minor": 0
      },
      "text/plain": [
       "HBox(children=(FloatProgress(value=0.0, max=275.0), HTML(value='')))"
      ]
     },
     "metadata": {},
     "output_type": "display_data"
    },
    {
     "name": "stdout",
     "output_type": "stream",
     "text": [
      "\n",
      "Train \t\t  0.0014\t   99.71%\t   93.93%\n",
      "Test \t\t  0.2595\t   98.96%\t   78.52%\n",
      "Epoch [305/500]\n"
     ]
    },
    {
     "data": {
      "application/vnd.jupyter.widget-view+json": {
       "model_id": "2af14ea789a74e15992efac5a94cd9d6",
       "version_major": 2,
       "version_minor": 0
      },
      "text/plain": [
       "HBox(children=(FloatProgress(value=0.0, max=275.0), HTML(value='')))"
      ]
     },
     "metadata": {},
     "output_type": "display_data"
    },
    {
     "name": "stdout",
     "output_type": "stream",
     "text": [
      "\n",
      "Train \t\t  0.0015\t   99.69%\t   93.49%\n",
      "Test \t\t  0.2600\t   99.00%\t   79.00%\n",
      "Epoch [306/500]\n"
     ]
    },
    {
     "data": {
      "application/vnd.jupyter.widget-view+json": {
       "model_id": "d7f02de0a91c423fb991379a2eec37f2",
       "version_major": 2,
       "version_minor": 0
      },
      "text/plain": [
       "HBox(children=(FloatProgress(value=0.0, max=275.0), HTML(value='')))"
      ]
     },
     "metadata": {},
     "output_type": "display_data"
    },
    {
     "name": "stdout",
     "output_type": "stream",
     "text": [
      "\n",
      "Train \t\t  0.0015\t   99.66%\t   92.90%\n",
      "Test \t\t  0.2962\t   99.29%\t   84.12%\n",
      "Epoch [307/500]\n"
     ]
    },
    {
     "data": {
      "application/vnd.jupyter.widget-view+json": {
       "model_id": "8e2d2529c29443ef9089738615d6bfa4",
       "version_major": 2,
       "version_minor": 0
      },
      "text/plain": [
       "HBox(children=(FloatProgress(value=0.0, max=275.0), HTML(value='')))"
      ]
     },
     "metadata": {},
     "output_type": "display_data"
    },
    {
     "name": "stdout",
     "output_type": "stream",
     "text": [
      "\n",
      "Train \t\t  0.0013\t   99.72%\t   94.20%\n",
      "Test \t\t  0.3121\t   99.21%\t   82.69%\n",
      "Epoch [308/500]\n"
     ]
    },
    {
     "data": {
      "application/vnd.jupyter.widget-view+json": {
       "model_id": "c80b35353a164a6bac12aa01120d5223",
       "version_major": 2,
       "version_minor": 0
      },
      "text/plain": [
       "HBox(children=(FloatProgress(value=0.0, max=275.0), HTML(value='')))"
      ]
     },
     "metadata": {},
     "output_type": "display_data"
    },
    {
     "name": "stdout",
     "output_type": "stream",
     "text": [
      "\n",
      "Train \t\t  0.0015\t   99.68%\t   93.33%\n",
      "Test \t\t  0.2762\t   99.01%\t   79.25%\n",
      "Epoch [309/500]\n"
     ]
    },
    {
     "data": {
      "application/vnd.jupyter.widget-view+json": {
       "model_id": "3c9425f244654b25a9f092a3c9cd1364",
       "version_major": 2,
       "version_minor": 0
      },
      "text/plain": [
       "HBox(children=(FloatProgress(value=0.0, max=275.0), HTML(value='')))"
      ]
     },
     "metadata": {},
     "output_type": "display_data"
    },
    {
     "name": "stdout",
     "output_type": "stream",
     "text": [
      "\n",
      "Train \t\t  0.0016\t   99.64%\t   92.51%\n",
      "Test \t\t  0.2929\t   99.17%\t   82.00%\n",
      "Epoch [310/500]\n"
     ]
    },
    {
     "data": {
      "application/vnd.jupyter.widget-view+json": {
       "model_id": "6ebba0fe5fc649e09c9c5f5ccff1b9e3",
       "version_major": 2,
       "version_minor": 0
      },
      "text/plain": [
       "HBox(children=(FloatProgress(value=0.0, max=275.0), HTML(value='')))"
      ]
     },
     "metadata": {},
     "output_type": "display_data"
    },
    {
     "name": "stdout",
     "output_type": "stream",
     "text": [
      "\n",
      "Train \t\t  0.0013\t   99.71%\t   94.03%\n",
      "Test \t\t  0.2249\t   99.14%\t   81.65%\n",
      "Epoch [311/500]\n"
     ]
    },
    {
     "data": {
      "application/vnd.jupyter.widget-view+json": {
       "model_id": "c888fef12284445a9024244972e2633d",
       "version_major": 2,
       "version_minor": 0
      },
      "text/plain": [
       "HBox(children=(FloatProgress(value=0.0, max=275.0), HTML(value='')))"
      ]
     },
     "metadata": {},
     "output_type": "display_data"
    },
    {
     "name": "stdout",
     "output_type": "stream",
     "text": [
      "\n",
      "Train \t\t  0.0014\t   99.71%\t   93.85%\n",
      "Test \t\t  0.3215\t   99.23%\t   82.98%\n",
      "Epoch [312/500]\n"
     ]
    },
    {
     "data": {
      "application/vnd.jupyter.widget-view+json": {
       "model_id": "938c259f3bdb48489bcea98af7b50999",
       "version_major": 2,
       "version_minor": 0
      },
      "text/plain": [
       "HBox(children=(FloatProgress(value=0.0, max=275.0), HTML(value='')))"
      ]
     },
     "metadata": {},
     "output_type": "display_data"
    },
    {
     "name": "stdout",
     "output_type": "stream",
     "text": [
      "\n",
      "Train \t\t  0.0021\t   99.53%\t   90.48%\n",
      "Test \t\t  0.2731\t   99.14%\t   81.32%\n",
      "Epoch [313/500]\n"
     ]
    },
    {
     "data": {
      "application/vnd.jupyter.widget-view+json": {
       "model_id": "74461f26b9da4a18b68eb9d7496e3643",
       "version_major": 2,
       "version_minor": 0
      },
      "text/plain": [
       "HBox(children=(FloatProgress(value=0.0, max=275.0), HTML(value='')))"
      ]
     },
     "metadata": {},
     "output_type": "display_data"
    },
    {
     "name": "stdout",
     "output_type": "stream",
     "text": [
      "\n",
      "Train \t\t  0.0017\t   99.61%\t   92.08%\n",
      "Test \t\t  0.1720\t   99.11%\t   81.02%\n",
      "Epoch [314/500]\n"
     ]
    },
    {
     "data": {
      "application/vnd.jupyter.widget-view+json": {
       "model_id": "3ed0680b3d6441238b4199151d78a4d3",
       "version_major": 2,
       "version_minor": 0
      },
      "text/plain": [
       "HBox(children=(FloatProgress(value=0.0, max=275.0), HTML(value='')))"
      ]
     },
     "metadata": {},
     "output_type": "display_data"
    },
    {
     "name": "stdout",
     "output_type": "stream",
     "text": [
      "\n",
      "Train \t\t  0.0012\t   99.73%\t   94.29%\n",
      "Test \t\t  0.2237\t   99.31%\t   84.56%\n",
      "Epoch [315/500]\n"
     ]
    },
    {
     "data": {
      "application/vnd.jupyter.widget-view+json": {
       "model_id": "c2c1c559cb5c4b47be6a5f6afae7e52d",
       "version_major": 2,
       "version_minor": 0
      },
      "text/plain": [
       "HBox(children=(FloatProgress(value=0.0, max=275.0), HTML(value='')))"
      ]
     },
     "metadata": {},
     "output_type": "display_data"
    },
    {
     "name": "stdout",
     "output_type": "stream",
     "text": [
      "\n",
      "Train \t\t  0.0012\t   99.73%\t   94.42%\n",
      "Test \t\t  0.1555\t   99.20%\t   82.69%\n",
      "Epoch [316/500]\n"
     ]
    },
    {
     "data": {
      "application/vnd.jupyter.widget-view+json": {
       "model_id": "15f4ddc95667442d801f3658f1b15f2e",
       "version_major": 2,
       "version_minor": 0
      },
      "text/plain": [
       "HBox(children=(FloatProgress(value=0.0, max=275.0), HTML(value='')))"
      ]
     },
     "metadata": {},
     "output_type": "display_data"
    },
    {
     "name": "stdout",
     "output_type": "stream",
     "text": [
      "\n",
      "Train \t\t  0.0012\t   99.73%\t   94.43%\n",
      "Test \t\t  0.2303\t   99.26%\t   83.76%\n",
      "Epoch [317/500]\n"
     ]
    },
    {
     "data": {
      "application/vnd.jupyter.widget-view+json": {
       "model_id": "adfcc8a420034934a2f0b3ea0fc7b499",
       "version_major": 2,
       "version_minor": 0
      },
      "text/plain": [
       "HBox(children=(FloatProgress(value=0.0, max=275.0), HTML(value='')))"
      ]
     },
     "metadata": {},
     "output_type": "display_data"
    },
    {
     "name": "stdout",
     "output_type": "stream",
     "text": [
      "\n",
      "Train \t\t  0.0025\t   99.57%\t   91.32%\n",
      "Test \t\t  0.2197\t   97.84%\t   63.72%\n",
      "Epoch [318/500]\n"
     ]
    },
    {
     "data": {
      "application/vnd.jupyter.widget-view+json": {
       "model_id": "80fa96ad23aa4b279aa1c5373780d649",
       "version_major": 2,
       "version_minor": 0
      },
      "text/plain": [
       "HBox(children=(FloatProgress(value=0.0, max=275.0), HTML(value='')))"
      ]
     },
     "metadata": {},
     "output_type": "display_data"
    },
    {
     "name": "stdout",
     "output_type": "stream",
     "text": [
      "\n",
      "Train \t\t  0.0051\t   98.89%\t   80.21%\n",
      "Test \t\t  0.0886\t   98.16%\t   67.70%\n",
      "Epoch [319/500]\n"
     ]
    },
    {
     "data": {
      "application/vnd.jupyter.widget-view+json": {
       "model_id": "7bf526149dd24fcb918b4d0a9ac809dd",
       "version_major": 2,
       "version_minor": 0
      },
      "text/plain": [
       "HBox(children=(FloatProgress(value=0.0, max=275.0), HTML(value='')))"
      ]
     },
     "metadata": {},
     "output_type": "display_data"
    },
    {
     "name": "stdout",
     "output_type": "stream",
     "text": [
      "\n",
      "Train \t\t  0.0023\t   99.45%\t   89.07%\n",
      "Test \t\t  0.1294\t   98.87%\t   77.16%\n",
      "Epoch [320/500]\n"
     ]
    },
    {
     "data": {
      "application/vnd.jupyter.widget-view+json": {
       "model_id": "239f2c1852f9476e99e467e8b78c348c",
       "version_major": 2,
       "version_minor": 0
      },
      "text/plain": [
       "HBox(children=(FloatProgress(value=0.0, max=275.0), HTML(value='')))"
      ]
     },
     "metadata": {},
     "output_type": "display_data"
    },
    {
     "name": "stdout",
     "output_type": "stream",
     "text": [
      "\n",
      "Train \t\t  0.0016\t   99.62%\t   92.30%\n",
      "Test \t\t  0.1858\t   99.16%\t   81.90%\n",
      "Epoch [321/500]\n"
     ]
    },
    {
     "data": {
      "application/vnd.jupyter.widget-view+json": {
       "model_id": "11bc11ab720e4452ad14b89969b32fdb",
       "version_major": 2,
       "version_minor": 0
      },
      "text/plain": [
       "HBox(children=(FloatProgress(value=0.0, max=275.0), HTML(value='')))"
      ]
     },
     "metadata": {},
     "output_type": "display_data"
    },
    {
     "name": "stdout",
     "output_type": "stream",
     "text": [
      "\n",
      "Train \t\t  0.0015\t   99.67%\t   93.26%\n",
      "Test \t\t  0.2035\t   99.29%\t   84.19%\n",
      "Epoch [322/500]\n"
     ]
    },
    {
     "data": {
      "application/vnd.jupyter.widget-view+json": {
       "model_id": "1409e293e5a14c4789e4ca25fd0d2430",
       "version_major": 2,
       "version_minor": 0
      },
      "text/plain": [
       "HBox(children=(FloatProgress(value=0.0, max=275.0), HTML(value='')))"
      ]
     },
     "metadata": {},
     "output_type": "display_data"
    },
    {
     "name": "stdout",
     "output_type": "stream",
     "text": [
      "\n",
      "Train \t\t  0.0013\t   99.71%\t   93.91%\n",
      "Test \t\t  0.2251\t   99.34%\t   85.17%\n",
      "Epoch [323/500]\n"
     ]
    },
    {
     "data": {
      "application/vnd.jupyter.widget-view+json": {
       "model_id": "f5f6e9c755c444b0bf28b3c22aa7093d",
       "version_major": 2,
       "version_minor": 0
      },
      "text/plain": [
       "HBox(children=(FloatProgress(value=0.0, max=275.0), HTML(value='')))"
      ]
     },
     "metadata": {},
     "output_type": "display_data"
    },
    {
     "name": "stdout",
     "output_type": "stream",
     "text": [
      "\n",
      "Train \t\t  0.0012\t   99.74%\t   94.45%\n",
      "Test \t\t  0.2161\t   99.34%\t   85.20%\n",
      "Epoch [324/500]\n"
     ]
    },
    {
     "data": {
      "application/vnd.jupyter.widget-view+json": {
       "model_id": "82b32d2b383b4179b91d214d0658430f",
       "version_major": 2,
       "version_minor": 0
      },
      "text/plain": [
       "HBox(children=(FloatProgress(value=0.0, max=275.0), HTML(value='')))"
      ]
     },
     "metadata": {},
     "output_type": "display_data"
    },
    {
     "name": "stdout",
     "output_type": "stream",
     "text": [
      "\n",
      "Train \t\t  0.0012\t   99.73%\t   94.37%\n",
      "Test \t\t  0.2552\t   99.32%\t   84.75%\n",
      "Epoch [325/500]\n"
     ]
    },
    {
     "data": {
      "application/vnd.jupyter.widget-view+json": {
       "model_id": "fc93e1cee26a4014b61d712aafb981eb",
       "version_major": 2,
       "version_minor": 0
      },
      "text/plain": [
       "HBox(children=(FloatProgress(value=0.0, max=275.0), HTML(value='')))"
      ]
     },
     "metadata": {},
     "output_type": "display_data"
    },
    {
     "name": "stdout",
     "output_type": "stream",
     "text": [
      "\n",
      "Train \t\t  0.0012\t   99.72%\t   94.09%\n",
      "Test \t\t  0.2553\t   99.39%\t   86.06%\n",
      "Epoch [326/500]\n"
     ]
    },
    {
     "data": {
      "application/vnd.jupyter.widget-view+json": {
       "model_id": "e147cf102d5849b8872c1aa641124f92",
       "version_major": 2,
       "version_minor": 0
      },
      "text/plain": [
       "HBox(children=(FloatProgress(value=0.0, max=275.0), HTML(value='')))"
      ]
     },
     "metadata": {},
     "output_type": "display_data"
    },
    {
     "name": "stdout",
     "output_type": "stream",
     "text": [
      "\n",
      "Train \t\t  0.0011\t   99.75%\t   94.74%\n",
      "Test \t\t  0.2849\t   99.43%\t   86.80%\n",
      "Epoch [327/500]\n"
     ]
    },
    {
     "data": {
      "application/vnd.jupyter.widget-view+json": {
       "model_id": "123dbf7b39054f8eb7ee0499ec481e32",
       "version_major": 2,
       "version_minor": 0
      },
      "text/plain": [
       "HBox(children=(FloatProgress(value=0.0, max=275.0), HTML(value='')))"
      ]
     },
     "metadata": {},
     "output_type": "display_data"
    },
    {
     "name": "stdout",
     "output_type": "stream",
     "text": [
      "\n",
      "Train \t\t  0.0010\t   99.77%\t   95.17%\n",
      "Test \t\t  0.2902\t   99.43%\t   86.94%\n",
      "Epoch [328/500]\n"
     ]
    },
    {
     "data": {
      "application/vnd.jupyter.widget-view+json": {
       "model_id": "767691c841ff447188ea5130539f99c0",
       "version_major": 2,
       "version_minor": 0
      },
      "text/plain": [
       "HBox(children=(FloatProgress(value=0.0, max=275.0), HTML(value='')))"
      ]
     },
     "metadata": {},
     "output_type": "display_data"
    },
    {
     "name": "stdout",
     "output_type": "stream",
     "text": [
      "\n",
      "Train \t\t  0.0011\t   99.78%\t   95.29%\n",
      "Test \t\t  0.2758\t   99.43%\t   86.82%\n",
      "Epoch [329/500]\n"
     ]
    },
    {
     "data": {
      "application/vnd.jupyter.widget-view+json": {
       "model_id": "7aca6237ced8416dbecab24c95ab4c74",
       "version_major": 2,
       "version_minor": 0
      },
      "text/plain": [
       "HBox(children=(FloatProgress(value=0.0, max=275.0), HTML(value='')))"
      ]
     },
     "metadata": {},
     "output_type": "display_data"
    },
    {
     "name": "stdout",
     "output_type": "stream",
     "text": [
      "\n",
      "Train \t\t  0.0011\t   99.77%\t   95.20%\n",
      "Test \t\t  0.2934\t   99.44%\t   87.07%\n",
      "Epoch [330/500]\n"
     ]
    },
    {
     "data": {
      "application/vnd.jupyter.widget-view+json": {
       "model_id": "4f384f4fe6df415a85f1c11f41e27586",
       "version_major": 2,
       "version_minor": 0
      },
      "text/plain": [
       "HBox(children=(FloatProgress(value=0.0, max=275.0), HTML(value='')))"
      ]
     },
     "metadata": {},
     "output_type": "display_data"
    },
    {
     "name": "stdout",
     "output_type": "stream",
     "text": [
      "\n",
      "Train \t\t  0.0011\t   99.76%\t   94.98%\n",
      "Test \t\t  0.2962\t   99.43%\t   86.93%\n",
      "Epoch [331/500]\n"
     ]
    },
    {
     "data": {
      "application/vnd.jupyter.widget-view+json": {
       "model_id": "38fc7957b1474159aa327926cf27d4b2",
       "version_major": 2,
       "version_minor": 0
      },
      "text/plain": [
       "HBox(children=(FloatProgress(value=0.0, max=275.0), HTML(value='')))"
      ]
     },
     "metadata": {},
     "output_type": "display_data"
    },
    {
     "name": "stdout",
     "output_type": "stream",
     "text": [
      "\n",
      "Train \t\t  0.0011\t   99.77%\t   95.06%\n",
      "Test \t\t  0.3236\t   99.44%\t   87.10%\n",
      "Epoch [332/500]\n"
     ]
    },
    {
     "data": {
      "application/vnd.jupyter.widget-view+json": {
       "model_id": "b5041204e5b54132b74fa64ff8a3dfc6",
       "version_major": 2,
       "version_minor": 0
      },
      "text/plain": [
       "HBox(children=(FloatProgress(value=0.0, max=275.0), HTML(value='')))"
      ]
     },
     "metadata": {},
     "output_type": "display_data"
    },
    {
     "name": "stdout",
     "output_type": "stream",
     "text": [
      "\n",
      "Train \t\t  0.0017\t   99.64%\t   92.58%\n",
      "Test \t\t  0.1240\t   98.75%\t   75.40%\n",
      "Epoch [333/500]\n"
     ]
    },
    {
     "data": {
      "application/vnd.jupyter.widget-view+json": {
       "model_id": "620967e38c504a708d5fe14b28c122ea",
       "version_major": 2,
       "version_minor": 0
      },
      "text/plain": [
       "HBox(children=(FloatProgress(value=0.0, max=275.0), HTML(value='')))"
      ]
     },
     "metadata": {},
     "output_type": "display_data"
    },
    {
     "name": "stdout",
     "output_type": "stream",
     "text": [
      "\n",
      "Train \t\t  0.0016\t   99.62%\t   92.13%\n",
      "Test \t\t  0.2427\t   99.24%\t   83.39%\n",
      "Epoch [334/500]\n"
     ]
    },
    {
     "data": {
      "application/vnd.jupyter.widget-view+json": {
       "model_id": "4dab224bb96d4db8b67cdedd5db24421",
       "version_major": 2,
       "version_minor": 0
      },
      "text/plain": [
       "HBox(children=(FloatProgress(value=0.0, max=275.0), HTML(value='')))"
      ]
     },
     "metadata": {},
     "output_type": "display_data"
    },
    {
     "name": "stdout",
     "output_type": "stream",
     "text": [
      "\n",
      "Train \t\t  0.0012\t   99.73%\t   94.41%\n",
      "Test \t\t  0.3217\t   99.36%\t   85.42%\n",
      "Epoch [335/500]\n"
     ]
    },
    {
     "data": {
      "application/vnd.jupyter.widget-view+json": {
       "model_id": "e36c4f643c9941a391e5276ffb043bcd",
       "version_major": 2,
       "version_minor": 0
      },
      "text/plain": [
       "HBox(children=(FloatProgress(value=0.0, max=275.0), HTML(value='')))"
      ]
     },
     "metadata": {},
     "output_type": "display_data"
    },
    {
     "name": "stdout",
     "output_type": "stream",
     "text": [
      "\n",
      "Train \t\t  0.0011\t   99.77%\t   95.10%\n",
      "Test \t\t  0.3023\t   99.40%\t   86.33%\n",
      "Epoch [336/500]\n"
     ]
    },
    {
     "data": {
      "application/vnd.jupyter.widget-view+json": {
       "model_id": "022f0bd5637f48efb5e92a1d8a7cc0ea",
       "version_major": 2,
       "version_minor": 0
      },
      "text/plain": [
       "HBox(children=(FloatProgress(value=0.0, max=275.0), HTML(value='')))"
      ]
     },
     "metadata": {},
     "output_type": "display_data"
    },
    {
     "name": "stdout",
     "output_type": "stream",
     "text": [
      "\n",
      "Train \t\t  0.0026\t   99.76%\t   95.02%\n",
      "Test \t\t  0.2775\t   99.37%\t   85.70%\n",
      "Epoch [337/500]\n"
     ]
    },
    {
     "data": {
      "application/vnd.jupyter.widget-view+json": {
       "model_id": "c2e541a00a9444aca6698ac501d89443",
       "version_major": 2,
       "version_minor": 0
      },
      "text/plain": [
       "HBox(children=(FloatProgress(value=0.0, max=275.0), HTML(value='')))"
      ]
     },
     "metadata": {},
     "output_type": "display_data"
    },
    {
     "name": "stdout",
     "output_type": "stream",
     "text": [
      "\n",
      "Train \t\t  0.0042\t   99.11%\t   83.52%\n",
      "Test \t\t  0.1410\t   98.79%\t   75.94%\n",
      "Epoch [338/500]\n"
     ]
    },
    {
     "data": {
      "application/vnd.jupyter.widget-view+json": {
       "model_id": "71c97f743ae14f29afe4dc896edd6fb8",
       "version_major": 2,
       "version_minor": 0
      },
      "text/plain": [
       "HBox(children=(FloatProgress(value=0.0, max=275.0), HTML(value='')))"
      ]
     },
     "metadata": {},
     "output_type": "display_data"
    },
    {
     "name": "stdout",
     "output_type": "stream",
     "text": [
      "\n",
      "Train \t\t  0.0018\t   99.57%\t   91.34%\n",
      "Test \t\t  0.1500\t   99.07%\t   80.32%\n",
      "Epoch [339/500]\n"
     ]
    },
    {
     "data": {
      "application/vnd.jupyter.widget-view+json": {
       "model_id": "26450139b8af4da18d5b232d2bbe11ce",
       "version_major": 2,
       "version_minor": 0
      },
      "text/plain": [
       "HBox(children=(FloatProgress(value=0.0, max=275.0), HTML(value='')))"
      ]
     },
     "metadata": {},
     "output_type": "display_data"
    },
    {
     "name": "stdout",
     "output_type": "stream",
     "text": [
      "\n",
      "Train \t\t  0.0017\t   99.66%\t   92.91%\n",
      "Test \t\t  0.2116\t   99.25%\t   83.47%\n",
      "Epoch [340/500]\n"
     ]
    },
    {
     "data": {
      "application/vnd.jupyter.widget-view+json": {
       "model_id": "32e90de8077d461188debdca209358de",
       "version_major": 2,
       "version_minor": 0
      },
      "text/plain": [
       "HBox(children=(FloatProgress(value=0.0, max=275.0), HTML(value='')))"
      ]
     },
     "metadata": {},
     "output_type": "display_data"
    },
    {
     "name": "stdout",
     "output_type": "stream",
     "text": [
      "\n",
      "Train \t\t  0.0020\t   99.58%\t   91.52%\n",
      "Test \t\t  0.1636\t   98.99%\t   79.08%\n",
      "Epoch [341/500]\n"
     ]
    },
    {
     "data": {
      "application/vnd.jupyter.widget-view+json": {
       "model_id": "7ddf5905421b4fc3b3edad7eb5ba24d0",
       "version_major": 2,
       "version_minor": 0
      },
      "text/plain": [
       "HBox(children=(FloatProgress(value=0.0, max=275.0), HTML(value='')))"
      ]
     },
     "metadata": {},
     "output_type": "display_data"
    },
    {
     "name": "stdout",
     "output_type": "stream",
     "text": [
      "\n",
      "Train \t\t  0.0014\t   99.71%\t   93.99%\n",
      "Test \t\t  0.2281\t   99.19%\t   82.30%\n",
      "Epoch [342/500]\n"
     ]
    },
    {
     "data": {
      "application/vnd.jupyter.widget-view+json": {
       "model_id": "f2dee2114ddd4a2f8f2c44ac2c6bec9f",
       "version_major": 2,
       "version_minor": 0
      },
      "text/plain": [
       "HBox(children=(FloatProgress(value=0.0, max=275.0), HTML(value='')))"
      ]
     },
     "metadata": {},
     "output_type": "display_data"
    },
    {
     "name": "stdout",
     "output_type": "stream",
     "text": [
      "\n",
      "Train \t\t  0.0015\t   99.69%\t   93.56%\n",
      "Test \t\t  0.1333\t   99.25%\t   83.52%\n",
      "Epoch [343/500]\n"
     ]
    },
    {
     "data": {
      "application/vnd.jupyter.widget-view+json": {
       "model_id": "c56566bd78ce436e8effb377399fbcff",
       "version_major": 2,
       "version_minor": 0
      },
      "text/plain": [
       "HBox(children=(FloatProgress(value=0.0, max=275.0), HTML(value='')))"
      ]
     },
     "metadata": {},
     "output_type": "display_data"
    },
    {
     "name": "stdout",
     "output_type": "stream",
     "text": [
      "\n",
      "Train \t\t  0.0012\t   99.75%\t   94.64%\n",
      "Test \t\t  0.1557\t   99.26%\t   83.71%\n",
      "Epoch [344/500]\n"
     ]
    },
    {
     "data": {
      "application/vnd.jupyter.widget-view+json": {
       "model_id": "fe29e8b4b47049b2b2424067f3579378",
       "version_major": 2,
       "version_minor": 0
      },
      "text/plain": [
       "HBox(children=(FloatProgress(value=0.0, max=275.0), HTML(value='')))"
      ]
     },
     "metadata": {},
     "output_type": "display_data"
    },
    {
     "name": "stdout",
     "output_type": "stream",
     "text": [
      "\n",
      "Train \t\t  0.0011\t   99.76%\t   94.98%\n",
      "Test \t\t  0.1801\t   99.35%\t   85.44%\n",
      "Epoch [345/500]\n"
     ]
    },
    {
     "data": {
      "application/vnd.jupyter.widget-view+json": {
       "model_id": "07183eff2892429daaf134f29bdd550c",
       "version_major": 2,
       "version_minor": 0
      },
      "text/plain": [
       "HBox(children=(FloatProgress(value=0.0, max=275.0), HTML(value='')))"
      ]
     },
     "metadata": {},
     "output_type": "display_data"
    },
    {
     "name": "stdout",
     "output_type": "stream",
     "text": [
      "\n",
      "Train \t\t  0.0010\t   99.78%\t   95.40%\n",
      "Test \t\t  0.2114\t   99.41%\t   86.57%\n",
      "Epoch [346/500]\n"
     ]
    },
    {
     "data": {
      "application/vnd.jupyter.widget-view+json": {
       "model_id": "4f0a078f18cd44d985674c3ee2621651",
       "version_major": 2,
       "version_minor": 0
      },
      "text/plain": [
       "HBox(children=(FloatProgress(value=0.0, max=275.0), HTML(value='')))"
      ]
     },
     "metadata": {},
     "output_type": "display_data"
    },
    {
     "name": "stdout",
     "output_type": "stream",
     "text": [
      "\n",
      "Train \t\t  0.0011\t   99.79%\t   95.50%\n",
      "Test \t\t  0.2160\t   99.44%\t   87.20%\n",
      "Epoch [347/500]\n"
     ]
    },
    {
     "data": {
      "application/vnd.jupyter.widget-view+json": {
       "model_id": "56f823a0b054471c9d01450c29306f23",
       "version_major": 2,
       "version_minor": 0
      },
      "text/plain": [
       "HBox(children=(FloatProgress(value=0.0, max=275.0), HTML(value='')))"
      ]
     },
     "metadata": {},
     "output_type": "display_data"
    },
    {
     "name": "stdout",
     "output_type": "stream",
     "text": [
      "\n",
      "Train \t\t  0.0012\t   99.76%\t   94.91%\n",
      "Test \t\t  0.1880\t   99.36%\t   85.54%\n",
      "Epoch [348/500]\n"
     ]
    },
    {
     "data": {
      "application/vnd.jupyter.widget-view+json": {
       "model_id": "b601eed6bc6f40af83d3bd59f754b21a",
       "version_major": 2,
       "version_minor": 0
      },
      "text/plain": [
       "HBox(children=(FloatProgress(value=0.0, max=275.0), HTML(value='')))"
      ]
     },
     "metadata": {},
     "output_type": "display_data"
    },
    {
     "name": "stdout",
     "output_type": "stream",
     "text": [
      "\n",
      "Train \t\t  0.0017\t   99.66%\t   93.07%\n",
      "Test \t\t  0.1968\t   99.11%\t   80.96%\n",
      "Epoch [349/500]\n"
     ]
    },
    {
     "data": {
      "application/vnd.jupyter.widget-view+json": {
       "model_id": "55132996e05a44cca6ee1de9ce799498",
       "version_major": 2,
       "version_minor": 0
      },
      "text/plain": [
       "HBox(children=(FloatProgress(value=0.0, max=275.0), HTML(value='')))"
      ]
     },
     "metadata": {},
     "output_type": "display_data"
    },
    {
     "name": "stdout",
     "output_type": "stream",
     "text": [
      "\n",
      "Train \t\t  0.0016\t   99.73%\t   94.35%\n",
      "Test \t\t  0.1568\t   98.92%\t   77.90%\n",
      "Epoch [350/500]\n"
     ]
    },
    {
     "data": {
      "application/vnd.jupyter.widget-view+json": {
       "model_id": "907a34f7e39f4c99afcf64d993313a5b",
       "version_major": 2,
       "version_minor": 0
      },
      "text/plain": [
       "HBox(children=(FloatProgress(value=0.0, max=275.0), HTML(value='')))"
      ]
     },
     "metadata": {},
     "output_type": "display_data"
    },
    {
     "name": "stdout",
     "output_type": "stream",
     "text": [
      "\n",
      "Train \t\t  0.0021\t   99.54%\t   90.70%\n",
      "Test \t\t  0.1630\t   98.87%\t   77.18%\n",
      "Epoch [351/500]\n"
     ]
    },
    {
     "data": {
      "application/vnd.jupyter.widget-view+json": {
       "model_id": "9c49c8f567fc402d84acf0729a7bc097",
       "version_major": 2,
       "version_minor": 0
      },
      "text/plain": [
       "HBox(children=(FloatProgress(value=0.0, max=275.0), HTML(value='')))"
      ]
     },
     "metadata": {},
     "output_type": "display_data"
    },
    {
     "name": "stdout",
     "output_type": "stream",
     "text": [
      "\n",
      "Train \t\t  0.0011\t   99.74%\t   94.44%\n",
      "Test \t\t  0.2330\t   99.34%\t   85.19%\n",
      "Epoch [352/500]\n"
     ]
    },
    {
     "data": {
      "application/vnd.jupyter.widget-view+json": {
       "model_id": "6c3d66e201654d90a5c979ff123e9df8",
       "version_major": 2,
       "version_minor": 0
      },
      "text/plain": [
       "HBox(children=(FloatProgress(value=0.0, max=275.0), HTML(value='')))"
      ]
     },
     "metadata": {},
     "output_type": "display_data"
    },
    {
     "name": "stdout",
     "output_type": "stream",
     "text": [
      "\n",
      "Train \t\t  0.0011\t   99.77%\t   95.23%\n",
      "Test \t\t  0.2444\t   99.29%\t   84.16%\n",
      "Epoch [353/500]\n"
     ]
    },
    {
     "data": {
      "application/vnd.jupyter.widget-view+json": {
       "model_id": "0ada2b8b93c64ec4ab35cffc8896587b",
       "version_major": 2,
       "version_minor": 0
      },
      "text/plain": [
       "HBox(children=(FloatProgress(value=0.0, max=275.0), HTML(value='')))"
      ]
     },
     "metadata": {},
     "output_type": "display_data"
    },
    {
     "name": "stdout",
     "output_type": "stream",
     "text": [
      "\n",
      "Train \t\t  0.0011\t   99.78%\t   95.42%\n",
      "Test \t\t  0.2343\t   99.35%\t   85.40%\n",
      "Epoch [354/500]\n"
     ]
    },
    {
     "data": {
      "application/vnd.jupyter.widget-view+json": {
       "model_id": "c0241038300e4588a150ed280efcf70b",
       "version_major": 2,
       "version_minor": 0
      },
      "text/plain": [
       "HBox(children=(FloatProgress(value=0.0, max=275.0), HTML(value='')))"
      ]
     },
     "metadata": {},
     "output_type": "display_data"
    },
    {
     "name": "stdout",
     "output_type": "stream",
     "text": [
      "\n",
      "Train \t\t  0.0013\t   99.72%\t   94.24%\n",
      "Test \t\t  0.2744\t   99.37%\t   85.59%\n",
      "Epoch [355/500]\n"
     ]
    },
    {
     "data": {
      "application/vnd.jupyter.widget-view+json": {
       "model_id": "9c1101b1f0f44a69ac980c1dca25923c",
       "version_major": 2,
       "version_minor": 0
      },
      "text/plain": [
       "HBox(children=(FloatProgress(value=0.0, max=275.0), HTML(value='')))"
      ]
     },
     "metadata": {},
     "output_type": "display_data"
    },
    {
     "name": "stdout",
     "output_type": "stream",
     "text": [
      "\n",
      "Train \t\t  0.0010\t   99.79%\t   95.51%\n",
      "Test \t\t  0.2604\t   99.45%\t   87.40%\n",
      "Epoch [356/500]\n"
     ]
    },
    {
     "data": {
      "application/vnd.jupyter.widget-view+json": {
       "model_id": "bf77989f860242cb9da051e5e86916c0",
       "version_major": 2,
       "version_minor": 0
      },
      "text/plain": [
       "HBox(children=(FloatProgress(value=0.0, max=275.0), HTML(value='')))"
      ]
     },
     "metadata": {},
     "output_type": "display_data"
    },
    {
     "name": "stdout",
     "output_type": "stream",
     "text": [
      "\n",
      "Train \t\t  0.0010\t   99.79%\t   95.55%\n",
      "Test \t\t  0.3397\t   99.51%\t   88.38%\n",
      "Epoch [357/500]\n"
     ]
    },
    {
     "data": {
      "application/vnd.jupyter.widget-view+json": {
       "model_id": "a1c80c0cefec4f75aeba8b471fa3142a",
       "version_major": 2,
       "version_minor": 0
      },
      "text/plain": [
       "HBox(children=(FloatProgress(value=0.0, max=275.0), HTML(value='')))"
      ]
     },
     "metadata": {},
     "output_type": "display_data"
    },
    {
     "name": "stdout",
     "output_type": "stream",
     "text": [
      "\n",
      "Train \t\t  0.0010\t   99.79%\t   95.63%\n",
      "Test \t\t  0.3239\t   99.46%\t   87.33%\n",
      "Epoch [358/500]\n"
     ]
    },
    {
     "data": {
      "application/vnd.jupyter.widget-view+json": {
       "model_id": "b34c7213ffe343e0addc178eb340b49a",
       "version_major": 2,
       "version_minor": 0
      },
      "text/plain": [
       "HBox(children=(FloatProgress(value=0.0, max=275.0), HTML(value='')))"
      ]
     },
     "metadata": {},
     "output_type": "display_data"
    },
    {
     "name": "stdout",
     "output_type": "stream",
     "text": [
      "\n",
      "Train \t\t  0.0024\t   99.60%\t   91.85%\n",
      "Test \t\t  0.0971\t   98.74%\t   75.30%\n",
      "Epoch [359/500]\n"
     ]
    },
    {
     "data": {
      "application/vnd.jupyter.widget-view+json": {
       "model_id": "5faffb14ff504edc8fd9bad61a04861c",
       "version_major": 2,
       "version_minor": 0
      },
      "text/plain": [
       "HBox(children=(FloatProgress(value=0.0, max=275.0), HTML(value='')))"
      ]
     },
     "metadata": {},
     "output_type": "display_data"
    },
    {
     "name": "stdout",
     "output_type": "stream",
     "text": [
      "\n",
      "Train \t\t  0.0016\t   99.63%\t   92.39%\n",
      "Test \t\t  0.2532\t   99.31%\t   84.49%\n",
      "Epoch [360/500]\n"
     ]
    },
    {
     "data": {
      "application/vnd.jupyter.widget-view+json": {
       "model_id": "db75f5d997f845cda096f1f8c9b30332",
       "version_major": 2,
       "version_minor": 0
      },
      "text/plain": [
       "HBox(children=(FloatProgress(value=0.0, max=275.0), HTML(value='')))"
      ]
     },
     "metadata": {},
     "output_type": "display_data"
    },
    {
     "name": "stdout",
     "output_type": "stream",
     "text": [
      "\n",
      "Train \t\t  0.0012\t   99.73%\t   94.37%\n",
      "Test \t\t  0.2763\t   99.36%\t   85.36%\n",
      "Epoch [361/500]\n"
     ]
    },
    {
     "data": {
      "application/vnd.jupyter.widget-view+json": {
       "model_id": "287291cd1220421bac0b2e197c7d83f2",
       "version_major": 2,
       "version_minor": 0
      },
      "text/plain": [
       "HBox(children=(FloatProgress(value=0.0, max=275.0), HTML(value='')))"
      ]
     },
     "metadata": {},
     "output_type": "display_data"
    },
    {
     "name": "stdout",
     "output_type": "stream",
     "text": [
      "\n",
      "Train \t\t  0.0012\t   99.77%\t   95.04%\n",
      "Test \t\t  0.3036\t   99.45%\t   87.25%\n",
      "Epoch [362/500]\n"
     ]
    },
    {
     "data": {
      "application/vnd.jupyter.widget-view+json": {
       "model_id": "9497bc0454f34e5d9f362d2ca3a014a6",
       "version_major": 2,
       "version_minor": 0
      },
      "text/plain": [
       "HBox(children=(FloatProgress(value=0.0, max=275.0), HTML(value='')))"
      ]
     },
     "metadata": {},
     "output_type": "display_data"
    },
    {
     "name": "stdout",
     "output_type": "stream",
     "text": [
      "\n",
      "Train \t\t  0.0034\t   99.44%\t   88.95%\n",
      "Test \t\t  0.1179\t   98.71%\t   74.89%\n",
      "Epoch [363/500]\n"
     ]
    },
    {
     "data": {
      "application/vnd.jupyter.widget-view+json": {
       "model_id": "e094dcfe479f4fb4bb9d4c053fab657e",
       "version_major": 2,
       "version_minor": 0
      },
      "text/plain": [
       "HBox(children=(FloatProgress(value=0.0, max=275.0), HTML(value='')))"
      ]
     },
     "metadata": {},
     "output_type": "display_data"
    },
    {
     "name": "stdout",
     "output_type": "stream",
     "text": [
      "\n",
      "Train \t\t  0.0014\t   99.69%\t   93.61%\n",
      "Test \t\t  0.1816\t   99.14%\t   81.65%\n",
      "Epoch [364/500]\n"
     ]
    },
    {
     "data": {
      "application/vnd.jupyter.widget-view+json": {
       "model_id": "18d1fcd85ff34de58282a5934754d5b6",
       "version_major": 2,
       "version_minor": 0
      },
      "text/plain": [
       "HBox(children=(FloatProgress(value=0.0, max=275.0), HTML(value='')))"
      ]
     },
     "metadata": {},
     "output_type": "display_data"
    },
    {
     "name": "stdout",
     "output_type": "stream",
     "text": [
      "\n",
      "Train \t\t  0.0011\t   99.75%\t   94.81%\n",
      "Test \t\t  0.2392\t   99.31%\t   84.57%\n",
      "Epoch [365/500]\n"
     ]
    },
    {
     "data": {
      "application/vnd.jupyter.widget-view+json": {
       "model_id": "acc08f585aee4c2e9deb011293a20b99",
       "version_major": 2,
       "version_minor": 0
      },
      "text/plain": [
       "HBox(children=(FloatProgress(value=0.0, max=275.0), HTML(value='')))"
      ]
     },
     "metadata": {},
     "output_type": "display_data"
    },
    {
     "name": "stdout",
     "output_type": "stream",
     "text": [
      "\n",
      "Train \t\t  0.0012\t   99.75%\t   94.74%\n",
      "Test \t\t  0.2648\t   99.36%\t   85.49%\n",
      "Epoch [366/500]\n"
     ]
    },
    {
     "data": {
      "application/vnd.jupyter.widget-view+json": {
       "model_id": "450e2306e11d4165bd3d5f29c06c4fcf",
       "version_major": 2,
       "version_minor": 0
      },
      "text/plain": [
       "HBox(children=(FloatProgress(value=0.0, max=275.0), HTML(value='')))"
      ]
     },
     "metadata": {},
     "output_type": "display_data"
    },
    {
     "name": "stdout",
     "output_type": "stream",
     "text": [
      "\n",
      "Train \t\t  0.0010\t   99.78%\t   95.41%\n",
      "Test \t\t  0.3136\t   99.37%\t   85.65%\n",
      "Epoch [367/500]\n"
     ]
    },
    {
     "data": {
      "application/vnd.jupyter.widget-view+json": {
       "model_id": "1f9245aab10e4da4b739a2a4351c3732",
       "version_major": 2,
       "version_minor": 0
      },
      "text/plain": [
       "HBox(children=(FloatProgress(value=0.0, max=275.0), HTML(value='')))"
      ]
     },
     "metadata": {},
     "output_type": "display_data"
    },
    {
     "name": "stdout",
     "output_type": "stream",
     "text": [
      "\n",
      "Train \t\t  0.0009\t   99.80%\t   95.66%\n",
      "Test \t\t  0.3108\t   99.44%\t   87.14%\n",
      "Epoch [368/500]\n"
     ]
    },
    {
     "data": {
      "application/vnd.jupyter.widget-view+json": {
       "model_id": "94d0216dec634cb2b20a2aaf9c76fc42",
       "version_major": 2,
       "version_minor": 0
      },
      "text/plain": [
       "HBox(children=(FloatProgress(value=0.0, max=275.0), HTML(value='')))"
      ]
     },
     "metadata": {},
     "output_type": "display_data"
    },
    {
     "name": "stdout",
     "output_type": "stream",
     "text": [
      "\n",
      "Train \t\t  0.0011\t   99.79%\t   95.54%\n",
      "Test \t\t  0.3518\t   99.43%\t   86.78%\n",
      "Epoch [369/500]\n"
     ]
    },
    {
     "data": {
      "application/vnd.jupyter.widget-view+json": {
       "model_id": "c9be5302015946aea950783b8acf6840",
       "version_major": 2,
       "version_minor": 0
      },
      "text/plain": [
       "HBox(children=(FloatProgress(value=0.0, max=275.0), HTML(value='')))"
      ]
     },
     "metadata": {},
     "output_type": "display_data"
    },
    {
     "name": "stdout",
     "output_type": "stream",
     "text": [
      "\n",
      "Train \t\t  0.0009\t   99.80%\t   95.76%\n",
      "Test \t\t  0.4047\t   99.49%\t   88.01%\n",
      "Epoch [370/500]\n"
     ]
    },
    {
     "data": {
      "application/vnd.jupyter.widget-view+json": {
       "model_id": "55d20acd785845748cb044c65756aaae",
       "version_major": 2,
       "version_minor": 0
      },
      "text/plain": [
       "HBox(children=(FloatProgress(value=0.0, max=275.0), HTML(value='')))"
      ]
     },
     "metadata": {},
     "output_type": "display_data"
    },
    {
     "name": "stdout",
     "output_type": "stream",
     "text": [
      "\n",
      "Train \t\t  0.0008\t   99.81%\t   96.05%\n",
      "Test \t\t  0.3692\t   99.44%\t   87.01%\n",
      "Epoch [371/500]\n"
     ]
    },
    {
     "data": {
      "application/vnd.jupyter.widget-view+json": {
       "model_id": "7b7e29a7172641fb8eb87d14488e47fd",
       "version_major": 2,
       "version_minor": 0
      },
      "text/plain": [
       "HBox(children=(FloatProgress(value=0.0, max=275.0), HTML(value='')))"
      ]
     },
     "metadata": {},
     "output_type": "display_data"
    },
    {
     "name": "stdout",
     "output_type": "stream",
     "text": [
      "\n",
      "Train \t\t  0.0012\t   99.77%\t   95.19%\n",
      "Test \t\t  0.2021\t   99.14%\t   81.57%\n",
      "Epoch [372/500]\n"
     ]
    },
    {
     "data": {
      "application/vnd.jupyter.widget-view+json": {
       "model_id": "5c9e2540afa84c9d910837b6bc8b6b89",
       "version_major": 2,
       "version_minor": 0
      },
      "text/plain": [
       "HBox(children=(FloatProgress(value=0.0, max=275.0), HTML(value='')))"
      ]
     },
     "metadata": {},
     "output_type": "display_data"
    },
    {
     "name": "stdout",
     "output_type": "stream",
     "text": [
      "\n",
      "Train \t\t  0.0015\t   99.68%\t   93.34%\n",
      "Test \t\t  0.2955\t   99.32%\t   84.79%\n",
      "Epoch [373/500]\n"
     ]
    },
    {
     "data": {
      "application/vnd.jupyter.widget-view+json": {
       "model_id": "5ed158027b7b47a09e4bf77db2c8d29c",
       "version_major": 2,
       "version_minor": 0
      },
      "text/plain": [
       "HBox(children=(FloatProgress(value=0.0, max=275.0), HTML(value='')))"
      ]
     },
     "metadata": {},
     "output_type": "display_data"
    },
    {
     "name": "stdout",
     "output_type": "stream",
     "text": [
      "\n",
      "Train \t\t  0.0014\t   99.72%\t   94.07%\n",
      "Test \t\t  0.3042\t   99.45%\t   87.20%\n",
      "Epoch [374/500]\n"
     ]
    },
    {
     "data": {
      "application/vnd.jupyter.widget-view+json": {
       "model_id": "88e07cd460c540cd9070b229a40605e4",
       "version_major": 2,
       "version_minor": 0
      },
      "text/plain": [
       "HBox(children=(FloatProgress(value=0.0, max=275.0), HTML(value='')))"
      ]
     },
     "metadata": {},
     "output_type": "display_data"
    },
    {
     "name": "stdout",
     "output_type": "stream",
     "text": [
      "\n",
      "Train \t\t  0.0011\t   99.77%\t   95.20%\n",
      "Test \t\t  0.3183\t   99.45%\t   87.36%\n",
      "Epoch [375/500]\n"
     ]
    },
    {
     "data": {
      "application/vnd.jupyter.widget-view+json": {
       "model_id": "a0816e7027d44741997abaf8b55d4297",
       "version_major": 2,
       "version_minor": 0
      },
      "text/plain": [
       "HBox(children=(FloatProgress(value=0.0, max=275.0), HTML(value='')))"
      ]
     },
     "metadata": {},
     "output_type": "display_data"
    },
    {
     "name": "stdout",
     "output_type": "stream",
     "text": [
      "\n",
      "Train \t\t  0.0012\t   99.76%\t   94.98%\n",
      "Test \t\t  0.3030\t   99.42%\t   86.74%\n",
      "Epoch [376/500]\n"
     ]
    },
    {
     "data": {
      "application/vnd.jupyter.widget-view+json": {
       "model_id": "54b50ed5b8834e769c6364adac8c2ada",
       "version_major": 2,
       "version_minor": 0
      },
      "text/plain": [
       "HBox(children=(FloatProgress(value=0.0, max=275.0), HTML(value='')))"
      ]
     },
     "metadata": {},
     "output_type": "display_data"
    },
    {
     "name": "stdout",
     "output_type": "stream",
     "text": [
      "\n",
      "Train \t\t  0.0010\t   99.80%\t   95.83%\n",
      "Test \t\t  0.3353\t   99.52%\t   88.64%\n",
      "Epoch [377/500]\n"
     ]
    },
    {
     "data": {
      "application/vnd.jupyter.widget-view+json": {
       "model_id": "19f3a7ee0c264e808446e5df504d71ad",
       "version_major": 2,
       "version_minor": 0
      },
      "text/plain": [
       "HBox(children=(FloatProgress(value=0.0, max=275.0), HTML(value='')))"
      ]
     },
     "metadata": {},
     "output_type": "display_data"
    },
    {
     "name": "stdout",
     "output_type": "stream",
     "text": [
      "\n",
      "Train \t\t  0.0025\t   99.50%\t   89.97%\n",
      "Test \t\t  0.3318\t   99.24%\t   83.18%\n",
      "Epoch [378/500]\n"
     ]
    },
    {
     "data": {
      "application/vnd.jupyter.widget-view+json": {
       "model_id": "fa5bc381a8034b5cbefde1627aa0ba68",
       "version_major": 2,
       "version_minor": 0
      },
      "text/plain": [
       "HBox(children=(FloatProgress(value=0.0, max=275.0), HTML(value='')))"
      ]
     },
     "metadata": {},
     "output_type": "display_data"
    },
    {
     "name": "stdout",
     "output_type": "stream",
     "text": [
      "\n",
      "Train \t\t  0.0022\t   99.64%\t   92.68%\n",
      "Test \t\t  0.2086\t   97.87%\t   63.99%\n",
      "Epoch [379/500]\n"
     ]
    },
    {
     "data": {
      "application/vnd.jupyter.widget-view+json": {
       "model_id": "5d905d00fce845bcaebb43586ed46b5f",
       "version_major": 2,
       "version_minor": 0
      },
      "text/plain": [
       "HBox(children=(FloatProgress(value=0.0, max=275.0), HTML(value='')))"
      ]
     },
     "metadata": {},
     "output_type": "display_data"
    },
    {
     "name": "stdout",
     "output_type": "stream",
     "text": [
      "\n",
      "Train \t\t  0.0025\t   99.44%\t   88.98%\n",
      "Test \t\t  0.2200\t   99.06%\t   80.07%\n",
      "Epoch [380/500]\n"
     ]
    },
    {
     "data": {
      "application/vnd.jupyter.widget-view+json": {
       "model_id": "6d81600aa8a841c8ac68275ae48007d2",
       "version_major": 2,
       "version_minor": 0
      },
      "text/plain": [
       "HBox(children=(FloatProgress(value=0.0, max=275.0), HTML(value='')))"
      ]
     },
     "metadata": {},
     "output_type": "display_data"
    },
    {
     "name": "stdout",
     "output_type": "stream",
     "text": [
      "\n",
      "Train \t\t  0.0014\t   99.68%\t   93.40%\n",
      "Test \t\t  0.2315\t   99.16%\t   81.87%\n",
      "Epoch [381/500]\n"
     ]
    },
    {
     "data": {
      "application/vnd.jupyter.widget-view+json": {
       "model_id": "98e32dd7ad09432e8d73d07cf1999369",
       "version_major": 2,
       "version_minor": 0
      },
      "text/plain": [
       "HBox(children=(FloatProgress(value=0.0, max=275.0), HTML(value='')))"
      ]
     },
     "metadata": {},
     "output_type": "display_data"
    },
    {
     "name": "stdout",
     "output_type": "stream",
     "text": [
      "\n",
      "Train \t\t  0.0011\t   99.74%\t   94.61%\n",
      "Test \t\t  0.3193\t   99.39%\t   86.13%\n",
      "Epoch [382/500]\n"
     ]
    },
    {
     "data": {
      "application/vnd.jupyter.widget-view+json": {
       "model_id": "61ee41046b444297bebb0c6140d6fa7f",
       "version_major": 2,
       "version_minor": 0
      },
      "text/plain": [
       "HBox(children=(FloatProgress(value=0.0, max=275.0), HTML(value='')))"
      ]
     },
     "metadata": {},
     "output_type": "display_data"
    },
    {
     "name": "stdout",
     "output_type": "stream",
     "text": [
      "\n",
      "Train \t\t  0.0010\t   99.78%\t   95.38%\n",
      "Test \t\t  0.3563\t   99.43%\t   86.78%\n",
      "Epoch [383/500]\n"
     ]
    },
    {
     "data": {
      "application/vnd.jupyter.widget-view+json": {
       "model_id": "a0d32229369040fdafc6d151835805c5",
       "version_major": 2,
       "version_minor": 0
      },
      "text/plain": [
       "HBox(children=(FloatProgress(value=0.0, max=275.0), HTML(value='')))"
      ]
     },
     "metadata": {},
     "output_type": "display_data"
    },
    {
     "name": "stdout",
     "output_type": "stream",
     "text": [
      "\n",
      "Train \t\t  0.0010\t   99.79%\t   95.59%\n",
      "Test \t\t  0.3917\t   99.45%\t   87.25%\n",
      "Epoch [384/500]\n"
     ]
    },
    {
     "data": {
      "application/vnd.jupyter.widget-view+json": {
       "model_id": "717e9e15431e4bd9975b265418f36b85",
       "version_major": 2,
       "version_minor": 0
      },
      "text/plain": [
       "HBox(children=(FloatProgress(value=0.0, max=275.0), HTML(value='')))"
      ]
     },
     "metadata": {},
     "output_type": "display_data"
    },
    {
     "name": "stdout",
     "output_type": "stream",
     "text": [
      "\n",
      "Train \t\t  0.0010\t   99.79%\t   95.47%\n",
      "Test \t\t  0.3910\t   99.45%\t   87.15%\n",
      "Epoch [385/500]\n"
     ]
    },
    {
     "data": {
      "application/vnd.jupyter.widget-view+json": {
       "model_id": "44a83a42c11d47f79d3b70bfd9f82fba",
       "version_major": 2,
       "version_minor": 0
      },
      "text/plain": [
       "HBox(children=(FloatProgress(value=0.0, max=275.0), HTML(value='')))"
      ]
     },
     "metadata": {},
     "output_type": "display_data"
    },
    {
     "name": "stdout",
     "output_type": "stream",
     "text": [
      "\n",
      "Train \t\t  0.0012\t   99.75%\t   94.74%\n",
      "Test \t\t  0.3049\t   99.43%\t   86.92%\n",
      "Epoch [386/500]\n"
     ]
    },
    {
     "data": {
      "application/vnd.jupyter.widget-view+json": {
       "model_id": "b46f1f5003a94123bffe13ac72e53dda",
       "version_major": 2,
       "version_minor": 0
      },
      "text/plain": [
       "HBox(children=(FloatProgress(value=0.0, max=275.0), HTML(value='')))"
      ]
     },
     "metadata": {},
     "output_type": "display_data"
    },
    {
     "name": "stdout",
     "output_type": "stream",
     "text": [
      "\n",
      "Train \t\t  0.0011\t   99.76%\t   95.03%\n",
      "Test \t\t  0.3206\t   99.44%\t   87.03%\n",
      "Epoch [387/500]\n"
     ]
    },
    {
     "data": {
      "application/vnd.jupyter.widget-view+json": {
       "model_id": "992e86d7921c4ac6901125e41c991803",
       "version_major": 2,
       "version_minor": 0
      },
      "text/plain": [
       "HBox(children=(FloatProgress(value=0.0, max=275.0), HTML(value='')))"
      ]
     },
     "metadata": {},
     "output_type": "display_data"
    },
    {
     "name": "stdout",
     "output_type": "stream",
     "text": [
      "\n",
      "Train \t\t  0.0009\t   99.81%\t   96.00%\n",
      "Test \t\t  0.4114\t   99.52%\t   88.58%\n",
      "Epoch [388/500]\n"
     ]
    },
    {
     "data": {
      "application/vnd.jupyter.widget-view+json": {
       "model_id": "a27850a13e794f2999f470e464b09db9",
       "version_major": 2,
       "version_minor": 0
      },
      "text/plain": [
       "HBox(children=(FloatProgress(value=0.0, max=275.0), HTML(value='')))"
      ]
     },
     "metadata": {},
     "output_type": "display_data"
    },
    {
     "name": "stdout",
     "output_type": "stream",
     "text": [
      "\n",
      "Train \t\t  0.0018\t   99.80%\t   95.82%\n",
      "Test \t\t  0.2554\t   99.38%\t   86.03%\n",
      "Epoch [389/500]\n"
     ]
    },
    {
     "data": {
      "application/vnd.jupyter.widget-view+json": {
       "model_id": "ac8e2ab5a8344975a713d5dcd97f4eb7",
       "version_major": 2,
       "version_minor": 0
      },
      "text/plain": [
       "HBox(children=(FloatProgress(value=0.0, max=275.0), HTML(value='')))"
      ]
     },
     "metadata": {},
     "output_type": "display_data"
    },
    {
     "name": "stdout",
     "output_type": "stream",
     "text": [
      "\n",
      "Train \t\t  0.0030\t   99.37%\t   87.77%\n",
      "Test \t\t  0.1528\t   99.16%\t   81.89%\n",
      "Epoch [390/500]\n"
     ]
    },
    {
     "data": {
      "application/vnd.jupyter.widget-view+json": {
       "model_id": "7c941512e897411aba7dbd916c738a09",
       "version_major": 2,
       "version_minor": 0
      },
      "text/plain": [
       "HBox(children=(FloatProgress(value=0.0, max=275.0), HTML(value='')))"
      ]
     },
     "metadata": {},
     "output_type": "display_data"
    },
    {
     "name": "stdout",
     "output_type": "stream",
     "text": [
      "\n",
      "Train \t\t  0.0018\t   99.61%\t   92.04%\n",
      "Test \t\t  0.2183\t   99.28%\t   84.14%\n",
      "Epoch [391/500]\n"
     ]
    },
    {
     "data": {
      "application/vnd.jupyter.widget-view+json": {
       "model_id": "1cb09282d5804c12a8c3f73d9622ee5c",
       "version_major": 2,
       "version_minor": 0
      },
      "text/plain": [
       "HBox(children=(FloatProgress(value=0.0, max=275.0), HTML(value='')))"
      ]
     },
     "metadata": {},
     "output_type": "display_data"
    },
    {
     "name": "stdout",
     "output_type": "stream",
     "text": [
      "\n",
      "Train \t\t  0.0017\t   99.62%\t   92.14%\n",
      "Test \t\t  0.2124\t   99.31%\t   84.65%\n",
      "Epoch [392/500]\n"
     ]
    },
    {
     "data": {
      "application/vnd.jupyter.widget-view+json": {
       "model_id": "aa6bb9a0ed7940a6aec6ba17147628cd",
       "version_major": 2,
       "version_minor": 0
      },
      "text/plain": [
       "HBox(children=(FloatProgress(value=0.0, max=275.0), HTML(value='')))"
      ]
     },
     "metadata": {},
     "output_type": "display_data"
    },
    {
     "name": "stdout",
     "output_type": "stream",
     "text": [
      "\n",
      "Train \t\t  0.0014\t   99.70%\t   93.80%\n",
      "Test \t\t  0.2061\t   99.35%\t   85.25%\n",
      "Epoch [393/500]\n"
     ]
    },
    {
     "data": {
      "application/vnd.jupyter.widget-view+json": {
       "model_id": "dd45383df29840f7bb2963c3379c9ed5",
       "version_major": 2,
       "version_minor": 0
      },
      "text/plain": [
       "HBox(children=(FloatProgress(value=0.0, max=275.0), HTML(value='')))"
      ]
     },
     "metadata": {},
     "output_type": "display_data"
    },
    {
     "name": "stdout",
     "output_type": "stream",
     "text": [
      "\n",
      "Train \t\t  0.0010\t   99.77%\t   95.20%\n",
      "Test \t\t  0.2535\t   99.45%\t   87.27%\n",
      "Epoch [394/500]\n"
     ]
    },
    {
     "data": {
      "application/vnd.jupyter.widget-view+json": {
       "model_id": "a0ff5c2694a94a22affd28b08688ba58",
       "version_major": 2,
       "version_minor": 0
      },
      "text/plain": [
       "HBox(children=(FloatProgress(value=0.0, max=275.0), HTML(value='')))"
      ]
     },
     "metadata": {},
     "output_type": "display_data"
    },
    {
     "name": "stdout",
     "output_type": "stream",
     "text": [
      "\n",
      "Train \t\t  0.0009\t   99.80%\t   95.73%\n",
      "Test \t\t  0.2683\t   99.50%\t   88.26%\n",
      "Epoch [395/500]\n"
     ]
    },
    {
     "data": {
      "application/vnd.jupyter.widget-view+json": {
       "model_id": "fc9aea5518a349a6a088d66b92c05fd8",
       "version_major": 2,
       "version_minor": 0
      },
      "text/plain": [
       "HBox(children=(FloatProgress(value=0.0, max=275.0), HTML(value='')))"
      ]
     },
     "metadata": {},
     "output_type": "display_data"
    },
    {
     "name": "stdout",
     "output_type": "stream",
     "text": [
      "\n",
      "Train \t\t  0.0009\t   99.80%\t   95.83%\n",
      "Test \t\t  0.3444\t   99.52%\t   88.61%\n",
      "Epoch [396/500]\n"
     ]
    },
    {
     "data": {
      "application/vnd.jupyter.widget-view+json": {
       "model_id": "263b04c944fb43f5aca5b72692f3a815",
       "version_major": 2,
       "version_minor": 0
      },
      "text/plain": [
       "HBox(children=(FloatProgress(value=0.0, max=275.0), HTML(value='')))"
      ]
     },
     "metadata": {},
     "output_type": "display_data"
    },
    {
     "name": "stdout",
     "output_type": "stream",
     "text": [
      "\n",
      "Train \t\t  0.0009\t   99.81%\t   95.89%\n",
      "Test \t\t  0.3285\t   99.51%\t   88.37%\n",
      "Epoch [397/500]\n"
     ]
    },
    {
     "data": {
      "application/vnd.jupyter.widget-view+json": {
       "model_id": "dbbaf9e86d6f4ef1b4669dd530582780",
       "version_major": 2,
       "version_minor": 0
      },
      "text/plain": [
       "HBox(children=(FloatProgress(value=0.0, max=275.0), HTML(value='')))"
      ]
     },
     "metadata": {},
     "output_type": "display_data"
    },
    {
     "name": "stdout",
     "output_type": "stream",
     "text": [
      "\n",
      "Train \t\t  0.0009\t   99.82%\t   96.12%\n",
      "Test \t\t  0.3371\t   99.53%\t   88.96%\n",
      "Epoch [398/500]\n"
     ]
    },
    {
     "data": {
      "application/vnd.jupyter.widget-view+json": {
       "model_id": "2c53dc83ab7642d2921dd702c72a86b1",
       "version_major": 2,
       "version_minor": 0
      },
      "text/plain": [
       "HBox(children=(FloatProgress(value=0.0, max=275.0), HTML(value='')))"
      ]
     },
     "metadata": {},
     "output_type": "display_data"
    },
    {
     "name": "stdout",
     "output_type": "stream",
     "text": [
      "\n",
      "Train \t\t  0.0009\t   99.83%\t   96.28%\n",
      "Test \t\t  0.3787\t   99.55%\t   89.20%\n",
      "Epoch [399/500]\n"
     ]
    },
    {
     "data": {
      "application/vnd.jupyter.widget-view+json": {
       "model_id": "6f496d3178a64ca88938206567a37de6",
       "version_major": 2,
       "version_minor": 0
      },
      "text/plain": [
       "HBox(children=(FloatProgress(value=0.0, max=275.0), HTML(value='')))"
      ]
     },
     "metadata": {},
     "output_type": "display_data"
    },
    {
     "name": "stdout",
     "output_type": "stream",
     "text": [
      "\n",
      "Train \t\t  0.0009\t   99.83%\t   96.33%\n",
      "Test \t\t  0.3900\t   99.55%\t   89.27%\n",
      "Epoch [400/500]\n"
     ]
    },
    {
     "data": {
      "application/vnd.jupyter.widget-view+json": {
       "model_id": "537fa56fac894969a5acfb9d390cdfb6",
       "version_major": 2,
       "version_minor": 0
      },
      "text/plain": [
       "HBox(children=(FloatProgress(value=0.0, max=275.0), HTML(value='')))"
      ]
     },
     "metadata": {},
     "output_type": "display_data"
    },
    {
     "name": "stdout",
     "output_type": "stream",
     "text": [
      "\n",
      "Train \t\t  0.0009\t   99.81%\t   96.02%\n",
      "Test \t\t  0.3989\t   99.52%\t   88.60%\n",
      "Epoch [401/500]\n"
     ]
    },
    {
     "data": {
      "application/vnd.jupyter.widget-view+json": {
       "model_id": "9e1a6158223b4109ae948dbc4aa181b1",
       "version_major": 2,
       "version_minor": 0
      },
      "text/plain": [
       "HBox(children=(FloatProgress(value=0.0, max=275.0), HTML(value='')))"
      ]
     },
     "metadata": {},
     "output_type": "display_data"
    },
    {
     "name": "stdout",
     "output_type": "stream",
     "text": [
      "\n",
      "Train \t\t  0.0009\t   99.83%\t   96.29%\n",
      "Test \t\t  0.4478\t   99.54%\t   89.03%\n",
      "Epoch [402/500]\n"
     ]
    },
    {
     "data": {
      "application/vnd.jupyter.widget-view+json": {
       "model_id": "8712e0dd70144a7db45f341dbda0edb1",
       "version_major": 2,
       "version_minor": 0
      },
      "text/plain": [
       "HBox(children=(FloatProgress(value=0.0, max=275.0), HTML(value='')))"
      ]
     },
     "metadata": {},
     "output_type": "display_data"
    },
    {
     "name": "stdout",
     "output_type": "stream",
     "text": [
      "\n",
      "Train \t\t  0.0008\t   99.83%\t   96.26%\n",
      "Test \t\t  0.4392\t   99.56%\t   89.51%\n",
      "Epoch [403/500]\n"
     ]
    },
    {
     "data": {
      "application/vnd.jupyter.widget-view+json": {
       "model_id": "84b2237a01204a61a185bffd50be4074",
       "version_major": 2,
       "version_minor": 0
      },
      "text/plain": [
       "HBox(children=(FloatProgress(value=0.0, max=275.0), HTML(value='')))"
      ]
     },
     "metadata": {},
     "output_type": "display_data"
    },
    {
     "name": "stdout",
     "output_type": "stream",
     "text": [
      "\n",
      "Train \t\t  0.0010\t   99.80%\t   95.65%\n",
      "Test \t\t  0.3365\t   99.27%\t   83.81%\n",
      "Epoch [404/500]\n"
     ]
    },
    {
     "data": {
      "application/vnd.jupyter.widget-view+json": {
       "model_id": "2ddb462247ba412ab5498d26429e6654",
       "version_major": 2,
       "version_minor": 0
      },
      "text/plain": [
       "HBox(children=(FloatProgress(value=0.0, max=275.0), HTML(value='')))"
      ]
     },
     "metadata": {},
     "output_type": "display_data"
    },
    {
     "name": "stdout",
     "output_type": "stream",
     "text": [
      "\n",
      "Train \t\t  0.0010\t   99.79%\t   95.47%\n",
      "Test \t\t  0.4015\t   99.53%\t   88.83%\n",
      "Epoch [405/500]\n"
     ]
    },
    {
     "data": {
      "application/vnd.jupyter.widget-view+json": {
       "model_id": "eacc9470f39448c68e7e1beffb6d2b2e",
       "version_major": 2,
       "version_minor": 0
      },
      "text/plain": [
       "HBox(children=(FloatProgress(value=0.0, max=275.0), HTML(value='')))"
      ]
     },
     "metadata": {},
     "output_type": "display_data"
    },
    {
     "name": "stdout",
     "output_type": "stream",
     "text": [
      "\n",
      "Train \t\t  0.0010\t   99.81%\t   96.02%\n",
      "Test \t\t  0.4151\t   99.43%\t   86.79%\n",
      "Epoch [406/500]\n"
     ]
    },
    {
     "data": {
      "application/vnd.jupyter.widget-view+json": {
       "model_id": "72360a6bd1de4c169fac23e93d605d5e",
       "version_major": 2,
       "version_minor": 0
      },
      "text/plain": [
       "HBox(children=(FloatProgress(value=0.0, max=275.0), HTML(value='')))"
      ]
     },
     "metadata": {},
     "output_type": "display_data"
    },
    {
     "name": "stdout",
     "output_type": "stream",
     "text": [
      "\n",
      "Train \t\t  0.0015\t   99.66%\t   93.00%\n",
      "Test \t\t  0.3769\t   99.29%\t   84.18%\n",
      "Epoch [407/500]\n"
     ]
    },
    {
     "data": {
      "application/vnd.jupyter.widget-view+json": {
       "model_id": "60620724654c4ac3b2fca1ab7eb92718",
       "version_major": 2,
       "version_minor": 0
      },
      "text/plain": [
       "HBox(children=(FloatProgress(value=0.0, max=275.0), HTML(value='')))"
      ]
     },
     "metadata": {},
     "output_type": "display_data"
    },
    {
     "name": "stdout",
     "output_type": "stream",
     "text": [
      "\n",
      "Train \t\t  0.0010\t   99.79%\t   95.56%\n",
      "Test \t\t  0.4161\t   99.47%\t   87.55%\n",
      "Epoch [408/500]\n"
     ]
    },
    {
     "data": {
      "application/vnd.jupyter.widget-view+json": {
       "model_id": "a8296989c9d542f6b01865db35dfc17b",
       "version_major": 2,
       "version_minor": 0
      },
      "text/plain": [
       "HBox(children=(FloatProgress(value=0.0, max=275.0), HTML(value='')))"
      ]
     },
     "metadata": {},
     "output_type": "display_data"
    },
    {
     "name": "stdout",
     "output_type": "stream",
     "text": [
      "\n",
      "Train \t\t  0.0009\t   99.81%\t   96.04%\n",
      "Test \t\t  0.4233\t   99.52%\t   88.71%\n",
      "Epoch [409/500]\n"
     ]
    },
    {
     "data": {
      "application/vnd.jupyter.widget-view+json": {
       "model_id": "9f7efcd883ec440391daa553fb22bc34",
       "version_major": 2,
       "version_minor": 0
      },
      "text/plain": [
       "HBox(children=(FloatProgress(value=0.0, max=275.0), HTML(value='')))"
      ]
     },
     "metadata": {},
     "output_type": "display_data"
    },
    {
     "name": "stdout",
     "output_type": "stream",
     "text": [
      "\n",
      "Train \t\t  0.0008\t   99.82%\t   96.22%\n",
      "Test \t\t  0.4402\t   99.49%\t   88.03%\n",
      "Epoch [410/500]\n"
     ]
    },
    {
     "data": {
      "application/vnd.jupyter.widget-view+json": {
       "model_id": "a036970839eb4448b9dfb3938bd78258",
       "version_major": 2,
       "version_minor": 0
      },
      "text/plain": [
       "HBox(children=(FloatProgress(value=0.0, max=275.0), HTML(value='')))"
      ]
     },
     "metadata": {},
     "output_type": "display_data"
    },
    {
     "name": "stdout",
     "output_type": "stream",
     "text": [
      "\n",
      "Train \t\t  0.0009\t   99.82%\t   96.22%\n",
      "Test \t\t  0.4111\t   99.51%\t   88.46%\n",
      "Epoch [411/500]\n"
     ]
    },
    {
     "data": {
      "application/vnd.jupyter.widget-view+json": {
       "model_id": "a5ef3b1e29ce4c2c85a602f87da3d463",
       "version_major": 2,
       "version_minor": 0
      },
      "text/plain": [
       "HBox(children=(FloatProgress(value=0.0, max=275.0), HTML(value='')))"
      ]
     },
     "metadata": {},
     "output_type": "display_data"
    },
    {
     "name": "stdout",
     "output_type": "stream",
     "text": [
      "\n",
      "Train \t\t  0.0009\t   99.82%\t   96.11%\n",
      "Test \t\t  0.4485\t   99.45%\t   87.20%\n",
      "Epoch [412/500]\n"
     ]
    },
    {
     "data": {
      "application/vnd.jupyter.widget-view+json": {
       "model_id": "94eb9a86226b44fb932e26e96c217a40",
       "version_major": 2,
       "version_minor": 0
      },
      "text/plain": [
       "HBox(children=(FloatProgress(value=0.0, max=275.0), HTML(value='')))"
      ]
     },
     "metadata": {},
     "output_type": "display_data"
    },
    {
     "name": "stdout",
     "output_type": "stream",
     "text": [
      "\n",
      "Train \t\t  0.0009\t   99.82%\t   96.22%\n",
      "Test \t\t  0.3932\t   99.43%\t   86.93%\n",
      "Epoch [413/500]\n"
     ]
    },
    {
     "data": {
      "application/vnd.jupyter.widget-view+json": {
       "model_id": "a0552ea2fceb47608fde5cc9fc9ea4dd",
       "version_major": 2,
       "version_minor": 0
      },
      "text/plain": [
       "HBox(children=(FloatProgress(value=0.0, max=275.0), HTML(value='')))"
      ]
     },
     "metadata": {},
     "output_type": "display_data"
    },
    {
     "name": "stdout",
     "output_type": "stream",
     "text": [
      "\n",
      "Train \t\t  0.0009\t   99.82%\t   96.20%\n",
      "Test \t\t  0.3743\t   99.45%\t   87.28%\n",
      "Epoch [414/500]\n"
     ]
    },
    {
     "data": {
      "application/vnd.jupyter.widget-view+json": {
       "model_id": "7c7b426a22374181bd733bea6c09838d",
       "version_major": 2,
       "version_minor": 0
      },
      "text/plain": [
       "HBox(children=(FloatProgress(value=0.0, max=275.0), HTML(value='')))"
      ]
     },
     "metadata": {},
     "output_type": "display_data"
    },
    {
     "name": "stdout",
     "output_type": "stream",
     "text": [
      "\n",
      "Train \t\t  0.0012\t   99.74%\t   94.62%\n",
      "Test \t\t  0.4371\t   99.46%\t   87.31%\n",
      "Epoch [415/500]\n"
     ]
    },
    {
     "data": {
      "application/vnd.jupyter.widget-view+json": {
       "model_id": "9442a37d9728497383e3b5039a9d18cc",
       "version_major": 2,
       "version_minor": 0
      },
      "text/plain": [
       "HBox(children=(FloatProgress(value=0.0, max=275.0), HTML(value='')))"
      ]
     },
     "metadata": {},
     "output_type": "display_data"
    },
    {
     "name": "stdout",
     "output_type": "stream",
     "text": [
      "\n",
      "Train \t\t  0.0009\t   99.82%\t   96.24%\n",
      "Test \t\t  0.4271\t   99.51%\t   88.43%\n",
      "Epoch [416/500]\n"
     ]
    },
    {
     "data": {
      "application/vnd.jupyter.widget-view+json": {
       "model_id": "3a62be546c6748cfa70d633c885940ed",
       "version_major": 2,
       "version_minor": 0
      },
      "text/plain": [
       "HBox(children=(FloatProgress(value=0.0, max=275.0), HTML(value='')))"
      ]
     },
     "metadata": {},
     "output_type": "display_data"
    },
    {
     "name": "stdout",
     "output_type": "stream",
     "text": [
      "\n",
      "Train \t\t  0.0008\t   99.84%\t   96.57%\n",
      "Test \t\t  0.4986\t   99.53%\t   88.71%\n",
      "Epoch [417/500]\n"
     ]
    },
    {
     "data": {
      "application/vnd.jupyter.widget-view+json": {
       "model_id": "05f0075f2ea143e185c4f050eedaecf9",
       "version_major": 2,
       "version_minor": 0
      },
      "text/plain": [
       "HBox(children=(FloatProgress(value=0.0, max=275.0), HTML(value='')))"
      ]
     },
     "metadata": {},
     "output_type": "display_data"
    },
    {
     "name": "stdout",
     "output_type": "stream",
     "text": [
      "\n",
      "Train \t\t  0.0011\t   99.78%\t   95.26%\n",
      "Test \t\t  0.3755\t   99.35%\t   85.25%\n",
      "Epoch [418/500]\n"
     ]
    },
    {
     "data": {
      "application/vnd.jupyter.widget-view+json": {
       "model_id": "e3b4971df93e4cc0bf7fd574d60edcd9",
       "version_major": 2,
       "version_minor": 0
      },
      "text/plain": [
       "HBox(children=(FloatProgress(value=0.0, max=275.0), HTML(value='')))"
      ]
     },
     "metadata": {},
     "output_type": "display_data"
    },
    {
     "name": "stdout",
     "output_type": "stream",
     "text": [
      "\n",
      "Train \t\t  0.0010\t   99.80%\t   95.65%\n",
      "Test \t\t  0.4733\t   99.48%\t   87.87%\n",
      "Epoch [419/500]\n"
     ]
    },
    {
     "data": {
      "application/vnd.jupyter.widget-view+json": {
       "model_id": "aa612646241a43dd9f7090b6829cb456",
       "version_major": 2,
       "version_minor": 0
      },
      "text/plain": [
       "HBox(children=(FloatProgress(value=0.0, max=275.0), HTML(value='')))"
      ]
     },
     "metadata": {},
     "output_type": "display_data"
    },
    {
     "name": "stdout",
     "output_type": "stream",
     "text": [
      "\n",
      "Train \t\t  0.0009\t   99.82%\t   96.25%\n",
      "Test \t\t  0.4789\t   99.52%\t   88.62%\n",
      "Epoch [420/500]\n"
     ]
    },
    {
     "data": {
      "application/vnd.jupyter.widget-view+json": {
       "model_id": "48cff73e21b04af684c939e7adb3136f",
       "version_major": 2,
       "version_minor": 0
      },
      "text/plain": [
       "HBox(children=(FloatProgress(value=0.0, max=275.0), HTML(value='')))"
      ]
     },
     "metadata": {},
     "output_type": "display_data"
    },
    {
     "name": "stdout",
     "output_type": "stream",
     "text": [
      "\n",
      "Train \t\t  0.0012\t   99.82%\t   96.10%\n",
      "Test \t\t  0.4245\t   99.49%\t   88.08%\n",
      "Epoch [421/500]\n"
     ]
    },
    {
     "data": {
      "application/vnd.jupyter.widget-view+json": {
       "model_id": "44eb2e9e7e6541c38dc625688b401543",
       "version_major": 2,
       "version_minor": 0
      },
      "text/plain": [
       "HBox(children=(FloatProgress(value=0.0, max=275.0), HTML(value='')))"
      ]
     },
     "metadata": {},
     "output_type": "display_data"
    },
    {
     "name": "stdout",
     "output_type": "stream",
     "text": [
      "\n",
      "Train \t\t  0.0049\t   99.29%\t   86.33%\n",
      "Test \t\t  0.1634\t   98.97%\t   78.67%\n",
      "Epoch [422/500]\n"
     ]
    },
    {
     "data": {
      "application/vnd.jupyter.widget-view+json": {
       "model_id": "8586031d4ec74396ada4e6f95d4c60c1",
       "version_major": 2,
       "version_minor": 0
      },
      "text/plain": [
       "HBox(children=(FloatProgress(value=0.0, max=275.0), HTML(value='')))"
      ]
     },
     "metadata": {},
     "output_type": "display_data"
    },
    {
     "name": "stdout",
     "output_type": "stream",
     "text": [
      "\n",
      "Train \t\t  0.0015\t   99.69%\t   93.53%\n",
      "Test \t\t  0.2948\t   99.29%\t   84.05%\n",
      "Epoch [423/500]\n"
     ]
    },
    {
     "data": {
      "application/vnd.jupyter.widget-view+json": {
       "model_id": "1776c99c75a74302ac8f6ea26a1ee16a",
       "version_major": 2,
       "version_minor": 0
      },
      "text/plain": [
       "HBox(children=(FloatProgress(value=0.0, max=275.0), HTML(value='')))"
      ]
     },
     "metadata": {},
     "output_type": "display_data"
    },
    {
     "name": "stdout",
     "output_type": "stream",
     "text": [
      "\n",
      "Train \t\t  0.0011\t   99.75%\t   94.83%\n",
      "Test \t\t  0.2788\t   99.31%\t   84.45%\n",
      "Epoch [424/500]\n"
     ]
    },
    {
     "data": {
      "application/vnd.jupyter.widget-view+json": {
       "model_id": "a21233a633894430a2376bcf5869a438",
       "version_major": 2,
       "version_minor": 0
      },
      "text/plain": [
       "HBox(children=(FloatProgress(value=0.0, max=275.0), HTML(value='')))"
      ]
     },
     "metadata": {},
     "output_type": "display_data"
    },
    {
     "name": "stdout",
     "output_type": "stream",
     "text": [
      "\n",
      "Train \t\t  0.0026\t   99.79%\t   95.59%\n",
      "Test \t\t  0.3465\t   99.30%\t   84.17%\n",
      "Epoch [425/500]\n"
     ]
    },
    {
     "data": {
      "application/vnd.jupyter.widget-view+json": {
       "model_id": "1f51910adf4044218bafaa198fec70a1",
       "version_major": 2,
       "version_minor": 0
      },
      "text/plain": [
       "HBox(children=(FloatProgress(value=0.0, max=275.0), HTML(value='')))"
      ]
     },
     "metadata": {},
     "output_type": "display_data"
    },
    {
     "name": "stdout",
     "output_type": "stream",
     "text": [
      "\n",
      "Train \t\t  0.0024\t   99.55%\t   90.99%\n",
      "Test \t\t  0.1464\t   98.19%\t   67.84%\n",
      "Epoch [426/500]\n"
     ]
    },
    {
     "data": {
      "application/vnd.jupyter.widget-view+json": {
       "model_id": "a2f7a7c500054f2d9d530d83954f376c",
       "version_major": 2,
       "version_minor": 0
      },
      "text/plain": [
       "HBox(children=(FloatProgress(value=0.0, max=275.0), HTML(value='')))"
      ]
     },
     "metadata": {},
     "output_type": "display_data"
    },
    {
     "name": "stdout",
     "output_type": "stream",
     "text": [
      "\n",
      "Train \t\t  0.0012\t   99.74%\t   94.63%\n",
      "Test \t\t  0.1487\t   98.70%\t   74.67%\n",
      "Epoch [427/500]\n"
     ]
    },
    {
     "data": {
      "application/vnd.jupyter.widget-view+json": {
       "model_id": "de4a879ab2694f1fa0c1f4948c270068",
       "version_major": 2,
       "version_minor": 0
      },
      "text/plain": [
       "HBox(children=(FloatProgress(value=0.0, max=275.0), HTML(value='')))"
      ]
     },
     "metadata": {},
     "output_type": "display_data"
    },
    {
     "name": "stdout",
     "output_type": "stream",
     "text": [
      "\n",
      "Train \t\t  0.0010\t   99.78%\t   95.36%\n",
      "Test \t\t  0.1773\t   98.71%\t   74.75%\n",
      "Epoch [428/500]\n"
     ]
    },
    {
     "data": {
      "application/vnd.jupyter.widget-view+json": {
       "model_id": "78ea75c79209466ea591eb30a6c060ef",
       "version_major": 2,
       "version_minor": 0
      },
      "text/plain": [
       "HBox(children=(FloatProgress(value=0.0, max=275.0), HTML(value='')))"
      ]
     },
     "metadata": {},
     "output_type": "display_data"
    },
    {
     "name": "stdout",
     "output_type": "stream",
     "text": [
      "\n",
      "Train \t\t  0.0009\t   99.81%\t   95.85%\n",
      "Test \t\t  0.1937\t   98.93%\t   78.07%\n",
      "Epoch [429/500]\n"
     ]
    },
    {
     "data": {
      "application/vnd.jupyter.widget-view+json": {
       "model_id": "5b93e42e84cc449ea19c0619fb1aa23f",
       "version_major": 2,
       "version_minor": 0
      },
      "text/plain": [
       "HBox(children=(FloatProgress(value=0.0, max=275.0), HTML(value='')))"
      ]
     },
     "metadata": {},
     "output_type": "display_data"
    },
    {
     "name": "stdout",
     "output_type": "stream",
     "text": [
      "\n",
      "Train \t\t  0.0009\t   99.82%\t   96.10%\n",
      "Test \t\t  0.2167\t   99.33%\t   85.02%\n",
      "Epoch [430/500]\n"
     ]
    },
    {
     "data": {
      "application/vnd.jupyter.widget-view+json": {
       "model_id": "5f6732a655e047e097caf4911b7fbad6",
       "version_major": 2,
       "version_minor": 0
      },
      "text/plain": [
       "HBox(children=(FloatProgress(value=0.0, max=275.0), HTML(value='')))"
      ]
     },
     "metadata": {},
     "output_type": "display_data"
    },
    {
     "name": "stdout",
     "output_type": "stream",
     "text": [
      "\n",
      "Train \t\t  0.0008\t   99.83%\t   96.38%\n",
      "Test \t\t  0.2393\t   98.63%\t   73.52%\n",
      "Epoch [431/500]\n"
     ]
    },
    {
     "data": {
      "application/vnd.jupyter.widget-view+json": {
       "model_id": "685c0bf14f984086aef9062dd71ea4ac",
       "version_major": 2,
       "version_minor": 0
      },
      "text/plain": [
       "HBox(children=(FloatProgress(value=0.0, max=275.0), HTML(value='')))"
      ]
     },
     "metadata": {},
     "output_type": "display_data"
    },
    {
     "name": "stdout",
     "output_type": "stream",
     "text": [
      "\n",
      "Train \t\t  0.0008\t   99.84%\t   96.59%\n",
      "Test \t\t  0.2444\t   99.42%\t   86.67%\n",
      "Epoch [432/500]\n"
     ]
    },
    {
     "data": {
      "application/vnd.jupyter.widget-view+json": {
       "model_id": "00c2a45155f649b8822e7844b6ae445f",
       "version_major": 2,
       "version_minor": 0
      },
      "text/plain": [
       "HBox(children=(FloatProgress(value=0.0, max=275.0), HTML(value='')))"
      ]
     },
     "metadata": {},
     "output_type": "display_data"
    },
    {
     "name": "stdout",
     "output_type": "stream",
     "text": [
      "\n",
      "Train \t\t  0.0008\t   99.84%\t   96.62%\n",
      "Test \t\t  0.2552\t   98.93%\t   78.00%\n",
      "Epoch [433/500]\n"
     ]
    },
    {
     "data": {
      "application/vnd.jupyter.widget-view+json": {
       "model_id": "82e545189eee4e11a07b459fe24c40b0",
       "version_major": 2,
       "version_minor": 0
      },
      "text/plain": [
       "HBox(children=(FloatProgress(value=0.0, max=275.0), HTML(value='')))"
      ]
     },
     "metadata": {},
     "output_type": "display_data"
    },
    {
     "name": "stdout",
     "output_type": "stream",
     "text": [
      "\n",
      "Train \t\t  0.0008\t   99.84%\t   96.61%\n",
      "Test \t\t  0.2725\t   99.53%\t   88.90%\n",
      "Epoch [434/500]\n"
     ]
    },
    {
     "data": {
      "application/vnd.jupyter.widget-view+json": {
       "model_id": "18d0b64bf2a84dd3a382f465c2bdac43",
       "version_major": 2,
       "version_minor": 0
      },
      "text/plain": [
       "HBox(children=(FloatProgress(value=0.0, max=275.0), HTML(value='')))"
      ]
     },
     "metadata": {},
     "output_type": "display_data"
    },
    {
     "name": "stdout",
     "output_type": "stream",
     "text": [
      "\n",
      "Train \t\t  0.0008\t   99.85%\t   96.76%\n",
      "Test \t\t  0.3010\t   99.56%\t   89.44%\n",
      "Epoch [435/500]\n"
     ]
    },
    {
     "data": {
      "application/vnd.jupyter.widget-view+json": {
       "model_id": "cf299ff6091341cbae766d3b042311fb",
       "version_major": 2,
       "version_minor": 0
      },
      "text/plain": [
       "HBox(children=(FloatProgress(value=0.0, max=275.0), HTML(value='')))"
      ]
     },
     "metadata": {},
     "output_type": "display_data"
    },
    {
     "name": "stdout",
     "output_type": "stream",
     "text": [
      "\n",
      "Train \t\t  0.0007\t   99.86%\t   96.92%\n",
      "Test \t\t  0.2815\t   99.54%\t   89.09%\n",
      "Epoch [436/500]\n"
     ]
    },
    {
     "data": {
      "application/vnd.jupyter.widget-view+json": {
       "model_id": "b9dc5d707eb347bcb248a641207712cf",
       "version_major": 2,
       "version_minor": 0
      },
      "text/plain": [
       "HBox(children=(FloatProgress(value=0.0, max=275.0), HTML(value='')))"
      ]
     },
     "metadata": {},
     "output_type": "display_data"
    },
    {
     "name": "stdout",
     "output_type": "stream",
     "text": [
      "\n",
      "Train \t\t  0.0008\t   99.84%\t   96.65%\n",
      "Test \t\t  0.3041\t   99.51%\t   88.47%\n",
      "Epoch [437/500]\n"
     ]
    },
    {
     "data": {
      "application/vnd.jupyter.widget-view+json": {
       "model_id": "d1ed5b1078bc479588d28a50d068b417",
       "version_major": 2,
       "version_minor": 0
      },
      "text/plain": [
       "HBox(children=(FloatProgress(value=0.0, max=275.0), HTML(value='')))"
      ]
     },
     "metadata": {},
     "output_type": "display_data"
    },
    {
     "name": "stdout",
     "output_type": "stream",
     "text": [
      "\n",
      "Train \t\t  0.0007\t   99.85%\t   96.76%\n",
      "Test \t\t  0.3453\t   99.57%\t   89.77%\n",
      "Epoch [438/500]\n"
     ]
    },
    {
     "data": {
      "application/vnd.jupyter.widget-view+json": {
       "model_id": "c699f100d1354d4f8e14c2c359fbda2e",
       "version_major": 2,
       "version_minor": 0
      },
      "text/plain": [
       "HBox(children=(FloatProgress(value=0.0, max=275.0), HTML(value='')))"
      ]
     },
     "metadata": {},
     "output_type": "display_data"
    },
    {
     "name": "stdout",
     "output_type": "stream",
     "text": [
      "\n",
      "Train \t\t  0.0008\t   99.83%\t   96.44%\n",
      "Test \t\t  0.2756\t   99.46%\t   87.58%\n",
      "Epoch [439/500]\n"
     ]
    },
    {
     "data": {
      "application/vnd.jupyter.widget-view+json": {
       "model_id": "c276d6666f0048a1aad63588b3706ed1",
       "version_major": 2,
       "version_minor": 0
      },
      "text/plain": [
       "HBox(children=(FloatProgress(value=0.0, max=275.0), HTML(value='')))"
      ]
     },
     "metadata": {},
     "output_type": "display_data"
    },
    {
     "name": "stdout",
     "output_type": "stream",
     "text": [
      "\n",
      "Train \t\t  0.0008\t   99.84%\t   96.55%\n",
      "Test \t\t  0.3197\t   99.55%\t   89.24%\n",
      "Epoch [440/500]\n"
     ]
    },
    {
     "data": {
      "application/vnd.jupyter.widget-view+json": {
       "model_id": "158fe1582ec14bd6bec0ed9dbd745015",
       "version_major": 2,
       "version_minor": 0
      },
      "text/plain": [
       "HBox(children=(FloatProgress(value=0.0, max=275.0), HTML(value='')))"
      ]
     },
     "metadata": {},
     "output_type": "display_data"
    },
    {
     "name": "stdout",
     "output_type": "stream",
     "text": [
      "\n",
      "Train \t\t  0.0007\t   99.86%\t   96.95%\n",
      "Test \t\t  0.3525\t   99.55%\t   89.28%\n",
      "Epoch [441/500]\n"
     ]
    },
    {
     "data": {
      "application/vnd.jupyter.widget-view+json": {
       "model_id": "6ba3684c72cc4e0a8da9c5cb9c2fe247",
       "version_major": 2,
       "version_minor": 0
      },
      "text/plain": [
       "HBox(children=(FloatProgress(value=0.0, max=275.0), HTML(value='')))"
      ]
     },
     "metadata": {},
     "output_type": "display_data"
    },
    {
     "name": "stdout",
     "output_type": "stream",
     "text": [
      "\n",
      "Train \t\t  0.0007\t   99.86%\t   96.97%\n",
      "Test \t\t  0.3614\t   99.59%\t   90.06%\n",
      "Epoch [442/500]\n"
     ]
    },
    {
     "data": {
      "application/vnd.jupyter.widget-view+json": {
       "model_id": "b11b059961b14a61ba5fae9a24f596cc",
       "version_major": 2,
       "version_minor": 0
      },
      "text/plain": [
       "HBox(children=(FloatProgress(value=0.0, max=275.0), HTML(value='')))"
      ]
     },
     "metadata": {},
     "output_type": "display_data"
    },
    {
     "name": "stdout",
     "output_type": "stream",
     "text": [
      "\n",
      "Train \t\t  0.0007\t   99.86%\t   96.93%\n",
      "Test \t\t  0.3582\t   99.55%\t   89.22%\n",
      "Epoch [443/500]\n"
     ]
    },
    {
     "data": {
      "application/vnd.jupyter.widget-view+json": {
       "model_id": "07469ba06dcf42559af4548b231c3c3b",
       "version_major": 2,
       "version_minor": 0
      },
      "text/plain": [
       "HBox(children=(FloatProgress(value=0.0, max=275.0), HTML(value='')))"
      ]
     },
     "metadata": {},
     "output_type": "display_data"
    },
    {
     "name": "stdout",
     "output_type": "stream",
     "text": [
      "\n",
      "Train \t\t  0.0008\t   99.84%\t   96.51%\n",
      "Test \t\t  0.3393\t   99.56%\t   89.49%\n",
      "Epoch [444/500]\n"
     ]
    },
    {
     "data": {
      "application/vnd.jupyter.widget-view+json": {
       "model_id": "28eac481aea846bfbaf80645ac089be1",
       "version_major": 2,
       "version_minor": 0
      },
      "text/plain": [
       "HBox(children=(FloatProgress(value=0.0, max=275.0), HTML(value='')))"
      ]
     },
     "metadata": {},
     "output_type": "display_data"
    },
    {
     "name": "stdout",
     "output_type": "stream",
     "text": [
      "\n",
      "Train \t\t  0.0011\t   99.80%\t   95.74%\n",
      "Test \t\t  0.2505\t   99.26%\t   83.76%\n",
      "Epoch [445/500]\n"
     ]
    },
    {
     "data": {
      "application/vnd.jupyter.widget-view+json": {
       "model_id": "90cd2cfd67834528acad68fd0b95d7f1",
       "version_major": 2,
       "version_minor": 0
      },
      "text/plain": [
       "HBox(children=(FloatProgress(value=0.0, max=275.0), HTML(value='')))"
      ]
     },
     "metadata": {},
     "output_type": "display_data"
    },
    {
     "name": "stdout",
     "output_type": "stream",
     "text": [
      "\n",
      "Train \t\t  0.0010\t   99.79%\t   95.62%\n",
      "Test \t\t  0.3367\t   99.48%\t   87.94%\n",
      "Epoch [446/500]\n"
     ]
    },
    {
     "data": {
      "application/vnd.jupyter.widget-view+json": {
       "model_id": "d5555ae288674a2592d574f53e3c673f",
       "version_major": 2,
       "version_minor": 0
      },
      "text/plain": [
       "HBox(children=(FloatProgress(value=0.0, max=275.0), HTML(value='')))"
      ]
     },
     "metadata": {},
     "output_type": "display_data"
    },
    {
     "name": "stdout",
     "output_type": "stream",
     "text": [
      "\n",
      "Train \t\t  0.0010\t   99.81%\t   95.95%\n",
      "Test \t\t  0.3566\t   99.48%\t   87.80%\n",
      "Epoch [447/500]\n"
     ]
    },
    {
     "data": {
      "application/vnd.jupyter.widget-view+json": {
       "model_id": "a941576ff461424997db136d4d719b82",
       "version_major": 2,
       "version_minor": 0
      },
      "text/plain": [
       "HBox(children=(FloatProgress(value=0.0, max=275.0), HTML(value='')))"
      ]
     },
     "metadata": {},
     "output_type": "display_data"
    },
    {
     "name": "stdout",
     "output_type": "stream",
     "text": [
      "\n",
      "Train \t\t  0.0009\t   99.81%\t   96.01%\n",
      "Test \t\t  0.3398\t   99.55%\t   89.31%\n",
      "Epoch [448/500]\n"
     ]
    },
    {
     "data": {
      "application/vnd.jupyter.widget-view+json": {
       "model_id": "80a444c4373c4719b1033aa78d2c7c03",
       "version_major": 2,
       "version_minor": 0
      },
      "text/plain": [
       "HBox(children=(FloatProgress(value=0.0, max=275.0), HTML(value='')))"
      ]
     },
     "metadata": {},
     "output_type": "display_data"
    },
    {
     "name": "stdout",
     "output_type": "stream",
     "text": [
      "\n",
      "Train \t\t  0.0012\t   99.78%\t   95.28%\n",
      "Test \t\t  0.3534\t   99.46%\t   87.36%\n",
      "Epoch [449/500]\n"
     ]
    },
    {
     "data": {
      "application/vnd.jupyter.widget-view+json": {
       "model_id": "daf927795e444d51b1893c6af0f2e960",
       "version_major": 2,
       "version_minor": 0
      },
      "text/plain": [
       "HBox(children=(FloatProgress(value=0.0, max=275.0), HTML(value='')))"
      ]
     },
     "metadata": {},
     "output_type": "display_data"
    },
    {
     "name": "stdout",
     "output_type": "stream",
     "text": [
      "\n",
      "Train \t\t  0.0008\t   99.83%\t   96.32%\n",
      "Test \t\t  0.3805\t   99.53%\t   88.85%\n",
      "Epoch [450/500]\n"
     ]
    },
    {
     "data": {
      "application/vnd.jupyter.widget-view+json": {
       "model_id": "a928b5f9f8f546cc94f9dcc952ed69b1",
       "version_major": 2,
       "version_minor": 0
      },
      "text/plain": [
       "HBox(children=(FloatProgress(value=0.0, max=275.0), HTML(value='')))"
      ]
     },
     "metadata": {},
     "output_type": "display_data"
    },
    {
     "name": "stdout",
     "output_type": "stream",
     "text": [
      "\n",
      "Train \t\t  0.0008\t   99.84%\t   96.64%\n",
      "Test \t\t  0.4086\t   99.50%\t   88.16%\n",
      "Epoch [451/500]\n"
     ]
    },
    {
     "data": {
      "application/vnd.jupyter.widget-view+json": {
       "model_id": "76a49492a50f47e7b3c0f5be33bdee64",
       "version_major": 2,
       "version_minor": 0
      },
      "text/plain": [
       "HBox(children=(FloatProgress(value=0.0, max=275.0), HTML(value='')))"
      ]
     },
     "metadata": {},
     "output_type": "display_data"
    },
    {
     "name": "stdout",
     "output_type": "stream",
     "text": [
      "\n",
      "Train \t\t  0.0011\t   99.78%\t   95.34%\n",
      "Test \t\t  0.2808\t   99.36%\t   85.37%\n",
      "Epoch [452/500]\n"
     ]
    },
    {
     "data": {
      "application/vnd.jupyter.widget-view+json": {
       "model_id": "604e4c310c614457a6b3e4b706906661",
       "version_major": 2,
       "version_minor": 0
      },
      "text/plain": [
       "HBox(children=(FloatProgress(value=0.0, max=275.0), HTML(value='')))"
      ]
     },
     "metadata": {},
     "output_type": "display_data"
    },
    {
     "name": "stdout",
     "output_type": "stream",
     "text": [
      "\n",
      "Train \t\t  0.0009\t   99.82%\t   96.13%\n",
      "Test \t\t  0.4082\t   99.55%\t   89.25%\n",
      "Epoch [453/500]\n"
     ]
    },
    {
     "data": {
      "application/vnd.jupyter.widget-view+json": {
       "model_id": "a999825b7feb4a70ae20fe4cb366a8d9",
       "version_major": 2,
       "version_minor": 0
      },
      "text/plain": [
       "HBox(children=(FloatProgress(value=0.0, max=275.0), HTML(value='')))"
      ]
     },
     "metadata": {},
     "output_type": "display_data"
    },
    {
     "name": "stdout",
     "output_type": "stream",
     "text": [
      "\n",
      "Train \t\t  0.0007\t   99.85%\t   96.85%\n",
      "Test \t\t  0.3684\t   99.44%\t   86.91%\n",
      "Epoch [454/500]\n"
     ]
    },
    {
     "data": {
      "application/vnd.jupyter.widget-view+json": {
       "model_id": "8d8ece59dd334617adb465592e957cdf",
       "version_major": 2,
       "version_minor": 0
      },
      "text/plain": [
       "HBox(children=(FloatProgress(value=0.0, max=275.0), HTML(value='')))"
      ]
     },
     "metadata": {},
     "output_type": "display_data"
    },
    {
     "name": "stdout",
     "output_type": "stream",
     "text": [
      "\n",
      "Train \t\t  0.0007\t   99.86%\t   96.98%\n",
      "Test \t\t  0.4100\t   99.56%\t   89.52%\n",
      "Epoch [455/500]\n"
     ]
    },
    {
     "data": {
      "application/vnd.jupyter.widget-view+json": {
       "model_id": "71db4092d0c448ccb2ba770833857d47",
       "version_major": 2,
       "version_minor": 0
      },
      "text/plain": [
       "HBox(children=(FloatProgress(value=0.0, max=275.0), HTML(value='')))"
      ]
     },
     "metadata": {},
     "output_type": "display_data"
    },
    {
     "name": "stdout",
     "output_type": "stream",
     "text": [
      "\n",
      "Train \t\t  0.0007\t   99.86%\t   97.08%\n",
      "Test \t\t  0.3281\t   99.54%\t   89.11%\n",
      "Epoch [456/500]\n"
     ]
    },
    {
     "data": {
      "application/vnd.jupyter.widget-view+json": {
       "model_id": "d99c2f3046894a67a45d99f21a5c1eef",
       "version_major": 2,
       "version_minor": 0
      },
      "text/plain": [
       "HBox(children=(FloatProgress(value=0.0, max=275.0), HTML(value='')))"
      ]
     },
     "metadata": {},
     "output_type": "display_data"
    },
    {
     "name": "stdout",
     "output_type": "stream",
     "text": [
      "\n",
      "Train \t\t  0.0008\t   99.86%\t   96.91%\n",
      "Test \t\t  0.3304\t   99.43%\t   86.85%\n",
      "Epoch [457/500]\n"
     ]
    },
    {
     "data": {
      "application/vnd.jupyter.widget-view+json": {
       "model_id": "bd04f37df08c48cf923f589fd7f82d27",
       "version_major": 2,
       "version_minor": 0
      },
      "text/plain": [
       "HBox(children=(FloatProgress(value=0.0, max=275.0), HTML(value='')))"
      ]
     },
     "metadata": {},
     "output_type": "display_data"
    },
    {
     "name": "stdout",
     "output_type": "stream",
     "text": [
      "\n",
      "Train \t\t  0.0008\t   99.82%\t   96.23%\n",
      "Test \t\t  0.4309\t   99.49%\t   87.96%\n",
      "Epoch [458/500]\n"
     ]
    },
    {
     "data": {
      "application/vnd.jupyter.widget-view+json": {
       "model_id": "d4c274a23f624ddcb441ed97ef06ca1a",
       "version_major": 2,
       "version_minor": 0
      },
      "text/plain": [
       "HBox(children=(FloatProgress(value=0.0, max=275.0), HTML(value='')))"
      ]
     },
     "metadata": {},
     "output_type": "display_data"
    },
    {
     "name": "stdout",
     "output_type": "stream",
     "text": [
      "\n",
      "Train \t\t  0.0008\t   99.84%\t   96.54%\n",
      "Test \t\t  0.4274\t   99.57%\t   89.74%\n",
      "Epoch [459/500]\n"
     ]
    },
    {
     "data": {
      "application/vnd.jupyter.widget-view+json": {
       "model_id": "684cb56c04134c139c66eede32cd42e4",
       "version_major": 2,
       "version_minor": 0
      },
      "text/plain": [
       "HBox(children=(FloatProgress(value=0.0, max=275.0), HTML(value='')))"
      ]
     },
     "metadata": {},
     "output_type": "display_data"
    },
    {
     "name": "stdout",
     "output_type": "stream",
     "text": [
      "\n",
      "Train \t\t  0.0008\t   99.85%\t   96.74%\n",
      "Test \t\t  0.4569\t   98.99%\t   78.71%\n",
      "Epoch [460/500]\n"
     ]
    },
    {
     "data": {
      "application/vnd.jupyter.widget-view+json": {
       "model_id": "58a11d7993044f8fa8dfc1cc6a554fce",
       "version_major": 2,
       "version_minor": 0
      },
      "text/plain": [
       "HBox(children=(FloatProgress(value=0.0, max=275.0), HTML(value='')))"
      ]
     },
     "metadata": {},
     "output_type": "display_data"
    },
    {
     "name": "stdout",
     "output_type": "stream",
     "text": [
      "\n",
      "Train \t\t  0.0011\t   99.76%\t   95.02%\n",
      "Test \t\t  0.3538\t   99.54%\t   89.12%\n",
      "Epoch [461/500]\n"
     ]
    },
    {
     "data": {
      "application/vnd.jupyter.widget-view+json": {
       "model_id": "e8548d2aa8b8475789cd80a6e61cc6f5",
       "version_major": 2,
       "version_minor": 0
      },
      "text/plain": [
       "HBox(children=(FloatProgress(value=0.0, max=275.0), HTML(value='')))"
      ]
     },
     "metadata": {},
     "output_type": "display_data"
    },
    {
     "name": "stdout",
     "output_type": "stream",
     "text": [
      "\n",
      "Train \t\t  0.0007\t   99.85%\t   96.74%\n",
      "Test \t\t  0.4031\t   99.51%\t   88.37%\n",
      "Epoch [462/500]\n"
     ]
    },
    {
     "data": {
      "application/vnd.jupyter.widget-view+json": {
       "model_id": "0016a83e225b4c7f9505308865358707",
       "version_major": 2,
       "version_minor": 0
      },
      "text/plain": [
       "HBox(children=(FloatProgress(value=0.0, max=275.0), HTML(value='')))"
      ]
     },
     "metadata": {},
     "output_type": "display_data"
    },
    {
     "name": "stdout",
     "output_type": "stream",
     "text": [
      "\n",
      "Train \t\t  0.0008\t   99.85%\t   96.67%\n",
      "Test \t\t  0.3605\t   99.29%\t   84.14%\n",
      "Epoch [463/500]\n"
     ]
    },
    {
     "data": {
      "application/vnd.jupyter.widget-view+json": {
       "model_id": "0811659b337347969c58778897f4d2b3",
       "version_major": 2,
       "version_minor": 0
      },
      "text/plain": [
       "HBox(children=(FloatProgress(value=0.0, max=275.0), HTML(value='')))"
      ]
     },
     "metadata": {},
     "output_type": "display_data"
    },
    {
     "name": "stdout",
     "output_type": "stream",
     "text": [
      "\n",
      "Train \t\t  0.0015\t   99.71%\t   93.91%\n",
      "Test \t\t  0.6637\t   98.99%\t   78.46%\n",
      "Epoch [464/500]\n"
     ]
    },
    {
     "data": {
      "application/vnd.jupyter.widget-view+json": {
       "model_id": "4729c07591c349f9a7c85c55f3f70338",
       "version_major": 2,
       "version_minor": 0
      },
      "text/plain": [
       "HBox(children=(FloatProgress(value=0.0, max=275.0), HTML(value='')))"
      ]
     },
     "metadata": {},
     "output_type": "display_data"
    },
    {
     "name": "stdout",
     "output_type": "stream",
     "text": [
      "\n",
      "Train \t\t  0.0013\t   99.72%\t   94.09%\n",
      "Test \t\t  0.3931\t   99.45%\t   87.09%\n",
      "Epoch [465/500]\n"
     ]
    },
    {
     "data": {
      "application/vnd.jupyter.widget-view+json": {
       "model_id": "05931b15929641e7985f5faf6600ebe7",
       "version_major": 2,
       "version_minor": 0
      },
      "text/plain": [
       "HBox(children=(FloatProgress(value=0.0, max=275.0), HTML(value='')))"
      ]
     },
     "metadata": {},
     "output_type": "display_data"
    },
    {
     "name": "stdout",
     "output_type": "stream",
     "text": [
      "\n",
      "Train \t\t  0.0008\t   99.83%\t   96.41%\n",
      "Test \t\t  0.4856\t   99.54%\t   89.05%\n",
      "Epoch [466/500]\n"
     ]
    },
    {
     "data": {
      "application/vnd.jupyter.widget-view+json": {
       "model_id": "f073061a58284e819b207d3ba23408f4",
       "version_major": 2,
       "version_minor": 0
      },
      "text/plain": [
       "HBox(children=(FloatProgress(value=0.0, max=275.0), HTML(value='')))"
      ]
     },
     "metadata": {},
     "output_type": "display_data"
    },
    {
     "name": "stdout",
     "output_type": "stream",
     "text": [
      "\n",
      "Train \t\t  0.0008\t   99.84%\t   96.55%\n",
      "Test \t\t  0.4392\t   99.49%\t   88.01%\n",
      "Epoch [467/500]\n"
     ]
    },
    {
     "data": {
      "application/vnd.jupyter.widget-view+json": {
       "model_id": "60ee9797f47a42158bedd7b14df3b12c",
       "version_major": 2,
       "version_minor": 0
      },
      "text/plain": [
       "HBox(children=(FloatProgress(value=0.0, max=275.0), HTML(value='')))"
      ]
     },
     "metadata": {},
     "output_type": "display_data"
    },
    {
     "name": "stdout",
     "output_type": "stream",
     "text": [
      "\n",
      "Train \t\t  0.0007\t   99.85%\t   96.72%\n",
      "Test \t\t  0.4400\t   99.56%\t   89.55%\n",
      "Epoch [468/500]\n"
     ]
    },
    {
     "data": {
      "application/vnd.jupyter.widget-view+json": {
       "model_id": "a0814265f5114a3d8af5d8470098f036",
       "version_major": 2,
       "version_minor": 0
      },
      "text/plain": [
       "HBox(children=(FloatProgress(value=0.0, max=275.0), HTML(value='')))"
      ]
     },
     "metadata": {},
     "output_type": "display_data"
    },
    {
     "name": "stdout",
     "output_type": "stream",
     "text": [
      "\n",
      "Train \t\t  0.0007\t   99.85%\t   96.85%\n",
      "Test \t\t  0.5360\t   99.61%\t   90.48%\n",
      "Epoch [469/500]\n"
     ]
    },
    {
     "data": {
      "application/vnd.jupyter.widget-view+json": {
       "model_id": "5b76b8de9b0640e6a875d9b878de4305",
       "version_major": 2,
       "version_minor": 0
      },
      "text/plain": [
       "HBox(children=(FloatProgress(value=0.0, max=275.0), HTML(value='')))"
      ]
     },
     "metadata": {},
     "output_type": "display_data"
    },
    {
     "name": "stdout",
     "output_type": "stream",
     "text": [
      "\n",
      "Train \t\t  0.0014\t   99.74%\t   94.61%\n",
      "Test \t\t  0.2641\t   98.75%\t   75.23%\n",
      "Epoch [470/500]\n"
     ]
    },
    {
     "data": {
      "application/vnd.jupyter.widget-view+json": {
       "model_id": "6cefe9ba74d14561bfb54c590deece8b",
       "version_major": 2,
       "version_minor": 0
      },
      "text/plain": [
       "HBox(children=(FloatProgress(value=0.0, max=275.0), HTML(value='')))"
      ]
     },
     "metadata": {},
     "output_type": "display_data"
    },
    {
     "name": "stdout",
     "output_type": "stream",
     "text": [
      "\n",
      "Train \t\t  0.0020\t   99.63%\t   92.31%\n",
      "Test \t\t  0.3267\t   99.31%\t   84.41%\n",
      "Epoch [471/500]\n"
     ]
    },
    {
     "data": {
      "application/vnd.jupyter.widget-view+json": {
       "model_id": "4bf2ff640f0f4ec296409b23397d2f38",
       "version_major": 2,
       "version_minor": 0
      },
      "text/plain": [
       "HBox(children=(FloatProgress(value=0.0, max=275.0), HTML(value='')))"
      ]
     },
     "metadata": {},
     "output_type": "display_data"
    },
    {
     "name": "stdout",
     "output_type": "stream",
     "text": [
      "\n",
      "Train \t\t  0.0035\t   99.42%\t   88.59%\n",
      "Test \t\t  0.3554\t   99.09%\t   80.44%\n",
      "Epoch [472/500]\n"
     ]
    },
    {
     "data": {
      "application/vnd.jupyter.widget-view+json": {
       "model_id": "fdb9a3ba2fbc4591b4d1311beaaebe42",
       "version_major": 2,
       "version_minor": 0
      },
      "text/plain": [
       "HBox(children=(FloatProgress(value=0.0, max=275.0), HTML(value='')))"
      ]
     },
     "metadata": {},
     "output_type": "display_data"
    },
    {
     "name": "stdout",
     "output_type": "stream",
     "text": [
      "\n",
      "Train \t\t  0.0013\t   99.73%\t   94.30%\n",
      "Test \t\t  0.3449\t   99.29%\t   84.07%\n",
      "Epoch [473/500]\n"
     ]
    },
    {
     "data": {
      "application/vnd.jupyter.widget-view+json": {
       "model_id": "611be1ba467641c0bb4680eaf1e2b644",
       "version_major": 2,
       "version_minor": 0
      },
      "text/plain": [
       "HBox(children=(FloatProgress(value=0.0, max=275.0), HTML(value='')))"
      ]
     },
     "metadata": {},
     "output_type": "display_data"
    },
    {
     "name": "stdout",
     "output_type": "stream",
     "text": [
      "\n",
      "Train \t\t  0.0010\t   99.78%\t   95.28%\n",
      "Test \t\t  0.2635\t   99.37%\t   85.77%\n",
      "Epoch [474/500]\n"
     ]
    },
    {
     "data": {
      "application/vnd.jupyter.widget-view+json": {
       "model_id": "277b9ffd12b4463db274d95404c4d32d",
       "version_major": 2,
       "version_minor": 0
      },
      "text/plain": [
       "HBox(children=(FloatProgress(value=0.0, max=275.0), HTML(value='')))"
      ]
     },
     "metadata": {},
     "output_type": "display_data"
    },
    {
     "name": "stdout",
     "output_type": "stream",
     "text": [
      "\n",
      "Train \t\t  0.0009\t   99.81%\t   96.00%\n",
      "Test \t\t  0.3324\t   99.49%\t   87.95%\n",
      "Epoch [475/500]\n"
     ]
    },
    {
     "data": {
      "application/vnd.jupyter.widget-view+json": {
       "model_id": "9282f2038fb942598268a5366db6fc53",
       "version_major": 2,
       "version_minor": 0
      },
      "text/plain": [
       "HBox(children=(FloatProgress(value=0.0, max=275.0), HTML(value='')))"
      ]
     },
     "metadata": {},
     "output_type": "display_data"
    },
    {
     "name": "stdout",
     "output_type": "stream",
     "text": [
      "\n",
      "Train \t\t  0.0009\t   99.84%\t   96.48%\n",
      "Test \t\t  0.3309\t   99.47%\t   87.56%\n",
      "Epoch [476/500]\n"
     ]
    },
    {
     "data": {
      "application/vnd.jupyter.widget-view+json": {
       "model_id": "66835d5be63446c6aa213cf7875e51f0",
       "version_major": 2,
       "version_minor": 0
      },
      "text/plain": [
       "HBox(children=(FloatProgress(value=0.0, max=275.0), HTML(value='')))"
      ]
     },
     "metadata": {},
     "output_type": "display_data"
    },
    {
     "name": "stdout",
     "output_type": "stream",
     "text": [
      "\n",
      "Train \t\t  0.0009\t   99.80%\t   95.77%\n",
      "Test \t\t  0.3957\t   99.49%\t   87.92%\n",
      "Epoch [477/500]\n"
     ]
    },
    {
     "data": {
      "application/vnd.jupyter.widget-view+json": {
       "model_id": "4214c571480245888be3b50c30b58b1b",
       "version_major": 2,
       "version_minor": 0
      },
      "text/plain": [
       "HBox(children=(FloatProgress(value=0.0, max=275.0), HTML(value='')))"
      ]
     },
     "metadata": {},
     "output_type": "display_data"
    },
    {
     "name": "stdout",
     "output_type": "stream",
     "text": [
      "\n",
      "Train \t\t  0.0008\t   99.84%\t   96.67%\n",
      "Test \t\t  0.3856\t   99.53%\t   88.80%\n",
      "Epoch [478/500]\n"
     ]
    },
    {
     "data": {
      "application/vnd.jupyter.widget-view+json": {
       "model_id": "d2ecadf791794905b158ce1ee81ac2e1",
       "version_major": 2,
       "version_minor": 0
      },
      "text/plain": [
       "HBox(children=(FloatProgress(value=0.0, max=275.0), HTML(value='')))"
      ]
     },
     "metadata": {},
     "output_type": "display_data"
    },
    {
     "name": "stdout",
     "output_type": "stream",
     "text": [
      "\n",
      "Train \t\t  0.0007\t   99.86%\t   96.97%\n",
      "Test \t\t  0.4659\t   99.58%\t   89.81%\n",
      "Epoch [479/500]\n"
     ]
    },
    {
     "data": {
      "application/vnd.jupyter.widget-view+json": {
       "model_id": "ea282d20975941ee99df0cbca03f1503",
       "version_major": 2,
       "version_minor": 0
      },
      "text/plain": [
       "HBox(children=(FloatProgress(value=0.0, max=275.0), HTML(value='')))"
      ]
     },
     "metadata": {},
     "output_type": "display_data"
    },
    {
     "name": "stdout",
     "output_type": "stream",
     "text": [
      "\n",
      "Train \t\t  0.0006\t   99.87%\t   97.16%\n",
      "Test \t\t  0.4664\t   99.59%\t   90.10%\n",
      "Epoch [480/500]\n"
     ]
    },
    {
     "data": {
      "application/vnd.jupyter.widget-view+json": {
       "model_id": "d69ebd9821424cd2b8eef67d69c8cda8",
       "version_major": 2,
       "version_minor": 0
      },
      "text/plain": [
       "HBox(children=(FloatProgress(value=0.0, max=275.0), HTML(value='')))"
      ]
     },
     "metadata": {},
     "output_type": "display_data"
    },
    {
     "name": "stdout",
     "output_type": "stream",
     "text": [
      "\n",
      "Train \t\t  0.0006\t   99.87%\t   97.22%\n",
      "Test \t\t  0.4303\t   99.55%\t   89.26%\n",
      "Epoch [481/500]\n"
     ]
    },
    {
     "data": {
      "application/vnd.jupyter.widget-view+json": {
       "model_id": "2dd7d5c0e85b45578226393d65db2c52",
       "version_major": 2,
       "version_minor": 0
      },
      "text/plain": [
       "HBox(children=(FloatProgress(value=0.0, max=275.0), HTML(value='')))"
      ]
     },
     "metadata": {},
     "output_type": "display_data"
    },
    {
     "name": "stdout",
     "output_type": "stream",
     "text": [
      "\n",
      "Train \t\t  0.0006\t   99.88%\t   97.33%\n",
      "Test \t\t  0.4606\t   99.62%\t   90.66%\n",
      "Epoch [482/500]\n"
     ]
    },
    {
     "data": {
      "application/vnd.jupyter.widget-view+json": {
       "model_id": "08823999eb9643d69fae15fbf1b47c85",
       "version_major": 2,
       "version_minor": 0
      },
      "text/plain": [
       "HBox(children=(FloatProgress(value=0.0, max=275.0), HTML(value='')))"
      ]
     },
     "metadata": {},
     "output_type": "display_data"
    },
    {
     "name": "stdout",
     "output_type": "stream",
     "text": [
      "\n",
      "Train \t\t  0.0006\t   99.89%\t   97.53%\n",
      "Test \t\t  0.4662\t   99.61%\t   90.56%\n",
      "Epoch [483/500]\n"
     ]
    },
    {
     "data": {
      "application/vnd.jupyter.widget-view+json": {
       "model_id": "1798d18cf8294b678cd72edae620f0f6",
       "version_major": 2,
       "version_minor": 0
      },
      "text/plain": [
       "HBox(children=(FloatProgress(value=0.0, max=275.0), HTML(value='')))"
      ]
     },
     "metadata": {},
     "output_type": "display_data"
    },
    {
     "name": "stdout",
     "output_type": "stream",
     "text": [
      "\n",
      "Train \t\t  0.0006\t   99.88%\t   97.42%\n",
      "Test \t\t  0.4620\t   99.60%\t   90.30%\n",
      "Epoch [484/500]\n"
     ]
    },
    {
     "data": {
      "application/vnd.jupyter.widget-view+json": {
       "model_id": "b19c620eba904fd8a509196260c53b01",
       "version_major": 2,
       "version_minor": 0
      },
      "text/plain": [
       "HBox(children=(FloatProgress(value=0.0, max=275.0), HTML(value='')))"
      ]
     },
     "metadata": {},
     "output_type": "display_data"
    },
    {
     "name": "stdout",
     "output_type": "stream",
     "text": [
      "\n",
      "Train \t\t  0.0006\t   99.88%\t   97.39%\n",
      "Test \t\t  0.4522\t   99.61%\t   90.57%\n",
      "Epoch [485/500]\n"
     ]
    },
    {
     "data": {
      "application/vnd.jupyter.widget-view+json": {
       "model_id": "78252ad70aaa47819efb9215f93776f5",
       "version_major": 2,
       "version_minor": 0
      },
      "text/plain": [
       "HBox(children=(FloatProgress(value=0.0, max=275.0), HTML(value='')))"
      ]
     },
     "metadata": {},
     "output_type": "display_data"
    },
    {
     "name": "stdout",
     "output_type": "stream",
     "text": [
      "\n",
      "Train \t\t  0.0038\t   99.41%\t   88.42%\n",
      "Test \t\t  0.1677\t   99.10%\t   80.77%\n",
      "Epoch [486/500]\n"
     ]
    },
    {
     "data": {
      "application/vnd.jupyter.widget-view+json": {
       "model_id": "f60b638e72c14e49b91a9f137452f7cb",
       "version_major": 2,
       "version_minor": 0
      },
      "text/plain": [
       "HBox(children=(FloatProgress(value=0.0, max=275.0), HTML(value='')))"
      ]
     },
     "metadata": {},
     "output_type": "display_data"
    },
    {
     "name": "stdout",
     "output_type": "stream",
     "text": [
      "\n",
      "Train \t\t  0.0013\t   99.71%\t   93.88%\n",
      "Test \t\t  0.2194\t   99.29%\t   84.12%\n",
      "Epoch [487/500]\n"
     ]
    },
    {
     "data": {
      "application/vnd.jupyter.widget-view+json": {
       "model_id": "98556a7b00c04a0bb5c13583ff9c391b",
       "version_major": 2,
       "version_minor": 0
      },
      "text/plain": [
       "HBox(children=(FloatProgress(value=0.0, max=275.0), HTML(value='')))"
      ]
     },
     "metadata": {},
     "output_type": "display_data"
    },
    {
     "name": "stdout",
     "output_type": "stream",
     "text": [
      "\n",
      "Train \t\t  0.0010\t   99.78%\t   95.40%\n",
      "Test \t\t  0.2586\t   99.41%\t   86.42%\n",
      "Epoch [488/500]\n"
     ]
    },
    {
     "data": {
      "application/vnd.jupyter.widget-view+json": {
       "model_id": "ea4c9ebfe9d741bfbf5dddf04f712d0a",
       "version_major": 2,
       "version_minor": 0
      },
      "text/plain": [
       "HBox(children=(FloatProgress(value=0.0, max=275.0), HTML(value='')))"
      ]
     },
     "metadata": {},
     "output_type": "display_data"
    },
    {
     "name": "stdout",
     "output_type": "stream",
     "text": [
      "\n",
      "Train \t\t  0.0010\t   99.79%\t   95.45%\n",
      "Test \t\t  0.2909\t   99.47%\t   87.66%\n",
      "Epoch [489/500]\n"
     ]
    },
    {
     "data": {
      "application/vnd.jupyter.widget-view+json": {
       "model_id": "aa65a04b09ae459386cdb9836c2df465",
       "version_major": 2,
       "version_minor": 0
      },
      "text/plain": [
       "HBox(children=(FloatProgress(value=0.0, max=275.0), HTML(value='')))"
      ]
     },
     "metadata": {},
     "output_type": "display_data"
    },
    {
     "name": "stdout",
     "output_type": "stream",
     "text": [
      "\n",
      "Train \t\t  0.0008\t   99.83%\t   96.40%\n",
      "Test \t\t  0.2989\t   99.50%\t   88.34%\n",
      "Epoch [490/500]\n"
     ]
    },
    {
     "data": {
      "application/vnd.jupyter.widget-view+json": {
       "model_id": "e24964273b2745e0a6d01af6129b4293",
       "version_major": 2,
       "version_minor": 0
      },
      "text/plain": [
       "HBox(children=(FloatProgress(value=0.0, max=275.0), HTML(value='')))"
      ]
     },
     "metadata": {},
     "output_type": "display_data"
    },
    {
     "name": "stdout",
     "output_type": "stream",
     "text": [
      "\n",
      "Train \t\t  0.0008\t   99.84%\t   96.48%\n",
      "Test \t\t  0.3166\t   99.51%\t   88.39%\n",
      "Epoch [491/500]\n"
     ]
    },
    {
     "data": {
      "application/vnd.jupyter.widget-view+json": {
       "model_id": "30c5117210644040908edd3d7999a5fc",
       "version_major": 2,
       "version_minor": 0
      },
      "text/plain": [
       "HBox(children=(FloatProgress(value=0.0, max=275.0), HTML(value='')))"
      ]
     },
     "metadata": {},
     "output_type": "display_data"
    },
    {
     "name": "stdout",
     "output_type": "stream",
     "text": [
      "\n",
      "Train \t\t  0.0017\t   99.73%\t   94.38%\n",
      "Test \t\t  0.3531\t   99.47%\t   87.48%\n",
      "Epoch [492/500]\n"
     ]
    },
    {
     "data": {
      "application/vnd.jupyter.widget-view+json": {
       "model_id": "065ac350fd0c444084a34461b7c693bc",
       "version_major": 2,
       "version_minor": 0
      },
      "text/plain": [
       "HBox(children=(FloatProgress(value=0.0, max=275.0), HTML(value='')))"
      ]
     },
     "metadata": {},
     "output_type": "display_data"
    },
    {
     "name": "stdout",
     "output_type": "stream",
     "text": [
      "\n",
      "Train \t\t  0.0009\t   99.81%\t   95.98%\n",
      "Test \t\t  0.3053\t   99.50%\t   88.36%\n",
      "Epoch [493/500]\n"
     ]
    },
    {
     "data": {
      "application/vnd.jupyter.widget-view+json": {
       "model_id": "a99cfe9102dd462fae62b0d767d9fcfc",
       "version_major": 2,
       "version_minor": 0
      },
      "text/plain": [
       "HBox(children=(FloatProgress(value=0.0, max=275.0), HTML(value='')))"
      ]
     },
     "metadata": {},
     "output_type": "display_data"
    },
    {
     "name": "stdout",
     "output_type": "stream",
     "text": [
      "\n",
      "Train \t\t  0.0008\t   99.84%\t   96.59%\n",
      "Test \t\t  0.3822\t   99.53%\t   88.69%\n",
      "Epoch [494/500]\n"
     ]
    },
    {
     "data": {
      "application/vnd.jupyter.widget-view+json": {
       "model_id": "647f7ac37d85444e80a0d1838c68454c",
       "version_major": 2,
       "version_minor": 0
      },
      "text/plain": [
       "HBox(children=(FloatProgress(value=0.0, max=275.0), HTML(value='')))"
      ]
     },
     "metadata": {},
     "output_type": "display_data"
    },
    {
     "name": "stdout",
     "output_type": "stream",
     "text": [
      "\n",
      "Train \t\t  0.0007\t   99.86%\t   96.95%\n",
      "Test \t\t  0.4012\t   99.56%\t   89.36%\n",
      "Epoch [495/500]\n"
     ]
    },
    {
     "data": {
      "application/vnd.jupyter.widget-view+json": {
       "model_id": "b4924c65310a40668d2f56ea1c203276",
       "version_major": 2,
       "version_minor": 0
      },
      "text/plain": [
       "HBox(children=(FloatProgress(value=0.0, max=275.0), HTML(value='')))"
      ]
     },
     "metadata": {},
     "output_type": "display_data"
    },
    {
     "name": "stdout",
     "output_type": "stream",
     "text": [
      "\n",
      "Train \t\t  0.0008\t   99.86%\t   97.05%\n",
      "Test \t\t  0.3883\t   99.54%\t   89.02%\n",
      "Epoch [496/500]\n"
     ]
    },
    {
     "data": {
      "application/vnd.jupyter.widget-view+json": {
       "model_id": "877107da11b84a88a226ee150d0f7e7b",
       "version_major": 2,
       "version_minor": 0
      },
      "text/plain": [
       "HBox(children=(FloatProgress(value=0.0, max=275.0), HTML(value='')))"
      ]
     },
     "metadata": {},
     "output_type": "display_data"
    },
    {
     "name": "stdout",
     "output_type": "stream",
     "text": [
      "\n",
      "Train \t\t  0.0013\t   99.77%\t   95.07%\n",
      "Test \t\t  0.3518\t   99.49%\t   88.04%\n",
      "Epoch [497/500]\n"
     ]
    },
    {
     "data": {
      "application/vnd.jupyter.widget-view+json": {
       "model_id": "539ab25a523f41a3a68e5e3f4067af7f",
       "version_major": 2,
       "version_minor": 0
      },
      "text/plain": [
       "HBox(children=(FloatProgress(value=0.0, max=275.0), HTML(value='')))"
      ]
     },
     "metadata": {},
     "output_type": "display_data"
    },
    {
     "name": "stdout",
     "output_type": "stream",
     "text": [
      "\n",
      "Train \t\t  0.0008\t   99.84%\t   96.65%\n",
      "Test \t\t  0.3879\t   99.58%\t   89.80%\n",
      "Epoch [498/500]\n"
     ]
    },
    {
     "data": {
      "application/vnd.jupyter.widget-view+json": {
       "model_id": "4ab8514b3c3246bbb30850a10f31ef75",
       "version_major": 2,
       "version_minor": 0
      },
      "text/plain": [
       "HBox(children=(FloatProgress(value=0.0, max=275.0), HTML(value='')))"
      ]
     },
     "metadata": {},
     "output_type": "display_data"
    },
    {
     "name": "stdout",
     "output_type": "stream",
     "text": [
      "\n",
      "Train \t\t  0.0007\t   99.86%\t   97.06%\n",
      "Test \t\t  0.4736\t   99.59%\t   90.00%\n",
      "Epoch [499/500]\n"
     ]
    },
    {
     "data": {
      "application/vnd.jupyter.widget-view+json": {
       "model_id": "7beab3cdd63d40349dbe58101f3e4cda",
       "version_major": 2,
       "version_minor": 0
      },
      "text/plain": [
       "HBox(children=(FloatProgress(value=0.0, max=275.0), HTML(value='')))"
      ]
     },
     "metadata": {},
     "output_type": "display_data"
    },
    {
     "name": "stdout",
     "output_type": "stream",
     "text": [
      "\n",
      "Train \t\t  0.0006\t   99.87%\t   97.28%\n",
      "Test \t\t  0.5245\t   99.62%\t   90.69%\n",
      "Epoch [500/500]\n"
     ]
    },
    {
     "data": {
      "application/vnd.jupyter.widget-view+json": {
       "model_id": "9da803e3c0d7487099391b9b0b9da8ef",
       "version_major": 2,
       "version_minor": 0
      },
      "text/plain": [
       "HBox(children=(FloatProgress(value=0.0, max=275.0), HTML(value='')))"
      ]
     },
     "metadata": {},
     "output_type": "display_data"
    },
    {
     "name": "stdout",
     "output_type": "stream",
     "text": [
      "\n",
      "Train \t\t  0.0006\t   99.88%\t   97.37%\n",
      "Test \t\t  0.5021\t   99.61%\t   90.53%\n",
      "Best model at Epoch 499 with F1 score 90.69%\n"
     ]
    }
   ],
   "source": [
    "total_epochs = 500\n",
    "\n",
    "print(\"\\t\\t Avg.Loss \\t Accuracy \\t Lane F1 Score\")\n",
    "model.reset_train_stats()\n",
    "\n",
    "for i in range(1,total_epochs+1):\n",
    "\n",
    "    print(\"Epoch [{}/{}]\".format(i,total_epochs))\n",
    "\n",
    "    model.net.train()\n",
    "    # Train step\n",
    "    for images,labels in tqdm(train_loader):\n",
    "        model.train_step(images,labels)\n",
    "    model.print_stats(mode= \"Train\")\n",
    "    model.save_model(i)\n",
    "    \n",
    "    # Validation step\n",
    "    model.net.eval()\n",
    "    for image,labels in test_loader:\n",
    "        model.validation_step(image,labels)\n",
    "    model.print_stats(mode=\"Test\")\n",
    "    \n",
    "    # After every 5 epochs, all saved models except the best model will\n",
    "    # be deleted. This is because the storage space in student accounts \n",
    "    # in the lab is limited to 50GB.\n",
    "    if i%5 == 0:\n",
    "        model.cleanup()\n",
    "\n",
    "# Final model cleanup incase total epochs is not divisible by 5\n",
    "model.cleanup(final_step=True)\n"
   ]
  },
  {
   "cell_type": "code",
   "execution_count": null,
   "metadata": {},
   "outputs": [],
   "source": []
  },
  {
   "cell_type": "code",
   "execution_count": null,
   "metadata": {},
   "outputs": [],
   "source": []
  },
  {
   "cell_type": "code",
   "execution_count": null,
   "metadata": {},
   "outputs": [],
   "source": []
  }
 ],
 "metadata": {
  "interpreter": {
   "hash": "cf6d46fbea2b8ea36906cea8468d86be9f509ed678143ae4a397207b171bb40a"
  },
  "kernelspec": {
   "display_name": "Python 3",
   "language": "python",
   "name": "python3"
  },
  "language_info": {
   "codemirror_mode": {
    "name": "ipython",
    "version": 3
   },
   "file_extension": ".py",
   "mimetype": "text/x-python",
   "name": "python",
   "nbconvert_exporter": "python",
   "pygments_lexer": "ipython3",
   "version": "3.7.6"
  }
 },
 "nbformat": 4,
 "nbformat_minor": 2
}
